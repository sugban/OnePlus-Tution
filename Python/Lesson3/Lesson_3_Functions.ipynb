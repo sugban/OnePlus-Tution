{
  "nbformat": 4,
  "nbformat_minor": 0,
  "metadata": {
    "colab": {
      "name": "Lesson 3: Functions",
      "provenance": [],
      "include_colab_link": true
    },
    "kernelspec": {
      "name": "python3",
      "display_name": "Python 3"
    },
    "language_info": {
      "name": "python"
    }
  },
  "cells": [
    {
      "cell_type": "markdown",
      "metadata": {
        "id": "view-in-github",
        "colab_type": "text"
      },
      "source": [
        "<a href=\"https://colab.research.google.com/github/sugban/OnePlus-Tution/blob/main/Python/Lesson3/Lesson_3_Functions.ipynb\" target=\"_parent\"><img src=\"https://colab.research.google.com/assets/colab-badge.svg\" alt=\"Open In Colab\"/></a>"
      ]
    },
    {
      "cell_type": "markdown",
      "metadata": {
        "id": "kiLEw2Axo8Ds"
      },
      "source": [
        "Returns the absolute value of a number. In case a complex number is passed, the magnitude of that number is returned. <br>\n",
        "abs()"
      ]
    },
    {
      "cell_type": "code",
      "metadata": {
        "id": "dwnkAUvYo63E",
        "colab": {
          "base_uri": "https://localhost:8080/"
        },
        "outputId": "6afc43a3-5aec-455a-96de-122f4f1ecc7d"
      },
      "source": [
        "abs(-3)"
      ],
      "execution_count": null,
      "outputs": [
        {
          "output_type": "execute_result",
          "data": {
            "text/plain": [
              "3"
            ]
          },
          "metadata": {
            "tags": []
          },
          "execution_count": 1
        }
      ]
    },
    {
      "cell_type": "markdown",
      "metadata": {
        "id": "oL4KijVo4-3l"
      },
      "source": [
        "Returns the specified iterator with the specified function applied to each item. map() is useful when you need to apply a transformation function to each item in an iterable and transform them into a new iterable."
      ]
    },
    {
      "cell_type": "code",
      "metadata": {
        "id": "t4ddZ3l87y-B",
        "colab": {
          "base_uri": "https://localhost:8080/"
        },
        "outputId": "483550d8-6061-40b7-8fe2-9640f59c7a5c"
      },
      "source": [
        "lst = [1,2,3,4,5,6,7,8,9,10]\n",
        "\n",
        "def myfunc(a):\n",
        "  return a**a\n",
        "\n",
        "new_lst = []\n",
        "for i in lst:\n",
        "  new_lst.append(myfunc(i))\n",
        "\n",
        "print(new_lst)"
      ],
      "execution_count": null,
      "outputs": [
        {
          "output_type": "stream",
          "text": [
            "[1, 4, 27, 256, 3125, 46656, 823543, 16777216, 387420489, 10000000000]\n"
          ],
          "name": "stdout"
        }
      ]
    },
    {
      "cell_type": "code",
      "metadata": {
        "id": "d1mQwOJK5Cma",
        "colab": {
          "base_uri": "https://localhost:8080/"
        },
        "outputId": "89f18ea8-af0a-48f6-b6d5-b1bf58de3498"
      },
      "source": [
        "lst = [1,2,3,4,5,6,7,8,9,10]\n",
        "\n",
        "def myfunc(a):\n",
        "  return a**a\n",
        "\n",
        "x = list(map(myfunc, lst))\n",
        "\n",
        "print(x)\n"
      ],
      "execution_count": null,
      "outputs": [
        {
          "output_type": "stream",
          "text": [
            "[1, 4, 27, 256, 3125, 46656, 823543, 16777216, 387420489, 10000000000]\n"
          ],
          "name": "stdout"
        }
      ]
    },
    {
      "cell_type": "markdown",
      "metadata": {
        "id": "wGYdX3Fxpzr-"
      },
      "source": [
        "Returns the reverse order of the value (string, list,tuple)<br>\n",
        "reversed()\n"
      ]
    },
    {
      "cell_type": "code",
      "metadata": {
        "id": "QKQlACIiwu93",
        "colab": {
          "base_uri": "https://localhost:8080/"
        },
        "outputId": "09c68da1-4275-460d-fb87-a9aabed0fd6b"
      },
      "source": [
        "alph = [\"a\", \"b\", \"c\", \"d\"]\n",
        "ralph = reversed(alph)\n",
        "for x in ralph:\n",
        "  print(x, end =' ')"
      ],
      "execution_count": null,
      "outputs": [
        {
          "output_type": "stream",
          "text": [
            "d c b a "
          ],
          "name": "stdout"
        }
      ]
    },
    {
      "cell_type": "code",
      "metadata": {
        "id": "dy0Hv87yqBde",
        "colab": {
          "base_uri": "https://localhost:8080/"
        },
        "outputId": "cd4c20c2-61fe-41b4-f970-182325c2c230"
      },
      "source": [
        "txt = 'Coding'\n",
        "rtxt = reversed(txt)\n",
        "for i in rtxt:\n",
        "  print(i,end='')"
      ],
      "execution_count": null,
      "outputs": [
        {
          "output_type": "stream",
          "text": [
            "gnidoC"
          ],
          "name": "stdout"
        }
      ]
    },
    {
      "cell_type": "markdown",
      "metadata": {
        "id": "RwQlIAobqYAX"
      },
      "source": [
        "Returns the sorted order <br>\n",
        "sorted()"
      ]
    },
    {
      "cell_type": "code",
      "metadata": {
        "id": "QJQBi0yrxEvJ",
        "colab": {
          "base_uri": "https://localhost:8080/"
        },
        "outputId": "89a731d1-9039-4c3f-b685-4d2be019b5a2"
      },
      "source": [
        "a = (\"b\", \"g\", \"a\", \"d\", \"f\", \"c\", \"h\", \"e\")\n",
        "x = sorted(a)\n",
        "print(x)"
      ],
      "execution_count": null,
      "outputs": [
        {
          "output_type": "stream",
          "text": [
            "['a', 'b', 'c', 'd', 'e', 'f', 'g', 'h']\n"
          ],
          "name": "stdout"
        }
      ]
    },
    {
      "cell_type": "markdown",
      "metadata": {
        "id": "tDnOSko_qzDB"
      },
      "source": [
        "Returns the sum, minimun and maximum value of an iterator<br>\n",
        "sum(), max(),  min()"
      ]
    },
    {
      "cell_type": "code",
      "metadata": {
        "id": "T60xyIoxxUaX",
        "colab": {
          "base_uri": "https://localhost:8080/"
        },
        "outputId": "6085827f-d7ca-4160-dd9f-4f88dcd1245d"
      },
      "source": [
        "a = (1, 2, 3, 4, 5)\n",
        "x = sum(a)\n",
        "print('sum: ', x)\n",
        "print('Maximim value: ',max(a))\n",
        "print('Minimum value: ', min(a))"
      ],
      "execution_count": null,
      "outputs": [
        {
          "output_type": "stream",
          "text": [
            "sum:  15\n",
            "Maximim value:  5\n",
            "Minimum value:  1\n"
          ],
          "name": "stdout"
        }
      ]
    },
    {
      "cell_type": "markdown",
      "metadata": {
        "id": "Wtl8PVkMq_ZS"
      },
      "source": [
        "Returns the data type of an object<br>\n",
        "type()"
      ]
    },
    {
      "cell_type": "code",
      "metadata": {
        "id": "DGm-TdtUxUdv",
        "colab": {
          "base_uri": "https://localhost:8080/"
        },
        "outputId": "0c55addf-5dcb-40c1-967c-3e0db06d3c70"
      },
      "source": [
        "a = ('apple', 'banana', 'cherry')\n",
        "b = \"Hello World\"\n",
        "c = 33\n",
        "d = {1:'a',2:'b'}\n",
        "\n",
        "print(type(a))\n",
        "print(type(b))\n",
        "print(type(c))\n",
        "print(type(d))"
      ],
      "execution_count": null,
      "outputs": [
        {
          "output_type": "stream",
          "text": [
            "<class 'tuple'>\n",
            "<class 'str'>\n",
            "<class 'int'>\n",
            "<class 'dict'>\n"
          ],
          "name": "stdout"
        }
      ]
    },
    {
      "cell_type": "markdown",
      "metadata": {
        "id": "61jiaIbjrOef"
      },
      "source": [
        "Returns the number of times a specified value occurs <br>\n",
        "count()"
      ]
    },
    {
      "cell_type": "code",
      "metadata": {
        "id": "2vcbQPEYxUg3",
        "colab": {
          "base_uri": "https://localhost:8080/"
        },
        "outputId": "b99b084d-9eff-40a3-a4c9-6ad7eb42dabf"
      },
      "source": [
        "txt = \"I love apples, apple are my favorite fruit. And it is said, An apple a day keeps the doctor away.\"\n",
        "x = txt.count(\"apple\")\n",
        "print(x)"
      ],
      "execution_count": null,
      "outputs": [
        {
          "output_type": "stream",
          "text": [
            "3\n"
          ],
          "name": "stdout"
        }
      ]
    },
    {
      "cell_type": "markdown",
      "metadata": {
        "id": "nuLCjAIRrWzW"
      },
      "source": [
        "Converts a string into upper / lower case<br>\n",
        "upper(),  lower()"
      ]
    },
    {
      "cell_type": "code",
      "metadata": {
        "id": "5FZQ0nawxUjv",
        "colab": {
          "base_uri": "https://localhost:8080/"
        },
        "outputId": "3cd9e181-2f99-49c7-a980-64d45a3bf91f"
      },
      "source": [
        "txt = \"Hello my friends\"\n",
        "x = txt.upper()\n",
        "print('Upper case: ',x)\n",
        "print('Lower case: ',x.lower())"
      ],
      "execution_count": null,
      "outputs": [
        {
          "output_type": "stream",
          "text": [
            "Upper case:  HELLO MY FRIENDS\n",
            "Lower case:  hello my friends\n"
          ],
          "name": "stdout"
        }
      ]
    },
    {
      "cell_type": "markdown",
      "metadata": {
        "id": "ePkVsm75rktT"
      },
      "source": [
        "Returns a string where a specified value is replaced with a specified value<br>\n",
        "replace()"
      ]
    },
    {
      "cell_type": "code",
      "metadata": {
        "id": "-e6EqF914GPx",
        "colab": {
          "base_uri": "https://localhost:8080/"
        },
        "outputId": "2ca871fe-ea2f-43fc-aabf-9e2fb0b6f927"
      },
      "source": [
        "txt = \"I like bananas\"\n",
        "x = txt.replace(\"bananas\", \"apples\")\n",
        "print(x)"
      ],
      "execution_count": null,
      "outputs": [
        {
          "output_type": "stream",
          "text": [
            "I like apples\n"
          ],
          "name": "stdout"
        }
      ]
    },
    {
      "cell_type": "markdown",
      "metadata": {
        "id": "g7QsX-KMsCkU"
      },
      "source": [
        "This function gives the length of the object as an output<br>\n",
        "len()"
      ]
    },
    {
      "cell_type": "code",
      "metadata": {
        "id": "cfV_GDTPsKGC",
        "colab": {
          "base_uri": "https://localhost:8080/"
        },
        "outputId": "802e73a5-ddbf-45d1-c608-0d0c84b087a3"
      },
      "source": [
        "txt ='I like coding in python'\n",
        "print(len(txt))"
      ],
      "execution_count": null,
      "outputs": [
        {
          "output_type": "stream",
          "text": [
            "23\n"
          ],
          "name": "stdout"
        }
      ]
    },
    {
      "cell_type": "markdown",
      "metadata": {
        "id": "CWHJEOOjsSvA"
      },
      "source": [
        "Splits the string at the specified separator, and returns a list<br>\n",
        "split()"
      ]
    },
    {
      "cell_type": "code",
      "metadata": {
        "id": "lNFm9EvuKbUi",
        "colab": {
          "base_uri": "https://localhost:8080/"
        },
        "outputId": "3996e6a8-fd9d-4888-f1da-528f37b62189"
      },
      "source": [
        "txt = \"welcome to the jungle\"\n",
        "x = txt.split()\n",
        "print(x)"
      ],
      "execution_count": null,
      "outputs": [
        {
          "output_type": "stream",
          "text": [
            "['welcome', 'to', 'the', 'jungle']\n"
          ],
          "name": "stdout"
        }
      ]
    },
    {
      "cell_type": "code",
      "metadata": {
        "id": "8UhAUluMKyqo",
        "colab": {
          "base_uri": "https://localhost:8080/"
        },
        "outputId": "fd782b37-1150-496a-f143-2369669de879"
      },
      "source": [
        "txt = \"Welcome, John, my friend to home.\"\n",
        "x = txt.split(',')\n",
        "print(x)"
      ],
      "execution_count": null,
      "outputs": [
        {
          "output_type": "stream",
          "text": [
            "['Welcome', ' John', ' my friend to home.']\n"
          ],
          "name": "stdout"
        }
      ]
    },
    {
      "cell_type": "markdown",
      "metadata": {
        "id": "zMMP6klFsc-F"
      },
      "source": [
        " Adds an element at the end of the list<br>\n",
        " append()"
      ]
    },
    {
      "cell_type": "code",
      "metadata": {
        "id": "fLovn08oK-uo",
        "colab": {
          "base_uri": "https://localhost:8080/"
        },
        "outputId": "bfd0c3fb-cf04-4cc2-beee-a680a41671ba"
      },
      "source": [
        "fruits = ['apple', 'banana', 'cherry']\n",
        "fruits.append(\"orange\")\n",
        "print(fruits)"
      ],
      "execution_count": null,
      "outputs": [
        {
          "output_type": "stream",
          "text": [
            "['apple', 'banana', 'cherry', 'orange']\n"
          ],
          "name": "stdout"
        }
      ]
    },
    {
      "cell_type": "code",
      "metadata": {
        "id": "BlfFEapAMRnS",
        "colab": {
          "base_uri": "https://localhost:8080/"
        },
        "outputId": "fc4c3de2-cb18-4c29-b6fc-d8e4b1a40763"
      },
      "source": [
        "a = [\"apple\", \"banana\", \"cherry\"]\n",
        "b = [\"Ford\", \"BMW\", \"Volvo\"]\n",
        "\n",
        "a.append(b)\n",
        "print(a)\n",
        "print(a+b)"
      ],
      "execution_count": null,
      "outputs": [
        {
          "output_type": "stream",
          "text": [
            "['apple', 'banana', 'cherry', ['Ford', 'BMW', 'Volvo']]\n",
            "['apple', 'banana', 'cherry', ['Ford', 'BMW', 'Volvo'], 'Ford', 'BMW', 'Volvo']\n"
          ],
          "name": "stdout"
        }
      ]
    },
    {
      "cell_type": "code",
      "metadata": {
        "id": "S9kPIPDFMXpH",
        "colab": {
          "base_uri": "https://localhost:8080/"
        },
        "outputId": "c9812a60-fe3b-4229-a236-a311f9f3bc6d"
      },
      "source": [
        "a = [\"apple\", \"banana\", \"cherry\"]\n",
        "b = [\"Ford\", \"BMW\", \"Volvo\"]\n",
        "for i in b:\n",
        "  a.append(i)\n",
        "print(a)"
      ],
      "execution_count": null,
      "outputs": [
        {
          "output_type": "stream",
          "text": [
            "['apple', 'banana', 'cherry', 'Ford', 'BMW', 'Volvo']\n"
          ],
          "name": "stdout"
        }
      ]
    },
    {
      "cell_type": "markdown",
      "metadata": {
        "id": "eeG-PxSqsozc"
      },
      "source": [
        "Removes all the elements from the list<br>\n",
        "clear()"
      ]
    },
    {
      "cell_type": "code",
      "metadata": {
        "id": "w9sfkb-vMhif",
        "colab": {
          "base_uri": "https://localhost:8080/"
        },
        "outputId": "82dbccc0-a5de-4ec8-e18a-abe874b3c761"
      },
      "source": [
        "fruits = ['apple', 'banana', 'cherry', 'orange']\n",
        "fruits.remove(\"apple\")\n",
        "print(fruits)"
      ],
      "execution_count": null,
      "outputs": [
        {
          "output_type": "stream",
          "text": [
            "['banana', 'cherry', 'orange']\n"
          ],
          "name": "stdout"
        }
      ]
    },
    {
      "cell_type": "markdown",
      "metadata": {
        "id": "T2BzReMNsuDJ"
      },
      "source": [
        "Adds an element at the specified position<br>\n",
        "insert()"
      ]
    },
    {
      "cell_type": "code",
      "metadata": {
        "id": "wH3VzXZTMwEn",
        "colab": {
          "base_uri": "https://localhost:8080/"
        },
        "outputId": "58b50e58-2061-4e43-9f07-6f7d9b27d0f3"
      },
      "source": [
        "fruits = ['apple', 'banana', 'cherry']\n",
        "fruits.insert(1, \"orange\")\n",
        "print(fruits)"
      ],
      "execution_count": null,
      "outputs": [
        {
          "output_type": "stream",
          "text": [
            "['apple', 'orange', 'banana', 'cherry']\n"
          ],
          "name": "stdout"
        }
      ]
    },
    {
      "cell_type": "code",
      "metadata": {
        "id": "2htD0PoSNA0n",
        "colab": {
          "base_uri": "https://localhost:8080/"
        },
        "outputId": "d01a6bb4-f45a-42ba-98f8-02476b45b76d"
      },
      "source": [
        "fruits.insert(0, \"pineapple\")\n",
        "print(fruits)"
      ],
      "execution_count": null,
      "outputs": [
        {
          "output_type": "stream",
          "text": [
            "['pineapple', 'apple', 'orange', 'banana', 'cherry']\n"
          ],
          "name": "stdout"
        }
      ]
    },
    {
      "cell_type": "markdown",
      "metadata": {
        "id": "et2m2Qees3nf"
      },
      "source": [
        "Removes an item from a given index of the list and returns the removed item. So, in the end, the pop() will be like a list without the element that was popped<br>\n",
        "pop()"
      ]
    },
    {
      "cell_type": "code",
      "metadata": {
        "id": "wZG-ba6iNF0w",
        "colab": {
          "base_uri": "https://localhost:8080/"
        },
        "outputId": "326d954e-72e7-40d5-e2c8-c7c9f8c886e6"
      },
      "source": [
        "x = fruits.pop(1)\n",
        "print(fruits)\n",
        "print(x)"
      ],
      "execution_count": null,
      "outputs": [
        {
          "output_type": "stream",
          "text": [
            "['pineapple', 'orange', 'banana', 'cherry']\n",
            "apple\n"
          ],
          "name": "stdout"
        }
      ]
    },
    {
      "cell_type": "markdown",
      "metadata": {
        "id": "nQ1NRpgttl9D"
      },
      "source": [
        "Delete elelments from a list<br>\n",
        "remove()"
      ]
    },
    {
      "cell_type": "code",
      "metadata": {
        "id": "g6Y-Db_tNXfJ",
        "colab": {
          "base_uri": "https://localhost:8080/"
        },
        "outputId": "cc912b20-2884-4045-eafb-44a41d684be2"
      },
      "source": [
        "fruits.remove(\"banana\")\n",
        "print(fruits)"
      ],
      "execution_count": null,
      "outputs": [
        {
          "output_type": "stream",
          "text": [
            "['pineapple', 'orange', 'cherry']\n"
          ],
          "name": "stdout"
        }
      ]
    },
    {
      "cell_type": "markdown",
      "metadata": {
        "id": "XuateTSlt5lP"
      },
      "source": [
        "### How to define functions "
      ]
    },
    {
      "cell_type": "code",
      "metadata": {
        "id": "UOrrLohAfktu",
        "colab": {
          "base_uri": "https://localhost:8080/"
        },
        "outputId": "2243a569-7545-446f-91db-a4c7e81c8a62"
      },
      "source": [
        "# it will give the last letter of the name or string\n",
        "\n",
        "def l_char(name):\n",
        "  i = name.split()\n",
        "  \n",
        "\n",
        "  return i[-1]\n",
        "\n",
        "char = input('Enter a sentence: ')\n",
        "print(l_char(char))"
      ],
      "execution_count": null,
      "outputs": [
        {
          "output_type": "stream",
          "text": [
            "Enter a sentence: viji lakshmi\n",
            "lakshmi\n"
          ],
          "name": "stdout"
        }
      ]
    },
    {
      "cell_type": "code",
      "metadata": {
        "id": "hxiikU05NqRA",
        "colab": {
          "base_uri": "https://localhost:8080/"
        },
        "outputId": "7b8921bc-7f3b-4339-a7c6-fe1f6252b38e"
      },
      "source": [
        "''' This function greets to\n",
        "    the person passed in as\n",
        "    a parameter '''\n",
        "\n",
        "def greet(name):\n",
        "    print(\"Hello, \" + name + \". Good morning!\")\n",
        "\n",
        "greet(\"Vijaya\")"
      ],
      "execution_count": null,
      "outputs": [
        {
          "output_type": "stream",
          "text": [
            "Hello, Vijaya. Good morning!\n"
          ],
          "name": "stdout"
        }
      ]
    },
    {
      "cell_type": "code",
      "metadata": {
        "id": "yLLZVB1bNufQ",
        "colab": {
          "base_uri": "https://localhost:8080/"
        },
        "outputId": "01b1416c-dc6f-4bb4-d604-e8f054ac84ca"
      },
      "source": [
        "def absolute_value(num):\n",
        "    \"\"\"This function returns the absolute\n",
        "    value of the entered number\"\"\"\n",
        "\n",
        "    if num >= 0:\n",
        "        return (num)\n",
        "    else:\n",
        "        return (-num)\n",
        "\n",
        "\n",
        "print(absolute_value(2))\n",
        "\n",
        "print(absolute_value(-4))"
      ],
      "execution_count": null,
      "outputs": [
        {
          "output_type": "stream",
          "text": [
            "2\n",
            "4\n"
          ],
          "name": "stdout"
        }
      ]
    },
    {
      "cell_type": "code",
      "metadata": {
        "id": "QAzVBtOtZ-nU",
        "colab": {
          "base_uri": "https://localhost:8080/"
        },
        "outputId": "278738e7-5d4c-4736-ae91-936c3c6a3acd"
      },
      "source": [
        "def even(num):\n",
        "    \"\"\"This function returns if the value is even\n",
        "   of the entered number\"\"\"\n",
        "\n",
        "    if num % 2 == 0:\n",
        "        return num,': is even number'\n",
        "    else:\n",
        "        return 'Not an even number'\n",
        "\n",
        "print(even(2))\n",
        "\n",
        "print(even(5))"
      ],
      "execution_count": null,
      "outputs": [
        {
          "output_type": "stream",
          "text": [
            "(2, ': is even number')\n",
            "Not an even number\n"
          ],
          "name": "stdout"
        }
      ]
    },
    {
      "cell_type": "code",
      "metadata": {
        "id": "FsuTcbQPahFQ",
        "colab": {
          "base_uri": "https://localhost:8080/"
        },
        "outputId": "61b9f5ce-91e0-48c7-8b8f-d866b47b6423"
      },
      "source": [
        "s=input(\"enter any string \")\n",
        "l=[]\n",
        "for x in s:\n",
        "    if x not in l:\n",
        "        l.append(x)\n",
        "output=''.join(l)\n",
        "print(output)"
      ],
      "execution_count": null,
      "outputs": [
        {
          "output_type": "stream",
          "text": [
            "enter any string python hello world!!\n",
            "python elwrd!\n"
          ],
          "name": "stdout"
        }
      ]
    },
    {
      "cell_type": "code",
      "metadata": {
        "id": "umQLWrii9FUx",
        "colab": {
          "base_uri": "https://localhost:8080/",
          "height": 212
        },
        "outputId": "7aaff43a-1d6e-48d2-d2b0-82862d84e35c"
      },
      "source": [
        "str_nums = [\"4\", \"8\", \"6\", \"5\", \"3\", \"2\", \"8\", \"9\", \"2\", \"5\",'a']\n",
        "\n",
        "int_nums = list(map(float, str_nums))\n",
        "print(int_nums)"
      ],
      "execution_count": null,
      "outputs": [
        {
          "output_type": "error",
          "ename": "ValueError",
          "evalue": "ignored",
          "traceback": [
            "\u001b[0;31m---------------------------------------------------------------------------\u001b[0m",
            "\u001b[0;31mValueError\u001b[0m                                Traceback (most recent call last)",
            "\u001b[0;32m<ipython-input-47-7b53737bbbdd>\u001b[0m in \u001b[0;36m<module>\u001b[0;34m()\u001b[0m\n\u001b[1;32m      1\u001b[0m \u001b[0mstr_nums\u001b[0m \u001b[0;34m=\u001b[0m \u001b[0;34m[\u001b[0m\u001b[0;34m\"4\"\u001b[0m\u001b[0;34m,\u001b[0m \u001b[0;34m\"8\"\u001b[0m\u001b[0;34m,\u001b[0m \u001b[0;34m\"6\"\u001b[0m\u001b[0;34m,\u001b[0m \u001b[0;34m\"5\"\u001b[0m\u001b[0;34m,\u001b[0m \u001b[0;34m\"3\"\u001b[0m\u001b[0;34m,\u001b[0m \u001b[0;34m\"2\"\u001b[0m\u001b[0;34m,\u001b[0m \u001b[0;34m\"8\"\u001b[0m\u001b[0;34m,\u001b[0m \u001b[0;34m\"9\"\u001b[0m\u001b[0;34m,\u001b[0m \u001b[0;34m\"2\"\u001b[0m\u001b[0;34m,\u001b[0m \u001b[0;34m\"5\"\u001b[0m\u001b[0;34m,\u001b[0m\u001b[0;34m'a'\u001b[0m\u001b[0;34m]\u001b[0m\u001b[0;34m\u001b[0m\u001b[0;34m\u001b[0m\u001b[0m\n\u001b[1;32m      2\u001b[0m \u001b[0;34m\u001b[0m\u001b[0m\n\u001b[0;32m----> 3\u001b[0;31m \u001b[0mint_nums\u001b[0m \u001b[0;34m=\u001b[0m \u001b[0mlist\u001b[0m\u001b[0;34m(\u001b[0m\u001b[0mmap\u001b[0m\u001b[0;34m(\u001b[0m\u001b[0mfloat\u001b[0m\u001b[0;34m,\u001b[0m \u001b[0mstr_nums\u001b[0m\u001b[0;34m)\u001b[0m\u001b[0;34m)\u001b[0m\u001b[0;34m\u001b[0m\u001b[0;34m\u001b[0m\u001b[0m\n\u001b[0m\u001b[1;32m      4\u001b[0m \u001b[0mprint\u001b[0m\u001b[0;34m(\u001b[0m\u001b[0mint_nums\u001b[0m\u001b[0;34m)\u001b[0m\u001b[0;34m\u001b[0m\u001b[0;34m\u001b[0m\u001b[0m\n",
            "\u001b[0;31mValueError\u001b[0m: could not convert string to float: 'a'"
          ]
        }
      ]
    },
    {
      "cell_type": "code",
      "metadata": {
        "id": "5JDPHmU6944b",
        "colab": {
          "base_uri": "https://localhost:8080/"
        },
        "outputId": "bb297a58-f3f1-4a51-fc4e-4bb491d87725"
      },
      "source": [
        "list(int_nums)"
      ],
      "execution_count": null,
      "outputs": [
        {
          "output_type": "execute_result",
          "data": {
            "text/plain": [
              "[4.0, 8.0, 6.0, 5.0, 3.0, 2.0, 8.0, 9.0, 2.0, 5.0]"
            ]
          },
          "metadata": {
            "tags": []
          },
          "execution_count": 42
        }
      ]
    },
    {
      "cell_type": "code",
      "metadata": {
        "id": "-LAZUm5O9-QA"
      },
      "source": [
        "str_nums=[1,2,4,'a']"
      ],
      "execution_count": null,
      "outputs": []
    },
    {
      "cell_type": "code",
      "metadata": {
        "colab": {
          "base_uri": "https://localhost:8080/"
        },
        "id": "hVZpZy2sh-Q5",
        "outputId": "9d3140b5-60b4-4f82-9de8-4bd1283f8613"
      },
      "source": [
        "# function that filters vowels\n",
        "def vowel(alpha):\n",
        "    letters = ['a', 'e', 'i', 'o', 'u']\n",
        "    if (alpha in letters):\n",
        "        return True\n",
        "    else:\n",
        "        return False\n",
        "\n",
        "string ='Manisha'\n",
        "  \n",
        "# using filter function\n",
        "filtered_vowel = filter(vowel,string)\n",
        "print(list(filtered_vowel))"
      ],
      "execution_count": null,
      "outputs": [
        {
          "output_type": "stream",
          "text": [
            "['a', 'i', 'a']\n"
          ],
          "name": "stdout"
        }
      ]
    },
    {
      "cell_type": "code",
      "metadata": {
        "colab": {
          "base_uri": "https://localhost:8080/"
        },
        "id": "R_ESBh3fj3iO",
        "outputId": "fbe2e738-1f47-404e-a48c-b0d4c7e94eb7"
      },
      "source": [
        "sequence = ['g', 'e', 'e', 'j', 'k', 's', 'p', 'r','a','u']\n",
        "\n",
        "filtered_letters = filter(vowel, sequence)\n",
        "\n",
        "print('The filtered letters are:')\n",
        "for s in filtered_letters:\n",
        "    print(s)"
      ],
      "execution_count": null,
      "outputs": [
        {
          "output_type": "stream",
          "text": [
            "The filtered letters are:\n",
            "e\n",
            "e\n",
            "a\n",
            "u\n"
          ],
          "name": "stdout"
        }
      ]
    },
    {
      "cell_type": "code",
      "metadata": {
        "id": "62N-oi49z9I4",
        "colab": {
          "base_uri": "https://localhost:8080/"
        },
        "outputId": "b4afe87d-18f1-4b59-f641-c1b45ae24557"
      },
      "source": [
        "# filter function\n",
        "age = [5, 12, 17, 18, 24, 32]\n",
        "\n",
        "def checkAge(x):\n",
        "  if x < 18:\n",
        "    return False\n",
        "  else:\n",
        "    return True\n",
        "\n",
        "adults = filter(checkAge, age)\n",
        "\n",
        "for i in adults:\n",
        "  print(i)"
      ],
      "execution_count": null,
      "outputs": [
        {
          "output_type": "stream",
          "text": [
            "18\n",
            "24\n",
            "32\n"
          ],
          "name": "stdout"
        }
      ]
    },
    {
      "cell_type": "code",
      "metadata": {
        "id": "L8JsBzDE9_tr",
        "colab": {
          "base_uri": "https://localhost:8080/"
        },
        "outputId": "304ff2d4-3a32-4e07-db7a-98502bc5cd94"
      },
      "source": [
        "numbers = [-2, -1, 0, 1, 2]\n",
        "float_numbers = list(map(float,numbers))\n",
        "abs_no = list(map(abs,numbers))\n",
        "print(float_numbers)\n",
        "print(abs_no)\n",
        "# try to make a list with floating number and then absolute number"
      ],
      "execution_count": null,
      "outputs": [
        {
          "output_type": "stream",
          "text": [
            "[-2.0, -1.0, 0.0, 1.0, 2.0]\n",
            "[2, 1, 0, 1, 2]\n"
          ],
          "name": "stdout"
        }
      ]
    },
    {
      "cell_type": "code",
      "metadata": {
        "id": "7uALaCbxh884"
      },
      "source": [
        ""
      ],
      "execution_count": null,
      "outputs": []
    },
    {
      "cell_type": "code",
      "metadata": {
        "id": "Gg-pWIIJ15Fk"
      },
      "source": [
        "hacker rank and leetcode "
      ],
      "execution_count": null,
      "outputs": []
    }
  ]
}