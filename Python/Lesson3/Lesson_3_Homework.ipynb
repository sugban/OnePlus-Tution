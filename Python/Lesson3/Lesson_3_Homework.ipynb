{
  "nbformat": 4,
  "nbformat_minor": 0,
  "metadata": {
    "colab": {
      "name": "Lesson 3: Homework",
      "provenance": [],
      "include_colab_link": true
    },
    "kernelspec": {
      "name": "python3",
      "display_name": "Python 3"
    },
    "language_info": {
      "name": "python"
    }
  },
  "cells": [
    {
      "cell_type": "markdown",
      "metadata": {
        "id": "view-in-github",
        "colab_type": "text"
      },
      "source": [
        "<a href=\"https://colab.research.google.com/github/sugban/OnePlus-Tution/blob/main/Python/Lesson3/Lesson_3_Homework.ipynb\" target=\"_parent\"><img src=\"https://colab.research.google.com/assets/colab-badge.svg\" alt=\"Open In Colab\"/></a>"
      ]
    },
    {
      "cell_type": "markdown",
      "metadata": {
        "id": "cLx1DScpb3V_"
      },
      "source": [
        "1. Define a function that takes two input by user name and date of birth and print a dictionary, when called with information"
      ]
    },
    {
      "cell_type": "code",
      "metadata": {
        "id": "O_K7k_t_c4dn",
        "colab": {
          "base_uri": "https://localhost:8080/"
        },
        "outputId": "8f05016c-df7e-4268-f177-9b12b4ecc587"
      },
      "source": [
        "def user_info(dict1):\n",
        "  for key in dict1:\n",
        "    print(\"{} : {}\".format(key,dict1[key]))\n",
        "\n",
        "dict1 = {\"user_name\": \"John\", \"DOB\" : \"Apr26\"}\n",
        "user_info(dict1)\n",
        "\n"
      ],
      "execution_count": null,
      "outputs": [
        {
          "output_type": "stream",
          "text": [
            "user_name : John\n",
            "DOB : Apr26\n"
          ],
          "name": "stdout"
        }
      ]
    },
    {
      "cell_type": "markdown",
      "metadata": {
        "id": "YHQLLW4hct7-"
      },
      "source": [
        "2. Define a program, which returns an average of the marks given in the dict"
      ]
    },
    {
      "cell_type": "code",
      "metadata": {
        "id": "o-hPgWaCgfOQ",
        "colab": {
          "base_uri": "https://localhost:8080/"
        },
        "outputId": "4ba213dd-65e1-4d74-ad34-9bdb36ae388d"
      },
      "source": [
        "marks = {'English': 82, 'Math': 95, 'Science': 91, 'Physical Education': 84, 'Social Science': 88, 'Arts': 52, 'Geography': 89, 'IT': 98}\n",
        "total = 0\n",
        "count = 0\n",
        "for val in marks.values():\n",
        "  total+=val\n",
        "  count+=1\n",
        "print(total/count)\n"
      ],
      "execution_count": null,
      "outputs": [
        {
          "output_type": "stream",
          "text": [
            "84.875\n"
          ],
          "name": "stdout"
        }
      ]
    },
    {
      "cell_type": "markdown",
      "metadata": {
        "id": "cEZjVpmycuin"
      },
      "source": [
        " 3. **Create a function that can accept dictionary** with key and value - *month* and *salary* as input 12 times for each month and **returns annual salary with the key** *year* **in a dictionary** that will print while calling function with argument"
      ]
    },
    {
      "cell_type": "code",
      "metadata": {
        "id": "jfdYcN6wcsHP",
        "colab": {
          "base_uri": "https://localhost:8080/"
        },
        "outputId": "221fd35e-a65f-4672-f689-28466c33d288"
      },
      "source": [
        "\n",
        "annual_report = {}\n",
        "month,salary = input('Enter the month and salary: ').split()\n",
        "annual_report[month] = int(salary)\n",
        "print(annual_report)\n"
      ],
      "execution_count": null,
      "outputs": [
        {
          "output_type": "stream",
          "text": [
            "Enter the month and salary: jan 100\n",
            "{'jan': 100}\n"
          ],
          "name": "stdout"
        }
      ]
    },
    {
      "cell_type": "code",
      "metadata": {
        "colab": {
          "base_uri": "https://localhost:8080/"
        },
        "id": "mPIhbXLSbbX-",
        "outputId": "62ceb4a4-351a-46c8-871a-5457648446d1"
      },
      "source": [
        "def sal_year(annual):\n",
        "  annual['year']=sum(annual.values())\n",
        "  return(annual)\n",
        "\n",
        "annual = {}\n",
        "for i in range(12):\n",
        "  month,salary = input('Enter the month and salary: ').split()\n",
        "  annual[month] = int(salary)\n",
        "\n",
        "print(sal_year(annual))"
      ],
      "execution_count": null,
      "outputs": [
        {
          "output_type": "stream",
          "text": [
            "Enter the month and salary: jan 10000\n",
            "Enter the month and salary: feb 10000\n",
            "Enter the month and salary: march 10000\n",
            "Enter the month and salary: april 12000\n",
            "Enter the month and salary: may 12000\n",
            "Enter the month and salary: june 12000\n",
            "Enter the month and salary: july 15000\n",
            "Enter the month and salary: aug 15000\n",
            "Enter the month and salary: sept 20000\n",
            "Enter the month and salary: oct 20000\n",
            "Enter the month and salary: nov 20000\n",
            "Enter the month and salary: dec 20000\n",
            "{'jan': 10000, 'feb': 10000, 'march': 10000, 'april': 12000, 'may': 12000, 'june': 12000, 'july': 15000, 'aug': 15000, 'sept': 20000, 'oct': 20000, 'nov': 20000, 'dec': 20000, 'year': 176000}\n"
          ],
          "name": "stdout"
        }
      ]
    },
    {
      "cell_type": "markdown",
      "metadata": {
        "id": "U2bVD5q0gy-P"
      },
      "source": [
        "4. Write a function name **calculator()**, that can accept two variables and calculate the addition, subtraction, division and multiplication of them.\n",
        "\n",
        "\n",
        "---\n",
        "\n",
        "def calculator(a, b):\n",
        "    # Your Code\n",
        "\n",
        "print(calculator(40, 10))"
      ]
    },
    {
      "cell_type": "code",
      "metadata": {
        "id": "8sNt3cKXcspn",
        "colab": {
          "base_uri": "https://localhost:8080/"
        },
        "outputId": "dec62a21-1449-4196-f955-f9e5047df7ad"
      },
      "source": [
        "def calculator(a,b,c):\n",
        "  \n",
        "  if opt == '+':\n",
        "\n",
        "    return a+b\n",
        "  elif opt == \"-\":\n",
        "\n",
        "    return a-b\n",
        "  elif opt == \"/\":\n",
        "\n",
        "    return a/b\n",
        "  elif opt == '*':\n",
        "\n",
        "    return a*b\n",
        "  \n",
        "\n",
        "num1 = int(input('Enter first number: '))\n",
        "num2 = int(input('Enter second number: '))\n",
        "opt = input('What do you want + or - or * or / :')\n",
        "print('Your answer is: ',calculator(num1,num2,opt))"
      ],
      "execution_count": null,
      "outputs": [
        {
          "output_type": "stream",
          "text": [
            "Enter first number: 6\n",
            "Enter second number: 4\n",
            "What do you want + or - or * or / :+\n",
            "Your answer is:  10\n"
          ],
          "name": "stdout"
        }
      ]
    },
    {
      "cell_type": "markdown",
      "metadata": {
        "id": "u7tERPtThPt_"
      },
      "source": [
        "5.  Generate a Python list of all the even numbers between 4 to 30 with range()\n",
        "---\n",
        "expected output:\n",
        "[4, 6, 8, 10, 12, 14, 16, 18, 20, 22, 24, 26, 28]"
      ]
    },
    {
      "cell_type": "code",
      "metadata": {
        "id": "92wAqbj9bylY",
        "colab": {
          "base_uri": "https://localhost:8080/"
        },
        "outputId": "718ecbe5-bd5a-497e-e0bf-40300b9ba36a"
      },
      "source": [
        "def even_list():\n",
        "  even_list = []\n",
        "  for i in range(4,30):\n",
        "    if i%2 == 0:\n",
        "      even_list.append(i)\n",
        "  return even_list\n",
        "\n",
        "print(even_list())"
      ],
      "execution_count": null,
      "outputs": [
        {
          "output_type": "stream",
          "text": [
            "[4, 6, 8, 10, 12, 14, 16, 18, 20, 22, 24, 26, 28]\n"
          ],
          "name": "stdout"
        }
      ]
    },
    {
      "cell_type": "markdown",
      "metadata": {
        "id": "ZNI4xRTtjR1W"
      },
      "source": [
        "6. Return the largest item from the given list , remember max()"
      ]
    },
    {
      "cell_type": "code",
      "metadata": {
        "id": "J7Fzp3g8jQsA",
        "colab": {
          "base_uri": "https://localhost:8080/"
        },
        "outputId": "3e775910-4aa9-4d20-c0bc-431e78b500a1"
      },
      "source": [
        "aList = [4, 6, 8, 24, 12, 2]\n",
        "print(max(aList))"
      ],
      "execution_count": null,
      "outputs": [
        {
          "output_type": "stream",
          "text": [
            "24\n"
          ],
          "name": "stdout"
        }
      ]
    },
    {
      "cell_type": "markdown",
      "metadata": {
        "id": "0_2-XP6MjeOO"
      },
      "source": [
        "7. Make all the letters uppercase and then lowercase"
      ]
    },
    {
      "cell_type": "code",
      "metadata": {
        "id": "BgXwWiEVjenG",
        "colab": {
          "base_uri": "https://localhost:8080/"
        },
        "outputId": "5160a0f0-258b-40ba-e649-e9393f4d05da"
      },
      "source": [
        "text = 'All I want is to be a python developer.'\n",
        "print(text.upper())\n",
        "print(text.lower())"
      ],
      "execution_count": null,
      "outputs": [
        {
          "output_type": "stream",
          "text": [
            "ALL I WANT IS TO BE A PYTHON DEVELOPER.\n",
            "all i want is to be a python developer.\n"
          ],
          "name": "stdout"
        }
      ]
    },
    {
      "cell_type": "markdown",
      "metadata": {
        "id": "DWSy3keljtA-"
      },
      "source": [
        "8. Split the text with comma and print it"
      ]
    },
    {
      "cell_type": "code",
      "metadata": {
        "id": "9qUJ047jjtI2",
        "colab": {
          "base_uri": "https://localhost:8080/"
        },
        "outputId": "96ec4a98-3cc7-4e6d-f13d-e3fe1373d58e"
      },
      "source": [
        "text = 'Hello, I like playing footbaal, tennis, badminton, chess, and also minecraft.'\n",
        "print(text.split(','))"
      ],
      "execution_count": null,
      "outputs": [
        {
          "output_type": "stream",
          "text": [
            "['Hello', ' I like playing footbaal', ' tennis', ' badminton', ' chess', ' and also minecraft.']\n"
          ],
          "name": "stdout"
        }
      ]
    },
    {
      "cell_type": "markdown",
      "metadata": {
        "id": "qErSpQfLkN7S"
      },
      "source": [
        "9. count letter **i** in the given string."
      ]
    },
    {
      "cell_type": "code",
      "metadata": {
        "id": "fg0ifaKYkOD-",
        "colab": {
          "base_uri": "https://localhost:8080/"
        },
        "outputId": "5da39f81-d75e-4ada-db71-7e57c69a1297"
      },
      "source": [
        "string = \"Python is awesome, isn't it? I write codding in my dream also.\"\n",
        "print(string.count(\"i\"))"
      ],
      "execution_count": null,
      "outputs": [
        {
          "output_type": "stream",
          "text": [
            "6\n"
          ],
          "name": "stdout"
        }
      ]
    },
    {
      "cell_type": "markdown",
      "metadata": {
        "id": "Tp1NngLXk4l4"
      },
      "source": [
        "10. Create two list and append "
      ]
    },
    {
      "cell_type": "code",
      "metadata": {
        "id": "Vux2h8_jk4t3",
        "colab": {
          "base_uri": "https://localhost:8080/"
        },
        "outputId": "ece658ce-2c78-4a0b-8833-5093cad46559"
      },
      "source": [
        "l1=[1,2,3,4]\n",
        "l2 = [5,6,7,8]\n",
        "print(l1+l2)"
      ],
      "execution_count": null,
      "outputs": [
        {
          "output_type": "stream",
          "text": [
            "[1, 2, 3, 4, 5, 6, 7, 8]\n"
          ],
          "name": "stdout"
        }
      ]
    },
    {
      "cell_type": "markdown",
      "metadata": {
        "id": "1UPFZING3zOx"
      },
      "source": [
        "11. Define a function to, from given list\n",
        "\n",
        "gadgets = [“Mobile”, “Laptop”, 100, “Camera”, 310.28, “Speakers”, 27.00, “Television”, 1000, “Laptop Case”, “Camera Lens”]\n",
        "\n",
        "a) Calculate the total price of the all the gadgets.\n",
        "\n",
        "b) Calculate the average of all the gadgets."
      ]
    },
    {
      "cell_type": "code",
      "metadata": {
        "id": "TvpH2jh_36vM",
        "colab": {
          "base_uri": "https://localhost:8080/"
        },
        "outputId": "a66d8deb-ede9-4236-d926-8d22e17bc9d4"
      },
      "source": [
        "gadgets = [\"Mobile\",\"Laptop\",100,\"Camera\",310.28,\"Speakers\",27.00,\"Television\",1000,\"Laptop Case\",\"Camera Lens\"]\n",
        "total_price = 0\n",
        "count = 0\n",
        "for i in gadgets:\n",
        "  \n",
        "  if str(i).isnumeric():\n",
        "    total_price+=i\n",
        "  else:\n",
        "    count+=1\n",
        "print(f'total price is {total_price}')\n",
        "print(f'average of all gadgets is {total_price/count}')"
      ],
      "execution_count": null,
      "outputs": [
        {
          "output_type": "stream",
          "text": [
            "total price is 1100\n",
            "average of all gadgets is 122.22222222222223\n"
          ],
          "name": "stdout"
        }
      ]
    }
  ]
}