{
  "nbformat": 4,
  "nbformat_minor": 0,
  "metadata": {
    "colab": {
      "name": "Lesson 5: Homework",
      "provenance": [],
      "collapsed_sections": [],
      "authorship_tag": "ABX9TyMd34hI7EaTxgyt5HlntreX",
      "include_colab_link": true
    },
    "kernelspec": {
      "name": "python3",
      "display_name": "Python 3"
    },
    "language_info": {
      "name": "python"
    }
  },
  "cells": [
    {
      "cell_type": "markdown",
      "metadata": {
        "id": "view-in-github",
        "colab_type": "text"
      },
      "source": [
        "<a href=\"https://colab.research.google.com/github/sugban/OnePlus-Tution/blob/main/Python/Lesson5/Lesson_5_Homework.ipynb\" target=\"_parent\"><img src=\"https://colab.research.google.com/assets/colab-badge.svg\" alt=\"Open In Colab\"/></a>"
      ]
    },
    {
      "cell_type": "markdown",
      "metadata": {
        "id": "IhZYnC__q09E"
      },
      "source": [
        "1. Write a Python program to check that a string contains only a certain set of characters (in this case a-z, A-Z and 0-9)."
      ]
    },
    {
      "cell_type": "code",
      "metadata": {
        "id": "X0gNEVMyqw6g"
      },
      "source": [
        ""
      ],
      "execution_count": null,
      "outputs": []
    },
    {
      "cell_type": "markdown",
      "metadata": {
        "id": "uOTSU6T_q6U3"
      },
      "source": [
        "2. From the list keep only the lines that start with a number or a letter "
      ]
    },
    {
      "cell_type": "code",
      "metadata": {
        "id": "ZjhFdFUbrho2"
      },
      "source": [
        "txt = '''\n",
        "$#%#$%\n",
        "#$#$$\n",
        "**&&^^\n",
        "Slovenia\n",
        "Belgium\n",
        "Spain\n",
        "Kazakhstan\n",
        "[15]\n",
        "1964\n",
        "1968\n",
        "1972\n",
        "[14]\n",
        "Denmark\n",
        "USA\n",
        "1992\n",
        "1996\n",
        "2000'''"
      ],
      "execution_count": null,
      "outputs": []
    },
    {
      "cell_type": "markdown",
      "metadata": {
        "id": "uYAzVMRsr6qq"
      },
      "source": [
        "3. Write a program so that the full email addresses are extracted from text"
      ]
    },
    {
      "cell_type": "code",
      "metadata": {
        "id": "HC3CR8SQsAFi"
      },
      "source": [
        "txt = '''boleh di kirim ke email saya ekoprasetyo.crb@outlook.com tks...\n",
        "boleh minta kirim ke db.maulana@gmail.com. \n",
        "dee.wien@yahoo.com. .\n",
        "deninainggolan@yahoo.co.id Senior Quantity Surveyor\n",
        "Fajar.rohita@hotmail.com, terimakasih bu Cindy Hartanto\n",
        "firmansyah1404@gmail.com saya mau dong bu cindy\n",
        "fransiscajw@gmail.com \n",
        "Hi Cindy ...pls share the Salary guide to donny_tri_wardono@yahoo.co.id thank you'''"
      ],
      "execution_count": null,
      "outputs": []
    },
    {
      "cell_type": "markdown",
      "metadata": {
        "id": "G3yVY0kZsbYG"
      },
      "source": [
        "4. Find the words with exactly 8 letters"
      ]
    },
    {
      "cell_type": "code",
      "metadata": {
        "id": "jfF8fSGesaZH"
      },
      "source": [
        "txt = '''Unlimited Free Texting. Send texts, group messages, pictures, videos, and emoji from your phone or the web. Calling & Voicemail. \n",
        "Make reliable WiFi calls without a carrier plan and customize your voicemail greeting. Custom Phone Number. \n",
        "Pick your desired area code and get a phone number that's as unique as you are. Unlimited Free Texting.'''"
      ],
      "execution_count": null,
      "outputs": []
    },
    {
      "cell_type": "markdown",
      "metadata": {
        "id": "hrS3sElIKZK4"
      },
      "source": [
        "5. Write a Python program that matches a string that has an a followed by three 'b'"
      ]
    },
    {
      "cell_type": "code",
      "metadata": {
        "id": "s1J2jJ5gsxgn"
      },
      "source": [
        ""
      ],
      "execution_count": null,
      "outputs": []
    },
    {
      "cell_type": "markdown",
      "metadata": {
        "id": "XqPblNgDWEBN"
      },
      "source": [
        "6. Write a Python program that matches a word containing 'z', not at the start or end of the word"
      ]
    },
    {
      "cell_type": "code",
      "metadata": {
        "id": "1e1-W5dSWnB8"
      },
      "source": [
        ""
      ],
      "execution_count": null,
      "outputs": []
    },
    {
      "cell_type": "markdown",
      "metadata": {
        "id": "cadPhn9OWnb8"
      },
      "source": [
        "7.  Write a Python program to match a string that starts with only uppercase letters "
      ]
    },
    {
      "cell_type": "code",
      "metadata": {
        "id": "e7iWILT4W0k7"
      },
      "source": [
        ""
      ],
      "execution_count": null,
      "outputs": []
    },
    {
      "cell_type": "markdown",
      "metadata": {
        "id": "WqJmOQ80W1a-"
      },
      "source": [
        "8.  Write a Python program to replace zeros from letter 'B'"
      ]
    },
    {
      "cell_type": "code",
      "metadata": {
        "id": "mO-6_3g9XJ2D"
      },
      "source": [
        ""
      ],
      "execution_count": null,
      "outputs": []
    },
    {
      "cell_type": "markdown",
      "metadata": {
        "id": "Dt9jDSaFXKaj"
      },
      "source": [
        "9.  Write a Python program to search the numbers (0-9) of length between 1 to 3 in a given string"
      ]
    },
    {
      "cell_type": "code",
      "metadata": {
        "id": "_v4KbIioXScL"
      },
      "source": [
        ""
      ],
      "execution_count": null,
      "outputs": []
    },
    {
      "cell_type": "markdown",
      "metadata": {
        "id": "BtByfhFZXS5M"
      },
      "source": [
        "10.  Write a Python program to extract year, month and date from a string"
      ]
    },
    {
      "cell_type": "code",
      "metadata": {
        "id": "EUr28v6YXgqz"
      },
      "source": [
        ""
      ],
      "execution_count": null,
      "outputs": []
    }
  ]
}