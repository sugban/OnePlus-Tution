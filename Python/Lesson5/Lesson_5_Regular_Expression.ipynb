{
  "nbformat": 4,
  "nbformat_minor": 0,
  "metadata": {
    "colab": {
      "name": "Lesson 5: Regular Expression",
      "provenance": [],
      "collapsed_sections": [],
      "authorship_tag": "ABX9TyNsY0RQe8Bk8Aq57g9ZZCq3",
      "include_colab_link": true
    },
    "kernelspec": {
      "name": "python3",
      "display_name": "Python 3"
    },
    "language_info": {
      "name": "python"
    }
  },
  "cells": [
    {
      "cell_type": "markdown",
      "metadata": {
        "id": "view-in-github",
        "colab_type": "text"
      },
      "source": [
        "<a href=\"https://colab.research.google.com/github/sugban/OnePlus-Tution/blob/main/Python/Lesson5/Lesson_5_Regular_Expression.ipynb\" target=\"_parent\"><img src=\"https://colab.research.google.com/assets/colab-badge.svg\" alt=\"Open In Colab\"/></a>"
      ]
    },
    {
      "cell_type": "code",
      "metadata": {
        "id": "vlJIr5qrxfvf"
      },
      "source": [
        "import re"
      ],
      "execution_count": null,
      "outputs": []
    },
    {
      "cell_type": "code",
      "metadata": {
        "id": "efE6wCuJxom2",
        "colab": {
          "base_uri": "https://localhost:8080/"
        },
        "outputId": "7029522c-4b4f-4996-fda2-60d5ded81d41"
      },
      "source": [
        "txt = '''\n",
        "James is 22 year old \n",
        "Alice is 34 year old \n",
        "Thomas is 20 '''\n",
        "name = re.findall(r\"[A-Z][a-z]*\", txt)\n",
        "print(name)"
      ],
      "execution_count": null,
      "outputs": [
        {
          "output_type": "stream",
          "text": [
            "['James', 'Alice', 'Thomas']\n"
          ],
          "name": "stdout"
        }
      ]
    },
    {
      "cell_type": "code",
      "metadata": {
        "id": "an8WC2xFCSxv",
        "colab": {
          "base_uri": "https://localhost:8080/"
        },
        "outputId": "e0e57d10-5dfe-4aee-c30e-b4d402a7f8e9"
      },
      "source": [
        "txt = '''\n",
        "James is 22 year old \n",
        "Alice is 34 year old \n",
        "Thomas is 20 '''\n",
        "age = re.findall(r\"\\d{1,2}\", txt)\n",
        "print(age)"
      ],
      "execution_count": null,
      "outputs": [
        {
          "output_type": "stream",
          "text": [
            "['22', '34', '20']\n"
          ],
          "name": "stdout"
        }
      ]
    },
    {
      "cell_type": "code",
      "metadata": {
        "id": "bxOktj74CaHx",
        "colab": {
          "base_uri": "https://localhost:8080/"
        },
        "outputId": "1cf2ec60-da7f-47b9-bad4-61910c1f5c7f"
      },
      "source": [
        "customer={}\n",
        "i = 0\n",
        "for names in name:\n",
        "  customer[names]=age[i]\n",
        "  i+=1\n",
        "\n",
        "print(customer)"
      ],
      "execution_count": null,
      "outputs": [
        {
          "output_type": "stream",
          "text": [
            "{'James': '22', 'Alice': '34', 'Thomas': '20'}\n"
          ],
          "name": "stdout"
        }
      ]
    },
    {
      "cell_type": "code",
      "metadata": {
        "id": "JiC7KcTTiRtW",
        "colab": {
          "base_uri": "https://localhost:8080/"
        },
        "outputId": "21fe6db8-7137-414b-9235-de132153e97d"
      },
      "source": [
        "# to find a word or letter\n",
        "txt = \"Practice makes a man perfect\"\n",
        "x = re.findall(\"ct\", txt)\n",
        "print(x)"
      ],
      "execution_count": null,
      "outputs": [
        {
          "output_type": "stream",
          "text": [
            "['ct', 'ct']\n"
          ],
          "name": "stdout"
        }
      ]
    },
    {
      "cell_type": "markdown",
      "metadata": {
        "id": "jSQ-cof9lJpX"
      },
      "source": [
        "finditer() function is quite similar to the search function of ‘re’.  \n",
        "finditer() functions return an iterator object, unlike search function returns a single match object."
      ]
    },
    {
      "cell_type": "code",
      "metadata": {
        "id": "35m70rHBjf2g",
        "colab": {
          "base_uri": "https://localhost:8080/",
          "height": 69
        },
        "outputId": "6cf894f2-d69f-4c95-a413-2657b19b877e"
      },
      "source": [
        "txt = 'Python is an easy language to learn and very good tool for many solutions.'\n",
        "for i in re.finditer('to',txt):\n",
        "  tup = i.span()\n",
        "  print(tup)\n",
        "\n",
        "'''re.MatchObject.span() method returns a tuple \n",
        "that contains starting and ending index of the matched string\n",
        "If group did not contribute to the match it returns(-1,-1)'''"
      ],
      "execution_count": null,
      "outputs": [
        {
          "output_type": "stream",
          "text": [
            "(27, 29)\n",
            "(50, 52)\n"
          ],
          "name": "stdout"
        },
        {
          "output_type": "execute_result",
          "data": {
            "application/vnd.google.colaboratory.intrinsic+json": {
              "type": "string"
            },
            "text/plain": [
              "'re.MatchObject.span() method returns a tuple \\nthat contains starting and ending index of the matched string\\nIf group did not contribute to the match it returns(-1,-1)'"
            ]
          },
          "metadata": {
            "tags": []
          },
          "execution_count": 10
        }
      ]
    },
    {
      "cell_type": "markdown",
      "metadata": {
        "id": "qedw7g-kZC-Z"
      },
      "source": [
        "The Match object has properties and methods used to retrieve information about the search, and the result<br>\n",
        "**.span()** returns a tuple containing the start-, and end positions of the match.<br>\n",
        "**.string** returns the string passed into the function<br>\n",
        "**.group()** returns the part of the string where there was a match"
      ]
    },
    {
      "cell_type": "code",
      "metadata": {
        "id": "N7BPrQEqkZz_",
        "colab": {
          "base_uri": "https://localhost:8080/"
        },
        "outputId": "bfe40c3a-94a7-43c2-981f-686ad1fed82d"
      },
      "source": [
        "txt = \"Practice makes a man perfect\"\n",
        "x = re.search(\"^Practice.*perfect$\", txt)\n",
        "if x:\n",
        "  print(\"YES! We have a match!\")\n",
        "else:\n",
        "  print(\"No match\")"
      ],
      "execution_count": null,
      "outputs": [
        {
          "output_type": "stream",
          "text": [
            "YES! We have a match!\n"
          ],
          "name": "stdout"
        }
      ]
    },
    {
      "cell_type": "code",
      "metadata": {
        "id": "A5rIXXFKkdDX",
        "colab": {
          "base_uri": "https://localhost:8080/"
        },
        "outputId": "24558c47-dfdb-4120-a54a-0605cee341f2"
      },
      "source": [
        "txt = \"Practice makes a man perfect\"\n",
        "x = re.search(\"\\s\", txt)\n",
        "\n",
        "print(\"The first white-space character is located in position:\", x.start())"
      ],
      "execution_count": null,
      "outputs": [
        {
          "output_type": "stream",
          "text": [
            "The first white-space character is located in position: 8\n"
          ],
          "name": "stdout"
        }
      ]
    },
    {
      "cell_type": "code",
      "metadata": {
        "id": "x2WY7gZqkoRK",
        "colab": {
          "base_uri": "https://localhost:8080/"
        },
        "outputId": "9692b70d-ee0c-4919-c4c5-175be352bac5"
      },
      "source": [
        "# If there is no match, it returns None\n",
        "txt = \"Practice makes a man perfect\"\n",
        "x = re.search(\"woman\", txt)\n",
        "print(x)"
      ],
      "execution_count": null,
      "outputs": [
        {
          "output_type": "stream",
          "text": [
            "None\n"
          ],
          "name": "stdout"
        }
      ]
    },
    {
      "cell_type": "code",
      "metadata": {
        "id": "1WLyKSxlZlnZ",
        "colab": {
          "base_uri": "https://localhost:8080/",
          "height": 35
        },
        "outputId": "8193f58e-0e10-4476-d1dd-18a0b7f4bb31"
      },
      "source": [
        "'''Print the position (start- and end-position) of the first match occurrence and \n",
        "the regular expression looks for any words that starts with an upper case \"S\".'''\n",
        "\n",
        "#txt = \"The rain in Morroco, Sweden and Finland\"\n",
        "#x = re.search(r\"\\bS\\w+\", txt)\n",
        "#print(x.span())"
      ],
      "execution_count": null,
      "outputs": [
        {
          "output_type": "execute_result",
          "data": {
            "application/vnd.google.colaboratory.intrinsic+json": {
              "type": "string"
            },
            "text/plain": [
              "'Print the position (start- and end-position) of the first match occurrence and \\nthe regular expression looks for any words that starts with an upper case \"S\".'"
            ]
          },
          "metadata": {
            "tags": []
          },
          "execution_count": 21
        }
      ]
    },
    {
      "cell_type": "code",
      "metadata": {
        "id": "XTawEztPaLsK",
        "colab": {
          "base_uri": "https://localhost:8080/"
        },
        "outputId": "d88b4b04-6c59-4d15-da43-ef05c9a6e315"
      },
      "source": [
        "# Print the string passed into the function\n",
        "\n",
        "txt = \"The rain in Morroco, Sweden and Finland\"\n",
        "#x = re.search(r\"\\bS\\w+\", txt)\n",
        "#print(x)\n",
        "print(x.string)"
      ],
      "execution_count": null,
      "outputs": [
        {
          "output_type": "stream",
          "text": [
            "The rain in Morroco, Sweden and Spaain\n"
          ],
          "name": "stdout"
        }
      ]
    },
    {
      "cell_type": "code",
      "metadata": {
        "id": "576bzW3IarzY",
        "colab": {
          "base_uri": "https://localhost:8080/"
        },
        "outputId": "0f2947a6-0b07-4ff4-a03a-5b43331b568e"
      },
      "source": [
        "''' Print the part of the string where there was a match, and \n",
        "the regular expression looks for any words that starts with an upper case \"S\".'''\n",
        "\n",
        "txt = \"The rain in Morroco, Sweden and Spaain\"\n",
        "#x = re.search(r\"\\bS\\w+\", txt)\n",
        "print(x.group())"
      ],
      "execution_count": null,
      "outputs": [
        {
          "output_type": "stream",
          "text": [
            "Sweden\n"
          ],
          "name": "stdout"
        }
      ]
    },
    {
      "cell_type": "code",
      "metadata": {
        "id": "-Ga8EGGKkw5_",
        "colab": {
          "base_uri": "https://localhost:8080/"
        },
        "outputId": "0bf47b66-61a9-408d-e27a-04c7a0663686"
      },
      "source": [
        "txt = \"Practice makes a man perfect\"\n",
        "x = re.split(\"\\s\", txt)\n",
        "print(x)"
      ],
      "execution_count": null,
      "outputs": [
        {
          "output_type": "stream",
          "text": [
            "['Practice', 'makes', 'a', 'man', 'perfect']\n"
          ],
          "name": "stdout"
        }
      ]
    },
    {
      "cell_type": "code",
      "metadata": {
        "id": "nOWNDUpQlRkx",
        "colab": {
          "base_uri": "https://localhost:8080/"
        },
        "outputId": "2c046cbc-4f8f-4182-c440-e7fefe8204a4"
      },
      "source": [
        "txt = \"Marko my best friend\"\n",
        "x = re.split(\"\\s\", txt, 1)\n",
        "print(x)"
      ],
      "execution_count": null,
      "outputs": [
        {
          "output_type": "stream",
          "text": [
            "['Marko', 'my best friend']\n"
          ],
          "name": "stdout"
        }
      ]
    },
    {
      "cell_type": "code",
      "metadata": {
        "id": "hc1MFKcamNdJ",
        "colab": {
          "base_uri": "https://localhost:8080/"
        },
        "outputId": "2ca41327-8141-4aa5-af46-f76850c8ba7c"
      },
      "source": [
        "#Replace every white-space character with the number 2\n",
        "txt = \"We will learn Python\"\n",
        "x = re.sub(\"\\s\", \"2\", txt)\n",
        "print(x)"
      ],
      "execution_count": null,
      "outputs": [
        {
          "output_type": "stream",
          "text": [
            "We2will2learn2Python\n"
          ],
          "name": "stdout"
        }
      ]
    },
    {
      "cell_type": "code",
      "metadata": {
        "id": "jFkX0pV6Xt2Z",
        "colab": {
          "base_uri": "https://localhost:8080/"
        },
        "outputId": "bd942982-0662-4fe4-a2f6-052fd19264de"
      },
      "source": [
        "#Replace the first 2 occurrences\n",
        "txt = \"We will learn Python\"\n",
        "x = re.sub(\"\\s\", \"9\", txt, 2)\n",
        "print(x)"
      ],
      "execution_count": null,
      "outputs": [
        {
          "output_type": "stream",
          "text": [
            "We9will9learn Python\n"
          ],
          "name": "stdout"
        }
      ]
    },
    {
      "cell_type": "code",
      "metadata": {
        "id": "hf_22dsYXxjZ"
      },
      "source": [
        "#Check if the string starts with \"The\"\n",
        "\n",
        "txt = \"The train will be dealyed by 30 minutes.\"\n",
        "txt1 = \"All the passengers, please come and collect the refreshments from the counter.\"\n",
        "\n",
        "x = re.findall(\"\\AThe\", txt)\n",
        "y = re.findall(\"\\AThe\", txt1)\n",
        "print('txt: ',x)\n",
        "print('txt1: ',y)"
      ],
      "execution_count": null,
      "outputs": []
    },
    {
      "cell_type": "code",
      "metadata": {
        "id": "grh13xrvdrFa"
      },
      "source": [
        "#Check if \"ain\" is present at the beginning of a WORD\n",
        "\n",
        "txt='Rain, rain go away, come again another day'\n",
        "\n",
        "x = re.findall(r\"\\bain\", txt)\n",
        "print(x)"
      ],
      "execution_count": null,
      "outputs": []
    },
    {
      "cell_type": "code",
      "metadata": {
        "id": "eaZUfE1hf4Pr"
      },
      "source": [
        "#Check if \"ain\" is present at the end of a WORD\n",
        "txt='Rain, rain go away, come again another day'\n",
        "\n",
        "x = re.findall(r\"ain\\b\", txt)\n",
        "print(x)"
      ],
      "execution_count": null,
      "outputs": []
    },
    {
      "cell_type": "code",
      "metadata": {
        "id": "JBFeeBzTg2pr"
      },
      "source": [
        "#Check if \"ain\" is present, but NOT at the beginning of a word:\n",
        "txt='Rain, rain go away, come again another day'\n",
        "\n",
        "x = re.findall(r\"\\Bain\", txt)\n",
        "print(x)"
      ],
      "execution_count": null,
      "outputs": []
    },
    {
      "cell_type": "code",
      "metadata": {
        "id": "HSRqkcqRhRJI"
      },
      "source": [
        "#Check if \"ain\" is present, but NOT at the end of a word\n",
        "#Check if the string ends with \"Spain\"\n",
        "\n",
        "x = re.findall(r\"ain\\B\", txt)\n",
        "print(x)"
      ],
      "execution_count": null,
      "outputs": []
    },
    {
      "cell_type": "code",
      "metadata": {
        "id": "AqKG9FPchkCw"
      },
      "source": [
        "#Check if the string contains any digits (numbers from 0-9)\n",
        "\n",
        "txt = \"The train will be dealyed by 30 minutes.\"\n",
        "\n",
        "x = re.findall(\"\\d\", txt)\n",
        "print(x)"
      ],
      "execution_count": null,
      "outputs": []
    },
    {
      "cell_type": "code",
      "metadata": {
        "id": "m3mu2H1siJoC"
      },
      "source": [
        "#Return a match at every no-digit character\n",
        "\n",
        "txt = \"The train will be dealyed by 30 minutes.\"\n",
        "\n",
        "x = re.findall(\"\\D\", txt)\n",
        "print(x)"
      ],
      "execution_count": null,
      "outputs": []
    },
    {
      "cell_type": "code",
      "metadata": {
        "id": "gxE4itOgiRhp"
      },
      "source": [
        "#Check if the string ends with \"day\"\n",
        "\n",
        "txt = 'Rain, rain go away, come again another day'\n",
        "\n",
        "x = re.findall(\"day\\Z\", txt)\n",
        "print(x)"
      ],
      "execution_count": null,
      "outputs": []
    },
    {
      "cell_type": "code",
      "metadata": {
        "id": "5hD9ufDZk-7T"
      },
      "source": [
        "#Return a match at every NON word character (characters like \"!\", \"?\" white-space etc.)\n",
        "txt = 'Good morning! How is everyone doing today?'\n",
        "\n",
        "x = re.findall(\"\\W\", txt)\n",
        "print(x)\n"
      ],
      "execution_count": null,
      "outputs": []
    },
    {
      "cell_type": "code",
      "metadata": {
        "id": "jNH0gkusmbDM"
      },
      "source": [
        "#Return a match at every word character (characters from a to Z, digits from 0-9, and the underscore _ character)\n",
        "txt = 'Good morning! How is everyone doing today?'\n",
        "\n",
        "x = re.findall(\"\\w\", txt)\n",
        "print(x)\n"
      ],
      "execution_count": null,
      "outputs": []
    },
    {
      "cell_type": "code",
      "metadata": {
        "id": "6gcEg49Rmt3K"
      },
      "source": [
        "#Find all lower case characters alphabetically between \"a\" and \"l\"\n",
        "txt = 'Good morning! How is everyone doing today?'\n",
        "\n",
        "x = re.findall(\"[a-l]\", txt)\n",
        "print(x)"
      ],
      "execution_count": null,
      "outputs": []
    },
    {
      "cell_type": "code",
      "metadata": {
        "id": "hylIrCLk8s6f"
      },
      "source": [
        "#Find all digit characters\n",
        "\n",
        "txt = \"That will be 59 dollars\"\n",
        "\n",
        "x = re.findall(\"\\d\", txt)\n",
        "print(x)"
      ],
      "execution_count": null,
      "outputs": []
    },
    {
      "cell_type": "code",
      "metadata": {
        "id": "sQZauijo82VW"
      },
      "source": [
        "#Search for a sequence that starts with \"co\", followed by two (any) characters, and an \"e\"\n",
        "txt = \"All the passengers, please come and collect the refreshments from the counter.\"\n",
        "\n",
        "x = re.findall(\"co..e\", txt)\n",
        "print(x)"
      ],
      "execution_count": null,
      "outputs": []
    },
    {
      "cell_type": "code",
      "metadata": {
        "id": "jwLlcyiE9LCx"
      },
      "source": [
        "#Check if the string starts with 'hello'\n",
        "txt = \"hello world\"\n",
        "\n",
        "x = re.findall(\"^hello\", txt)\n",
        "if x:\n",
        "  print(\"Yes, the string starts with 'hello'\")\n",
        "else:\n",
        "  print(\"No match\")"
      ],
      "execution_count": null,
      "outputs": []
    },
    {
      "cell_type": "code",
      "metadata": {
        "id": "jOItslo59c3H"
      },
      "source": [
        "#Check if the string ends with 'world':\n",
        "\n",
        "txt = \"abcd@gmail.com\"\n",
        "\n",
        "x = re.findall(\".com$\", txt)\n",
        "if x:\n",
        "  print(\"Yes, the string ends with '.com'\")\n",
        "else:\n",
        "  print(\"No match\")\n"
      ],
      "execution_count": null,
      "outputs": []
    },
    {
      "cell_type": "code",
      "metadata": {
        "id": "NelBgy_z9pah"
      },
      "source": [
        "#Check if the string contains \"co\" followed by 0 or more \"x\" characters\n",
        "txt = \"All the passengers, please come and collect the refreshments from the counter.\"\n",
        "\n",
        "x = re.findall(\"cox*\", txt)\n",
        "print(x)"
      ],
      "execution_count": null,
      "outputs": []
    },
    {
      "cell_type": "code",
      "metadata": {
        "id": "VsBEKTyM9_Ym"
      },
      "source": [
        "#Check if the string contains \"co\" followed by 1 or more \"x\" characters\n",
        "txt = \"All the passengers, please come and collect the refreshments from the counter.\"\n",
        "\n",
        "x = re.findall(\"cox+\", txt)\n",
        "print(x)"
      ],
      "execution_count": null,
      "outputs": []
    },
    {
      "cell_type": "code",
      "metadata": {
        "id": "BZYEfWmU_qXg"
      },
      "source": [
        "#Check if the string contains \"o\" followed by exactly two \"l\" characters:\n",
        "txt = \"All the passengers, please come and collect the refreshments from the counter.\"\n",
        "\n",
        "x = re.findall(\"ol{2}\", txt)\n",
        "print(x)"
      ],
      "execution_count": null,
      "outputs": []
    },
    {
      "cell_type": "code",
      "metadata": {
        "id": "NvUbZcyw_4M2"
      },
      "source": [
        "#Check if the string contains either \"falls\" or \"stays\"\n",
        "txt = \"You reap what you sow.\"\n",
        "\n",
        "x = re.findall(\"reap|sow\", txt)\n",
        "print(x)"
      ],
      "execution_count": null,
      "outputs": []
    },
    {
      "cell_type": "code",
      "metadata": {
        "id": "EebvCOMFA04R"
      },
      "source": [
        "txt ='my name is Vijay and email address is john.doe@somecompany.co.uk and my friend\\'s email is jane_doe124@gmail.com'\n",
        "\n",
        "emails = re.findall(\"([a-zA-Z0-9_.+-]+@[a-zA-Z0-9-]+\\.[a-zA-Z0-9-.]+)\", txt)\n",
        "print(emails)"
      ],
      "execution_count": null,
      "outputs": []
    },
    {
      "cell_type": "code",
      "metadata": {
        "id": "T8kHXEfbo3Xv"
      },
      "source": [
        "txt ='my name is Vijay and my phone number is 111-222-3333 and my friend\\'s number is 444-555-6666'\n",
        "\n",
        "phone= re.findall('\\w{3}-\\w{3}-\\w{4}',txt)\n",
        "print(phone)"
      ],
      "execution_count": null,
      "outputs": []
    },
    {
      "cell_type": "code",
      "metadata": {
        "id": "FuRs9yLUqKmI"
      },
      "source": [
        ""
      ],
      "execution_count": null,
      "outputs": []
    }
  ]
}