{
  "nbformat": 4,
  "nbformat_minor": 0,
  "metadata": {
    "colab": {
      "name": "Lesson 1",
      "provenance": [],
      "collapsed_sections": [],
      "include_colab_link": true
    },
    "kernelspec": {
      "name": "python3",
      "display_name": "Python 3"
    },
    "language_info": {
      "name": "python"
    }
  },
  "cells": [
    {
      "cell_type": "markdown",
      "metadata": {
        "id": "view-in-github",
        "colab_type": "text"
      },
      "source": [
        "<a href=\"https://colab.research.google.com/github/sugban/OnePlus-Tution/blob/main/Python/Lesson1/Lesson_1.ipynb\" target=\"_parent\"><img src=\"https://colab.research.google.com/assets/colab-badge.svg\" alt=\"Open In Colab\"/></a>"
      ]
    },
    {
      "cell_type": "code",
      "metadata": {
        "colab": {
          "base_uri": "https://localhost:8080/"
        },
        "id": "U76rgDOdri4k",
        "outputId": "79fa08b7-f72f-4b87-9ad3-49e949879485"
      },
      "source": [
        "print('Hello World!')"
      ],
      "execution_count": null,
      "outputs": [
        {
          "output_type": "stream",
          "text": [
            "Hello World!\n"
          ],
          "name": "stdout"
        }
      ]
    },
    {
      "cell_type": "code",
      "metadata": {
        "colab": {
          "base_uri": "https://localhost:8080/"
        },
        "id": "Q-CVygs9sBEj",
        "outputId": "174e0718-002d-48c6-9945-f541acc4f612"
      },
      "source": [
        "print (\"googlesearch\")"
      ],
      "execution_count": null,
      "outputs": [
        {
          "output_type": "stream",
          "text": [
            "googlesearch\n"
          ],
          "name": "stdout"
        }
      ]
    },
    {
      "cell_type": "code",
      "metadata": {
        "colab": {
          "base_uri": "https://localhost:8080/"
        },
        "id": "zXbJa6wCs9sE",
        "outputId": "efc81f05-5070-4a3f-a9ff-a52a1098e91d"
      },
      "source": [
        "name = \"learning \"\n",
        "print (name)"
      ],
      "execution_count": null,
      "outputs": [
        {
          "output_type": "stream",
          "text": [
            "learning \n"
          ],
          "name": "stdout"
        }
      ]
    },
    {
      "cell_type": "code",
      "metadata": {
        "colab": {
          "base_uri": "https://localhost:8080/"
        },
        "id": "8K5WQCGItuLZ",
        "outputId": "b757a2f0-e13a-44fd-fbee-c7e7d415d163"
      },
      "source": [
        "print(name + ' joy')\n",
        "#print(name + 2)"
      ],
      "execution_count": null,
      "outputs": [
        {
          "output_type": "stream",
          "text": [
            "learning  joy\n"
          ],
          "name": "stdout"
        }
      ]
    },
    {
      "cell_type": "code",
      "metadata": {
        "colab": {
          "base_uri": "https://localhost:8080/"
        },
        "id": "uOMj3SCpuFmv",
        "outputId": "1b5f1fe2-22be-48f2-ca80-35ed68cd134a"
      },
      "source": [
        "print(name *3)"
      ],
      "execution_count": null,
      "outputs": [
        {
          "output_type": "stream",
          "text": [
            "learning learning learning \n"
          ],
          "name": "stdout"
        }
      ]
    },
    {
      "cell_type": "code",
      "metadata": {
        "colab": {
          "base_uri": "https://localhost:8080/"
        },
        "id": "QCpmrVa5uYGS",
        "outputId": "01785756-3e1c-4ad5-c065-24690382a6f0"
      },
      "source": [
        "var = 1.23\n",
        "var1 = 2.99\n",
        "print(var + var1)"
      ],
      "execution_count": null,
      "outputs": [
        {
          "output_type": "stream",
          "text": [
            "4.220000000000001\n"
          ],
          "name": "stdout"
        }
      ]
    },
    {
      "cell_type": "code",
      "metadata": {
        "colab": {
          "base_uri": "https://localhost:8080/"
        },
        "id": "U4pt9BOmvUJO",
        "outputId": "516e08f4-9352-4d1e-af36-b6dc6cb34cc1"
      },
      "source": [
        "num = var + var1\n",
        "print(num)"
      ],
      "execution_count": null,
      "outputs": [
        {
          "output_type": "stream",
          "text": [
            "4.220000000000001\n"
          ],
          "name": "stdout"
        }
      ]
    },
    {
      "cell_type": "code",
      "metadata": {
        "colab": {
          "base_uri": "https://localhost:8080/"
        },
        "id": "gVJGoWWlvZMq",
        "outputId": "df254f86-7787-4786-a8c7-4b3d81a7031f"
      },
      "source": [
        "print(num/var)"
      ],
      "execution_count": null,
      "outputs": [
        {
          "output_type": "stream",
          "text": [
            "3.43089430894309\n"
          ],
          "name": "stdout"
        }
      ]
    },
    {
      "cell_type": "code",
      "metadata": {
        "colab": {
          "base_uri": "https://localhost:8080/"
        },
        "id": "qOSC17TQvg1Q",
        "outputId": "cdec3e50-e13b-492e-88fd-dc2aa9823d0d"
      },
      "source": [
        "print(num - var)"
      ],
      "execution_count": null,
      "outputs": [
        {
          "output_type": "stream",
          "text": [
            "2.9900000000000007\n"
          ],
          "name": "stdout"
        }
      ]
    },
    {
      "cell_type": "code",
      "metadata": {
        "colab": {
          "base_uri": "https://localhost:8080/"
        },
        "id": "bPZ1UMu5vlNQ",
        "outputId": "7126e9ac-2697-4e6f-a2be-a1f5dd46cba7"
      },
      "source": [
        "num = str(num)\n",
        "print(name + num)"
      ],
      "execution_count": null,
      "outputs": [
        {
          "output_type": "stream",
          "text": [
            "learning 4.220000000000001\n"
          ],
          "name": "stdout"
        }
      ]
    },
    {
      "cell_type": "code",
      "metadata": {
        "colab": {
          "base_uri": "https://localhost:8080/"
        },
        "id": "9T6CEtD3vyBe",
        "outputId": "8d8a2e1f-52f9-415a-c714-0b6415a05403"
      },
      "source": [
        "var = ['red','blue','white']\n",
        "print(var)"
      ],
      "execution_count": null,
      "outputs": [
        {
          "output_type": "stream",
          "text": [
            "['red', 'blue', 'white']\n"
          ],
          "name": "stdout"
        }
      ]
    },
    {
      "cell_type": "code",
      "metadata": {
        "colab": {
          "base_uri": "https://localhost:8080/",
          "height": 35
        },
        "id": "2k_xemV5ws4Q",
        "outputId": "27cb3b24-5487-4bd7-9e5b-0ca1183d6e33"
      },
      "source": [
        "var[0]"
      ],
      "execution_count": null,
      "outputs": [
        {
          "output_type": "execute_result",
          "data": {
            "application/vnd.google.colaboratory.intrinsic+json": {
              "type": "string"
            },
            "text/plain": [
              "'red'"
            ]
          },
          "metadata": {
            "tags": []
          },
          "execution_count": 20
        }
      ]
    },
    {
      "cell_type": "code",
      "metadata": {
        "colab": {
          "base_uri": "https://localhost:8080/",
          "height": 35
        },
        "id": "JoJWguL1xDBV",
        "outputId": "d44a582f-956d-4bae-bffc-b8651318888c"
      },
      "source": [
        "var[-1]"
      ],
      "execution_count": null,
      "outputs": [
        {
          "output_type": "execute_result",
          "data": {
            "application/vnd.google.colaboratory.intrinsic+json": {
              "type": "string"
            },
            "text/plain": [
              "'white'"
            ]
          },
          "metadata": {
            "tags": []
          },
          "execution_count": 22
        }
      ]
    },
    {
      "cell_type": "code",
      "metadata": {
        "colab": {
          "base_uri": "https://localhost:8080/"
        },
        "id": "8VYipcm_xJg5",
        "outputId": "77e39262-5fc9-41a1-849f-f970719f8bbd"
      },
      "source": [
        "name = 'Sugandh'\n",
        "Class = 'data structure'\n",
        "print('Name: ', name, '\\nClass: ', Class)"
      ],
      "execution_count": null,
      "outputs": [
        {
          "output_type": "stream",
          "text": [
            "Name:  Sugandh \n",
            "Class:  data structure\n"
          ],
          "name": "stdout"
        }
      ]
    },
    {
      "cell_type": "code",
      "metadata": {
        "id": "NgLMRR_YsfgD",
        "colab": {
          "base_uri": "https://localhost:8080/"
        },
        "outputId": "137d110e-98af-4d4c-a0b4-f95a387cf94c"
      },
      "source": [
        "dict1={}\n",
        "dict1['name']=name\n",
        "dict1['class']=Class\n",
        "print(dict1)"
      ],
      "execution_count": null,
      "outputs": [
        {
          "output_type": "stream",
          "text": [
            "{'name': 'Sugandh', 'class': 'data structure'}\n"
          ],
          "name": "stdout"
        }
      ]
    },
    {
      "cell_type": "code",
      "metadata": {
        "id": "r6SsEAGYyHhm",
        "colab": {
          "base_uri": "https://localhost:8080/"
        },
        "outputId": "9c57d408-b4ab-4c89-9228-9d4923ccf2d4"
      },
      "source": [
        "dict2={'name':'Vijaylaxmi','class':'data structure'}\n",
        "print(dict2)"
      ],
      "execution_count": null,
      "outputs": [
        {
          "output_type": "stream",
          "text": [
            "{'name': 'Vijaylaxmi', 'class': 'data structure'}\n"
          ],
          "name": "stdout"
        }
      ]
    },
    {
      "cell_type": "code",
      "metadata": {
        "colab": {
          "base_uri": "https://localhost:8080/"
        },
        "id": "d9bJH7R4Ui53",
        "outputId": "f7c3d2bc-9214-4ba0-f78c-371b1282d41b"
      },
      "source": [
        "dict3 = {'name':['Sugandh','Vijaylaxmi'],'class':'data structure'}\n",
        "print(dict3)"
      ],
      "execution_count": null,
      "outputs": [
        {
          "output_type": "stream",
          "text": [
            "{'name': ['Sugandh', 'Vijaylaxmi'], 'class': 'data structure'}\n"
          ],
          "name": "stdout"
        }
      ]
    },
    {
      "cell_type": "code",
      "metadata": {
        "colab": {
          "base_uri": "https://localhost:8080/"
        },
        "id": "Wr8_ChX7U3EY",
        "outputId": "2600052f-a3c0-4845-8fb8-48da787bad97"
      },
      "source": [
        "print(dict1['name'])"
      ],
      "execution_count": null,
      "outputs": [
        {
          "output_type": "stream",
          "text": [
            "Sugandh\n"
          ],
          "name": "stdout"
        }
      ]
    },
    {
      "cell_type": "code",
      "metadata": {
        "colab": {
          "base_uri": "https://localhost:8080/"
        },
        "id": "suNW4kkAU8GN",
        "outputId": "d8330159-2dac-4e65-d156-7431251e8960"
      },
      "source": [
        "print(dict3['name'])"
      ],
      "execution_count": null,
      "outputs": [
        {
          "output_type": "stream",
          "text": [
            "['Sugandh', 'Vijaylaxmi']\n"
          ],
          "name": "stdout"
        }
      ]
    },
    {
      "cell_type": "code",
      "metadata": {
        "colab": {
          "base_uri": "https://localhost:8080/"
        },
        "id": "J3VmExHBU_cT",
        "outputId": "6f86fcf8-7eba-4158-dd36-010ec6afe9c6"
      },
      "source": [
        "tup1 = ('red','green','blue')\n",
        "print(tup1)"
      ],
      "execution_count": null,
      "outputs": [
        {
          "output_type": "stream",
          "text": [
            "('red', 'green', 'blue')\n"
          ],
          "name": "stdout"
        }
      ]
    },
    {
      "cell_type": "code",
      "metadata": {
        "colab": {
          "base_uri": "https://localhost:8080/"
        },
        "id": "_yrLb0NcVO5l",
        "outputId": "7105409f-3ac1-4019-fde8-2baaad9f7685"
      },
      "source": [
        "print(tup1[0])"
      ],
      "execution_count": null,
      "outputs": [
        {
          "output_type": "stream",
          "text": [
            "red\n"
          ],
          "name": "stdout"
        }
      ]
    },
    {
      "cell_type": "code",
      "metadata": {
        "colab": {
          "base_uri": "https://localhost:8080/",
          "height": 178
        },
        "id": "33iYanjUVTKy",
        "outputId": "913911ec-b03a-478f-fead-0ae996e41273"
      },
      "source": [
        "tup1[0]='yellow'\n",
        "print(tup1)"
      ],
      "execution_count": null,
      "outputs": [
        {
          "output_type": "error",
          "ename": "TypeError",
          "evalue": "ignored",
          "traceback": [
            "\u001b[0;31m---------------------------------------------------------------------------\u001b[0m",
            "\u001b[0;31mTypeError\u001b[0m                                 Traceback (most recent call last)",
            "\u001b[0;32m<ipython-input-32-c13157402f18>\u001b[0m in \u001b[0;36m<module>\u001b[0;34m()\u001b[0m\n\u001b[0;32m----> 1\u001b[0;31m \u001b[0mtup1\u001b[0m\u001b[0;34m[\u001b[0m\u001b[0;36m0\u001b[0m\u001b[0;34m]\u001b[0m\u001b[0;34m=\u001b[0m\u001b[0;34m'yellow'\u001b[0m\u001b[0;34m\u001b[0m\u001b[0;34m\u001b[0m\u001b[0m\n\u001b[0m\u001b[1;32m      2\u001b[0m \u001b[0mprint\u001b[0m\u001b[0;34m(\u001b[0m\u001b[0mtup1\u001b[0m\u001b[0;34m)\u001b[0m\u001b[0;34m\u001b[0m\u001b[0;34m\u001b[0m\u001b[0m\n",
            "\u001b[0;31mTypeError\u001b[0m: 'tuple' object does not support item assignment"
          ]
        }
      ]
    },
    {
      "cell_type": "code",
      "metadata": {
        "colab": {
          "base_uri": "https://localhost:8080/"
        },
        "id": "RplHKhMvVZLJ",
        "outputId": "6b44dc20-36af-4407-810b-f672cc1feb6e"
      },
      "source": [
        "var[0]='yellow'\n",
        "print(var)"
      ],
      "execution_count": null,
      "outputs": [
        {
          "output_type": "stream",
          "text": [
            "['yellow', 'blue', 'white']\n"
          ],
          "name": "stdout"
        }
      ]
    },
    {
      "cell_type": "code",
      "metadata": {
        "id": "BlGE4gXmf3HS",
        "colab": {
          "base_uri": "https://localhost:8080/"
        },
        "outputId": "56b33e92-477a-4a18-ec47-0b5a7f976f29"
      },
      "source": [
        "var1 = 5\n",
        "var2 = 6\n",
        "result = var1 + var2\n",
        "result2 = var1 * var2\n",
        "print(\"Addition: {}, Multiplication :{}\".format(result,result2))\n",
        "\n"
      ],
      "execution_count": null,
      "outputs": [
        {
          "output_type": "stream",
          "text": [
            "Addition: 11, Multiplication :30\n"
          ],
          "name": "stdout"
        }
      ]
    },
    {
      "cell_type": "code",
      "metadata": {
        "colab": {
          "base_uri": "https://localhost:8080/"
        },
        "id": "B9K1XYN5up1E",
        "outputId": "03e4f7f2-def7-4dc6-dbe8-7ee727acf41c"
      },
      "source": [
        "dict = {\"name\":\"viji\"}\n",
        "dict[\"gender\"] = \"Female\"\n",
        "print(dict)"
      ],
      "execution_count": null,
      "outputs": [
        {
          "output_type": "stream",
          "text": [
            "{'name': 'viji', 'gender': 'Female'}\n"
          ],
          "name": "stdout"
        }
      ]
    },
    {
      "cell_type": "code",
      "metadata": {
        "colab": {
          "base_uri": "https://localhost:8080/"
        },
        "id": "5Ym3Nqe_u9oy",
        "outputId": "eb07cc78-68d0-4d07-91cd-feb0129246aa"
      },
      "source": [
        "list1 = [1,2,3,4,5]\n",
        "print(list1[-2:])\n",
        "print(list1*3)"
      ],
      "execution_count": null,
      "outputs": [
        {
          "output_type": "stream",
          "text": [
            "[4, 5]\n",
            "[1, 2, 3, 4, 5, 1, 2, 3, 4, 5, 1, 2, 3, 4, 5]\n"
          ],
          "name": "stdout"
        }
      ]
    },
    {
      "cell_type": "code",
      "metadata": {
        "colab": {
          "base_uri": "https://localhost:8080/"
        },
        "id": "Zh4cPr2CvyIL",
        "outputId": "435474a1-d5d0-4cdf-cf71-29b5931e3392"
      },
      "source": [
        "\n",
        "tup1 = (1,2,3,4,5)\n",
        "print(tup1[2:4])"
      ],
      "execution_count": null,
      "outputs": [
        {
          "output_type": "stream",
          "text": [
            "(3, 4)\n"
          ],
          "name": "stdout"
        }
      ]
    },
    {
      "cell_type": "code",
      "metadata": {
        "colab": {
          "base_uri": "https://localhost:8080/"
        },
        "id": "pA-3nOwRweaS",
        "outputId": "8899653a-35d9-4a89-ac81-3ae110340c55"
      },
      "source": [
        "list2 = [6,7,8,9]\n",
        "print(list1+list2)"
      ],
      "execution_count": null,
      "outputs": [
        {
          "output_type": "stream",
          "text": [
            "[1, 2, 3, 4, 5, 6, 7, 8, 9]\n"
          ],
          "name": "stdout"
        }
      ]
    },
    {
      "cell_type": "code",
      "metadata": {
        "colab": {
          "base_uri": "https://localhost:8080/"
        },
        "id": "dztItvzqw0gN",
        "outputId": "207c02dc-da6c-4a84-e8eb-61c99257ac8a"
      },
      "source": [
        "var = 56\n",
        "fl = float(var)\n",
        "st = str(var)\n",
        "print(\"float:{}, string:{}\".format(fl,st))"
      ],
      "execution_count": null,
      "outputs": [
        {
          "output_type": "stream",
          "text": [
            "float:56.0, string:56\n"
          ],
          "name": "stdout"
        }
      ]
    },
    {
      "cell_type": "code",
      "metadata": {
        "colab": {
          "base_uri": "https://localhost:8080/"
        },
        "id": "KRiuCRmKxRo0",
        "outputId": "d48ad5d9-802a-4d7d-e974-fdd5a46cb165"
      },
      "source": [
        "ml = \"\"\"this is a multilne\n",
        "string\"\"\"\n",
        "print(ml)\n",
        "\n",
        "print(\"this is multiline|n string\")"
      ],
      "execution_count": null,
      "outputs": [
        {
          "output_type": "stream",
          "text": [
            "this is a multilne\n",
            "string\n",
            "this is multiline|n string\n"
          ],
          "name": "stdout"
        }
      ]
    },
    {
      "cell_type": "code",
      "metadata": {
        "colab": {
          "base_uri": "https://localhost:8080/",
          "height": 35
        },
        "id": "QiYyHHcSxz4m",
        "outputId": "96f0aaf4-0351-43dd-dd05-1653aedf15dc"
      },
      "source": [
        "''' This is a multiline\n",
        "string'''"
      ],
      "execution_count": null,
      "outputs": [
        {
          "output_type": "execute_result",
          "data": {
            "application/vnd.google.colaboratory.intrinsic+json": {
              "type": "string"
            },
            "text/plain": [
              "' This is a multiline\\nstring'"
            ]
          },
          "metadata": {
            "tags": []
          },
          "execution_count": 58
        }
      ]
    },
    {
      "cell_type": "code",
      "metadata": {
        "colab": {
          "base_uri": "https://localhost:8080/"
        },
        "id": "xHzaoq8kx7a3",
        "outputId": "77a7275c-63a9-46ea-d132-a243da47b021"
      },
      "source": [
        "''' I am doing addition here'''\n",
        "print(2+3)"
      ],
      "execution_count": null,
      "outputs": [
        {
          "output_type": "stream",
          "text": [
            "5\n"
          ],
          "name": "stdout"
        }
      ]
    },
    {
      "cell_type": "code",
      "metadata": {
        "colab": {
          "base_uri": "https://localhost:8080/"
        },
        "id": "mz20tjqSyFs9",
        "outputId": "b1f18d81-0522-48eb-f348-6f9913904749"
      },
      "source": [
        "# here we do multiplication\n",
        "print(2*3)"
      ],
      "execution_count": null,
      "outputs": [
        {
          "output_type": "stream",
          "text": [
            "6\n"
          ],
          "name": "stdout"
        }
      ]
    },
    {
      "cell_type": "code",
      "metadata": {
        "id": "hP2i21TSyYa_"
      },
      "source": [
        ""
      ],
      "execution_count": null,
      "outputs": []
    }
  ]
}