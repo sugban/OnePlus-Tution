{
  "nbformat": 4,
  "nbformat_minor": 0,
  "metadata": {
    "colab": {
      "name": "Homework lesson 1",
      "provenance": [],
      "collapsed_sections": [],
      "include_colab_link": true
    },
    "kernelspec": {
      "name": "python3",
      "display_name": "Python 3"
    },
    "language_info": {
      "name": "python"
    }
  },
  "cells": [
    {
      "cell_type": "markdown",
      "metadata": {
        "id": "view-in-github",
        "colab_type": "text"
      },
      "source": [
        "<a href=\"https://colab.research.google.com/github/sugban/OnePlus-Tution/blob/main/Python/Lesson1/Homework_lesson_1.ipynb\" target=\"_parent\"><img src=\"https://colab.research.google.com/assets/colab-badge.svg\" alt=\"Open In Colab\"/></a>"
      ]
    },
    {
      "cell_type": "markdown",
      "metadata": {
        "id": "retMeqOHOr1Q"
      },
      "source": [
        "1. Print your name, date and class homework title"
      ]
    },
    {
      "cell_type": "code",
      "metadata": {
        "id": "2LqFcBMeeT6Q",
        "colab": {
          "base_uri": "https://localhost:8080/"
        },
        "outputId": "65d1519b-4b40-46d3-c302-469fef675ff5"
      },
      "source": [
        "name = \"Vijayalakshmi\"\n",
        "date = \"July 5\"\n",
        "homework = \"Lesson1\"\n",
        "print(\"name:{},date:{},honework:{}\".format(name,date,homework))"
      ],
      "execution_count": null,
      "outputs": [
        {
          "output_type": "stream",
          "text": [
            "name:Vijayalakshmi,date:July 5,honework:Lesson1\n"
          ],
          "name": "stdout"
        }
      ]
    },
    {
      "cell_type": "markdown",
      "metadata": {
        "id": "WVrU6d9AOysg"
      },
      "source": [
        "2. Create a numerical varibale and print it to check the output."
      ]
    },
    {
      "cell_type": "code",
      "metadata": {
        "id": "562lLuJWWaXb",
        "colab": {
          "base_uri": "https://localhost:8080/"
        },
        "outputId": "e5bba2c4-9f4e-4e73-9007-51cce3308f27"
      },
      "source": [
        "num = 10\n",
        "print(num)"
      ],
      "execution_count": null,
      "outputs": [
        {
          "output_type": "stream",
          "text": [
            "10\n"
          ],
          "name": "stdout"
        }
      ]
    },
    {
      "cell_type": "markdown",
      "metadata": {
        "id": "T9XOofhCO3yQ"
      },
      "source": [
        " 3. Bring the output : 600 with these two variables \n",
        "---\n",
        "number1 = 20 <br>\n",
        "number2 = 30"
      ]
    },
    {
      "cell_type": "code",
      "metadata": {
        "id": "WDUsLTjxW7ub",
        "colab": {
          "base_uri": "https://localhost:8080/"
        },
        "outputId": "26aa5366-ef6f-4c7f-b998-62e9450a13e0"
      },
      "source": [
        "number1 = 20\n",
        "number2 = 30\n",
        "print(number1*number2)"
      ],
      "execution_count": null,
      "outputs": [
        {
          "output_type": "stream",
          "text": [
            "600\n"
          ],
          "name": "stdout"
        }
      ]
    },
    {
      "cell_type": "markdown",
      "metadata": {
        "id": "lz1f9GZhO_x4"
      },
      "source": [
        "4. Define a string variable and try to slice them and print the output with comment expalining your actions."
      ]
    },
    {
      "cell_type": "code",
      "metadata": {
        "id": "lD-8th7SXMOq",
        "colab": {
          "base_uri": "https://localhost:8080/"
        },
        "outputId": "cfd36fd7-fb00-4b53-d815-2713c608a10c"
      },
      "source": [
        "str1 = \"Python Coding\"\n",
        "print(str1[:6])#printing 1st word\n",
        "print(str1[7:])#printing the 2nd word"
      ],
      "execution_count": null,
      "outputs": [
        {
          "output_type": "stream",
          "text": [
            "Python\n",
            "Coding\n"
          ],
          "name": "stdout"
        }
      ]
    },
    {
      "cell_type": "markdown",
      "metadata": {
        "id": "Ppfime1kPGgX"
      },
      "source": [
        "5. Define a list and add two lists together to check, if its adding or not."
      ]
    },
    {
      "cell_type": "code",
      "metadata": {
        "id": "7uXr2R8IXXOy",
        "colab": {
          "base_uri": "https://localhost:8080/"
        },
        "outputId": "b3beece0-78eb-4db6-c7b0-31da4e41e8a9"
      },
      "source": [
        "list1=['a','b','c']\n",
        "list2 = [1,2,3]\n",
        "\n",
        "print(list1+list2)#using adding\n",
        "\n"
      ],
      "execution_count": null,
      "outputs": [
        {
          "output_type": "stream",
          "text": [
            "['a', 'b', 'c', 1, 2, 3]\n"
          ],
          "name": "stdout"
        }
      ]
    },
    {
      "cell_type": "markdown",
      "metadata": {
        "id": "849YeOcIPIen"
      },
      "source": [
        "6. Define a dictionary with key and values, where at least one value is a list or tuple. Print the dictionary."
      ]
    },
    {
      "cell_type": "code",
      "metadata": {
        "id": "4NZ_p7cqXhUq",
        "colab": {
          "base_uri": "https://localhost:8080/"
        },
        "outputId": "984d4253-26c0-4796-e116-f5726f5f1769"
      },
      "source": [
        "dict1 = {\"operators\":('+','-','*','/'),\"nums\":[1,2,3,4,5]}\n",
        "print(dict1)\n",
        "print(dict1[\"operators\"])\n",
        "print(dict1[\"nums\"])"
      ],
      "execution_count": null,
      "outputs": [
        {
          "output_type": "stream",
          "text": [
            "{'operators': ('+', '-', '*', '/'), 'nums': [1, 2, 3, 4, 5]}\n",
            "('+', '-', '*', '/')\n",
            "[1, 2, 3, 4, 5]\n"
          ],
          "name": "stdout"
        }
      ]
    },
    {
      "cell_type": "markdown",
      "metadata": {
        "id": "DBqn7m6CPL63"
      },
      "source": [
        "7. Define tuple and check if it can be double up with * and print it."
      ]
    },
    {
      "cell_type": "code",
      "metadata": {
        "id": "bgo0sGAvXyTy",
        "colab": {
          "base_uri": "https://localhost:8080/"
        },
        "outputId": "ced6754a-4a43-4143-cc36-34fc2410b60e"
      },
      "source": [
        "tuple = (\"apple\",\"orange\",\"banana\")\n",
        "print(tuple*2)"
      ],
      "execution_count": null,
      "outputs": [
        {
          "output_type": "stream",
          "text": [
            "('apple', 'orange', 'banana', 'apple', 'orange', 'banana')\n"
          ],
          "name": "stdout"
        }
      ]
    },
    {
      "cell_type": "markdown",
      "metadata": {
        "id": "M7FFuah3POTU"
      },
      "source": [
        "8. What will be the output for\n",
        "---\n",
        "b = [11,13,15,17,19,21]<br> print(b[:2])"
      ]
    },
    {
      "cell_type": "code",
      "metadata": {
        "id": "PynWC_hwegO_",
        "colab": {
          "base_uri": "https://localhost:8080/"
        },
        "outputId": "6d335118-ba39-4500-be87-21a0f37c4599"
      },
      "source": [
        "[11,13]"
      ],
      "execution_count": null,
      "outputs": [
        {
          "output_type": "stream",
          "text": [
            "[11, 13]\n"
          ],
          "name": "stdout"
        }
      ]
    },
    {
      "cell_type": "markdown",
      "metadata": {
        "id": "z-lhM4BaPTau"
      },
      "source": [
        "9. dict1 = {'F_Name': 'Zara', 'Age': 7, 'L_Name': 'Manni'} \n",
        "---\n",
        "Get the output : 'Manni'"
      ]
    },
    {
      "cell_type": "code",
      "metadata": {
        "id": "3hMAbx5zfxB4",
        "colab": {
          "base_uri": "https://localhost:8080/"
        },
        "outputId": "2cb3d9bd-8643-41e4-c1da-9d3e4ad29a07"
      },
      "source": [
        "dict1 = {'F_Name': 'Zara', 'Age': 7, 'L_Name': 'Manni'}\n",
        "print(dict1['L_Name'])"
      ],
      "execution_count": null,
      "outputs": [
        {
          "output_type": "stream",
          "text": [
            "Manni\n"
          ],
          "name": "stdout"
        }
      ]
    },
    {
      "cell_type": "markdown",
      "metadata": {
        "id": "6M7KPdHDPV3g"
      },
      "source": [
        "10. tup1 = ('physics', 'chemistry', 1997, 2000) <br> tup1[0]='Art'\n",
        "---\n",
        "What will be the output\n"
      ]
    },
    {
      "cell_type": "code",
      "metadata": {
        "id": "Hd9IPktof0xW"
      },
      "source": [
        "error as tuple is immutable"
      ],
      "execution_count": null,
      "outputs": []
    },
    {
      "cell_type": "markdown",
      "metadata": {
        "id": "e9ZBUM4gPZDW"
      },
      "source": [
        " \n",
        "*   Try to play little more with varibales and its different types and explore, what you can do.\n",
        "*   Try to index and slice string, list, dictionary and tuple.\n",
        "*   Play with floating and integer numbers as well and check whether it changes, when you define a certain numeric data type to the variable."
      ]
    },
    {
      "cell_type": "code",
      "metadata": {
        "id": "FWbLALusYeXR",
        "colab": {
          "base_uri": "https://localhost:8080/"
        },
        "outputId": "8685b429-c4df-4fa9-bcc8-097ab15eeefa"
      },
      "source": [
        "#checking methods in list\n",
        "l1 = [1,2,3]\n",
        "l2 = [4,5,6]\n",
        "l3 = ['a','b']\n",
        "#print(l1.extend(l2))\n",
        "l1.extend(l2)\n",
        "l2.reverse()\n",
        "l3.append('c')\n",
        "print(l1,l2,l3)"
      ],
      "execution_count": null,
      "outputs": [
        {
          "output_type": "stream",
          "text": [
            "[1, 2, 3, 4, 5, 6] [6, 5, 4] ['a', 'b', 'c']\n"
          ],
          "name": "stdout"
        }
      ]
    }
  ]
}