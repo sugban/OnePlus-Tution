{
  "nbformat": 4,
  "nbformat_minor": 0,
  "metadata": {
    "colab": {
      "name": "Lesson 4_ Homework",
      "provenance": [],
      "include_colab_link": true
    },
    "kernelspec": {
      "name": "python3",
      "display_name": "Python 3"
    },
    "language_info": {
      "name": "python"
    }
  },
  "cells": [
    {
      "cell_type": "markdown",
      "metadata": {
        "id": "view-in-github",
        "colab_type": "text"
      },
      "source": [
        "<a href=\"https://colab.research.google.com/github/sugban/OnePlus-Tution/blob/main/Python/Lesson4/Lesson_4__Homework.ipynb\" target=\"_parent\"><img src=\"https://colab.research.google.com/assets/colab-badge.svg\" alt=\"Open In Colab\"/></a>"
      ]
    },
    {
      "cell_type": "markdown",
      "metadata": {
        "id": "s-usBlB595AB"
      },
      "source": [
        "1. Print the first item of the tuple.\n",
        "\n",
        "body_parts = (\"Nose\", \"Ear\", \"Eyes\", \"Hand\", \"Leg\", \"Mouth\")"
      ]
    },
    {
      "cell_type": "code",
      "metadata": {
        "id": "LYy2fgA89pVA",
        "colab": {
          "base_uri": "https://localhost:8080/",
          "height": 35
        },
        "outputId": "7d8378f2-9e3a-4a66-ec67-c7b3fe66d75b"
      },
      "source": [
        "body_parts = (\"Nose\", \"Ear\", \"Eyes\", \"Hand\", \"Leg\", \"Mouth\")\n",
        "body_parts[0]"
      ],
      "execution_count": null,
      "outputs": [
        {
          "output_type": "execute_result",
          "data": {
            "application/vnd.google.colaboratory.intrinsic+json": {
              "type": "string"
            },
            "text/plain": [
              "'Nose'"
            ]
          },
          "metadata": {
            "tags": []
          },
          "execution_count": 1
        }
      ]
    },
    {
      "cell_type": "markdown",
      "metadata": {
        "id": "36IzoANt-RSy"
      },
      "source": [
        "2. Use the correct syntax to print the number of items in the body_parts tuple.\n",
        "\n"
      ]
    },
    {
      "cell_type": "code",
      "metadata": {
        "id": "pMdyjin_-icp",
        "colab": {
          "base_uri": "https://localhost:8080/"
        },
        "outputId": "396aee74-98ce-4a19-eefa-00156e666cc7"
      },
      "source": [
        "print(len(body_parts))"
      ],
      "execution_count": null,
      "outputs": [
        {
          "output_type": "stream",
          "text": [
            "6\n"
          ],
          "name": "stdout"
        }
      ]
    },
    {
      "cell_type": "markdown",
      "metadata": {
        "id": "MGCrBVbI-jDM"
      },
      "source": [
        "3. Use negative indexing to print the last item in the tuple"
      ]
    },
    {
      "cell_type": "code",
      "metadata": {
        "id": "AVOtmFzg-ofo",
        "colab": {
          "base_uri": "https://localhost:8080/"
        },
        "outputId": "2dbbff4a-fea6-46ff-9fcd-3d49cb520cda"
      },
      "source": [
        "print(body_parts[-1])"
      ],
      "execution_count": null,
      "outputs": [
        {
          "output_type": "stream",
          "text": [
            "Mouth\n"
          ],
          "name": "stdout"
        }
      ]
    },
    {
      "cell_type": "markdown",
      "metadata": {
        "id": "lLuYAX5O-0jR"
      },
      "source": [
        "4. Convert tuple into list and add two more body parts in the tuple and change back to tuple"
      ]
    },
    {
      "cell_type": "code",
      "metadata": {
        "id": "o4ScZTY0_AUV",
        "colab": {
          "base_uri": "https://localhost:8080/"
        },
        "outputId": "448cf1d0-2316-4787-96b4-7b9779342291"
      },
      "source": [
        "list1 = list(body_parts)\n",
        "list1.append(\"nails\")\n",
        "list1.append(\"fingers\")\n",
        "body_parts_updated = tuple(list1)\n",
        "print(body_parts_updated)"
      ],
      "execution_count": null,
      "outputs": [
        {
          "output_type": "stream",
          "text": [
            "('Nose', 'Ear', 'Eyes', 'Hand', 'Leg', 'Mouth', 'nails', 'fingers')\n"
          ],
          "name": "stdout"
        }
      ]
    },
    {
      "cell_type": "markdown",
      "metadata": {
        "id": "1DeBGFHu-0nA"
      },
      "source": [
        "5. Update the 1st index value of the tuple"
      ]
    },
    {
      "cell_type": "code",
      "metadata": {
        "id": "dRFvQykU_GqS",
        "colab": {
          "base_uri": "https://localhost:8080/",
          "height": 164
        },
        "outputId": "1629510a-44bf-48e3-eaa6-e3b318a70065"
      },
      "source": [
        "body_parts.append(\"hair\")"
      ],
      "execution_count": null,
      "outputs": [
        {
          "output_type": "error",
          "ename": "AttributeError",
          "evalue": "ignored",
          "traceback": [
            "\u001b[0;31m---------------------------------------------------------------------------\u001b[0m",
            "\u001b[0;31mAttributeError\u001b[0m                            Traceback (most recent call last)",
            "\u001b[0;32m<ipython-input-7-8fec4eccc1ed>\u001b[0m in \u001b[0;36m<module>\u001b[0;34m()\u001b[0m\n\u001b[0;32m----> 1\u001b[0;31m \u001b[0mbody_parts\u001b[0m\u001b[0;34m.\u001b[0m\u001b[0mappend\u001b[0m\u001b[0;34m(\u001b[0m\u001b[0;34m\"hair\"\u001b[0m\u001b[0;34m)\u001b[0m\u001b[0;34m\u001b[0m\u001b[0;34m\u001b[0m\u001b[0m\n\u001b[0m",
            "\u001b[0;31mAttributeError\u001b[0m: 'tuple' object has no attribute 'append'"
          ]
        }
      ]
    },
    {
      "cell_type": "markdown",
      "metadata": {
        "id": "ApdRrsP6-pdR"
      },
      "source": [
        "6. Use a range of indexes to print the third, fourth, and fifth item in the tuple"
      ]
    },
    {
      "cell_type": "code",
      "metadata": {
        "id": "jwSo7Slo-zqs",
        "colab": {
          "base_uri": "https://localhost:8080/"
        },
        "outputId": "b8280c6a-d024-4ce2-ce45-bc738704afa2"
      },
      "source": [
        "print(body_parts[3:6])"
      ],
      "execution_count": null,
      "outputs": [
        {
          "output_type": "stream",
          "text": [
            "('Hand', 'Leg', 'Mouth')\n"
          ],
          "name": "stdout"
        }
      ]
    },
    {
      "cell_type": "markdown",
      "metadata": {
        "id": "vGTlNLsd_bEq"
      },
      "source": [
        "7. Create a dictionary with the student data, with the key (name, date of birth, class and class_year)"
      ]
    },
    {
      "cell_type": "code",
      "metadata": {
        "id": "WSJ441bT_bqe",
        "colab": {
          "base_uri": "https://localhost:8080/"
        },
        "outputId": "96ad4d78-4f50-4b5b-c0ae-041ee6d5eede"
      },
      "source": [
        "student_data = {}\n",
        "student_data['name'] = \"Sam\"\n",
        "student_data['dob'] = \"MAY-01-1986\"\n",
        "student_data['class'] = \"Engg\"\n",
        "student_data['Class_year'] = 2006\n",
        "student_data"
      ],
      "execution_count": null,
      "outputs": [
        {
          "output_type": "execute_result",
          "data": {
            "text/plain": [
              "{'Class_year': 2006, 'class': 'Engg', 'dob': 'MAY-01-1986', 'name': 'Sam'}"
            ]
          },
          "metadata": {
            "tags": []
          },
          "execution_count": 9
        }
      ]
    },
    {
      "cell_type": "markdown",
      "metadata": {
        "id": "vGK87euH_KdA"
      },
      "source": [
        "8. Use the get() to print the value of the \"model\" key of the dictionary"
      ]
    },
    {
      "cell_type": "code",
      "metadata": {
        "id": "_PIoyYCl_yT5",
        "colab": {
          "base_uri": "https://localhost:8080/",
          "height": 35
        },
        "outputId": "45036ca8-0f75-4ec4-dfe1-6bc1ff66e388"
      },
      "source": [
        "student_data['name']"
      ],
      "execution_count": null,
      "outputs": [
        {
          "output_type": "execute_result",
          "data": {
            "application/vnd.google.colaboratory.intrinsic+json": {
              "type": "string"
            },
            "text/plain": [
              "'Sam'"
            ]
          },
          "metadata": {
            "tags": []
          },
          "execution_count": 10
        }
      ]
    },
    {
      "cell_type": "markdown",
      "metadata": {
        "id": "12e_bXNE_y8D"
      },
      "source": [
        "9. Change the \"class_year\" value for example from 2000 to 2010"
      ]
    },
    {
      "cell_type": "code",
      "metadata": {
        "id": "U2IqhpfMABPT"
      },
      "source": [
        "student_data['Class_year'] = 2010"
      ],
      "execution_count": null,
      "outputs": []
    },
    {
      "cell_type": "markdown",
      "metadata": {
        "id": "tT1Q6F-iACBF"
      },
      "source": [
        "10. Add the key/value pair \"class_teacher\" : \"Mrs. Thomas\" to the dictionary"
      ]
    },
    {
      "cell_type": "code",
      "metadata": {
        "id": "JIFZbtGiAPzd"
      },
      "source": [
        "student_data['class_teacher'] = \"Mrs.Thomas\""
      ],
      "execution_count": null,
      "outputs": []
    },
    {
      "cell_type": "markdown",
      "metadata": {
        "id": "3j0l0ezSAQ4C"
      },
      "source": [
        "11. Use the pop method to remove \"class_year\" from the dictionary"
      ]
    },
    {
      "cell_type": "code",
      "metadata": {
        "id": "WNxrf9bWAa9H",
        "colab": {
          "base_uri": "https://localhost:8080/"
        },
        "outputId": "6e5c572a-c3dc-4755-e35d-5480b8bc092a"
      },
      "source": [
        "student_data.pop(\"Class_year\")"
      ],
      "execution_count": null,
      "outputs": [
        {
          "output_type": "execute_result",
          "data": {
            "text/plain": [
              "2010"
            ]
          },
          "metadata": {
            "tags": []
          },
          "execution_count": 15
        }
      ]
    },
    {
      "cell_type": "markdown",
      "metadata": {
        "id": "3YgqkSOaAbtD"
      },
      "source": [
        "12. Create a dictionary into student dictionary in the key name \"subject\" with the value<br>\n",
        " {'Math':['Airthematic','Geomatry','Algebra'],'Science':['Physics','Chemistry','Biology'], 'Economics':['Micro','Macro','Statistics']}"
      ]
    },
    {
      "cell_type": "code",
      "metadata": {
        "id": "Z6cBdOvQBqSq"
      },
      "source": [
        "student_data[\"subject\"] = {'Math':['Airthematic','Geomatry','Algebra'],'Science':['Physics','Chemistry','Biology'], 'Economics':['Micro','Macro','Statistics']}"
      ],
      "execution_count": null,
      "outputs": []
    },
    {
      "cell_type": "markdown",
      "metadata": {
        "id": "QViC5ZE1Bxwc"
      },
      "source": [
        "13. get the key 'subject' value 'Economics' in the output"
      ]
    },
    {
      "cell_type": "code",
      "metadata": {
        "id": "HXaTjmYBB9XJ",
        "colab": {
          "base_uri": "https://localhost:8080/"
        },
        "outputId": "026ca2ff-30df-4d97-de19-a98b38ca3f1e"
      },
      "source": [
        "student_data['subject']['Economics']"
      ],
      "execution_count": null,
      "outputs": [
        {
          "output_type": "execute_result",
          "data": {
            "text/plain": [
              "['Micro', 'Macro', 'Statistics']"
            ]
          },
          "metadata": {
            "tags": []
          },
          "execution_count": 18
        }
      ]
    },
    {
      "cell_type": "markdown",
      "metadata": {
        "id": "9yr07kpAB-Hb"
      },
      "source": [
        "14. fromkeys() method is used to create a new dictionary with the same value of all the keys"
      ]
    },
    {
      "cell_type": "code",
      "metadata": {
        "colab": {
          "base_uri": "https://localhost:8080/"
        },
        "id": "4tIL2Tc4fpVY",
        "outputId": "d280b85a-9716-424e-de82-742fcbd4e41d"
      },
      "source": [
        "studentsname = ['John','Mike','Cris','Robert','Peter']\n",
        "class_student = dict.fromkeys(studentsname,'IV')\n",
        "class_student"
      ],
      "execution_count": null,
      "outputs": [
        {
          "output_type": "execute_result",
          "data": {
            "text/plain": [
              "{'Cris': 'IV', 'John': 'IV', 'Mike': 'IV', 'Peter': 'IV', 'Robert': 'IV'}"
            ]
          },
          "metadata": {
            "tags": []
          },
          "execution_count": 2
        }
      ]
    },
    {
      "cell_type": "markdown",
      "metadata": {
        "id": "6SUpp4hMgKYh"
      },
      "source": [
        "Or if you want to make a dictionary without the values and only with keys"
      ]
    },
    {
      "cell_type": "code",
      "metadata": {
        "colab": {
          "base_uri": "https://localhost:8080/"
        },
        "id": "YI6AAV8mf8Bx",
        "outputId": "06381d27-492e-4231-cb11-ce7d9c8d014b"
      },
      "source": [
        "class_teacher = ['Mrs.Thomas','Mr.Ravi','Miss Abha','Mr. Nielsen']\n",
        "teacher = dict.fromkeys(class_teacher)\n",
        "teacher"
      ],
      "execution_count": null,
      "outputs": [
        {
          "output_type": "execute_result",
          "data": {
            "text/plain": [
              "{'Miss Abha': None, 'Mr. Nielsen': None, 'Mr.Ravi': None, 'Mrs.Thomas': None}"
            ]
          },
          "metadata": {
            "tags": []
          },
          "execution_count": 3
        }
      ]
    },
    {
      "cell_type": "code",
      "metadata": {
        "id": "fU1ulJmzglqY"
      },
      "source": [
        ""
      ],
      "execution_count": null,
      "outputs": []
    }
  ]
}