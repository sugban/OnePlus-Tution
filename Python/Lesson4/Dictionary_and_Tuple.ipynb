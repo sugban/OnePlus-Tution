{
  "nbformat": 4,
  "nbformat_minor": 0,
  "metadata": {
    "colab": {
      "name": "Dictionary and Tuple",
      "provenance": [],
      "include_colab_link": true
    },
    "kernelspec": {
      "name": "python3",
      "display_name": "Python 3"
    },
    "language_info": {
      "name": "python"
    }
  },
  "cells": [
    {
      "cell_type": "markdown",
      "metadata": {
        "id": "view-in-github",
        "colab_type": "text"
      },
      "source": [
        "<a href=\"https://colab.research.google.com/github/sugban/OnePlus-Tution/blob/main/Python/Lesson4/Dictionary_and_Tuple.ipynb\" target=\"_parent\"><img src=\"https://colab.research.google.com/assets/colab-badge.svg\" alt=\"Open In Colab\"/></a>"
      ]
    },
    {
      "cell_type": "code",
      "metadata": {
        "id": "eFPRXDAgEB8i"
      },
      "source": [
        "population = {'Denmark': 5792202, 'Germany': 83783942, 'France': 65273511, 'Spain':46754778}"
      ],
      "execution_count": null,
      "outputs": []
    },
    {
      "cell_type": "code",
      "metadata": {
        "id": "i4SI6fDRElVG",
        "colab": {
          "base_uri": "https://localhost:8080/"
        },
        "outputId": "f49e39b2-5a57-470c-b0ad-ff92d2e759b1"
      },
      "source": [
        "population['France']"
      ],
      "execution_count": null,
      "outputs": [
        {
          "output_type": "execute_result",
          "data": {
            "text/plain": [
              "65273511"
            ]
          },
          "metadata": {
            "tags": []
          },
          "execution_count": 4
        }
      ]
    },
    {
      "cell_type": "code",
      "metadata": {
        "id": "ozw_YWKKt9ya",
        "colab": {
          "base_uri": "https://localhost:8080/"
        },
        "outputId": "74727a06-0546-455d-ca74-5b3ddbd76b94"
      },
      "source": [
        "population.get('France')"
      ],
      "execution_count": null,
      "outputs": [
        {
          "output_type": "execute_result",
          "data": {
            "text/plain": [
              "65273511"
            ]
          },
          "metadata": {
            "tags": []
          },
          "execution_count": 5
        }
      ]
    },
    {
      "cell_type": "code",
      "metadata": {
        "id": "omrDTn5_t9_u",
        "colab": {
          "base_uri": "https://localhost:8080/"
        },
        "outputId": "a721521e-45ae-46a0-aaad-96500d5fe45d"
      },
      "source": [
        "population.keys()"
      ],
      "execution_count": null,
      "outputs": [
        {
          "output_type": "execute_result",
          "data": {
            "text/plain": [
              "dict_keys(['Denmark', 'Germany', 'France', 'Spain'])"
            ]
          },
          "metadata": {
            "tags": []
          },
          "execution_count": 6
        }
      ]
    },
    {
      "cell_type": "code",
      "metadata": {
        "id": "tFFG7ln2t-Lf",
        "colab": {
          "base_uri": "https://localhost:8080/"
        },
        "outputId": "b2b09215-50a9-4962-fb72-34337a95cff8"
      },
      "source": [
        "population.values()"
      ],
      "execution_count": null,
      "outputs": [
        {
          "output_type": "execute_result",
          "data": {
            "text/plain": [
              "dict_values([5792202, 83783942, 65273511, 46754778])"
            ]
          },
          "metadata": {
            "tags": []
          },
          "execution_count": 7
        }
      ]
    },
    {
      "cell_type": "code",
      "metadata": {
        "id": "KJT57GQfuGuz",
        "colab": {
          "base_uri": "https://localhost:8080/"
        },
        "outputId": "5fdcb919-ea23-4895-a952-8b6e8a23f80f"
      },
      "source": [
        "population.items()"
      ],
      "execution_count": null,
      "outputs": [
        {
          "output_type": "execute_result",
          "data": {
            "text/plain": [
              "dict_items([('Denmark', 5792202), ('Germany', 83783942), ('France', 65273511), ('Spain', 46754778)])"
            ]
          },
          "metadata": {
            "tags": []
          },
          "execution_count": 8
        }
      ]
    },
    {
      "cell_type": "markdown",
      "metadata": {
        "id": "hDBz7vgEu5Zf"
      },
      "source": [
        "Check if the key exists"
      ]
    },
    {
      "cell_type": "code",
      "metadata": {
        "id": "KkiuvwQfu-M0",
        "colab": {
          "base_uri": "https://localhost:8080/"
        },
        "outputId": "72dbc78c-53de-4bae-cd6f-4d7b49500abf"
      },
      "source": [
        "if 'France' in population:\n",
        "  print(\"Yes, 'France' is one of the keys in the dictionary\")\n",
        "else:\n",
        "  print('Sorry! it\\'s not in the dictionary')"
      ],
      "execution_count": null,
      "outputs": [
        {
          "output_type": "stream",
          "text": [
            "Yes, 'France' is one of the keys in the dictionary\n"
          ],
          "name": "stdout"
        }
      ]
    },
    {
      "cell_type": "code",
      "metadata": {
        "id": "ulzS8Qj0Fn6j"
      },
      "source": [
        "# Definition of countries and capital\n",
        "countries = ['spain', 'france', 'germany', 'norway']\n",
        "capitals = ['madrid', 'paris', 'berlin', 'oslo']"
      ],
      "execution_count": null,
      "outputs": []
    },
    {
      "cell_type": "code",
      "metadata": {
        "id": "7weteFipF-Yn"
      },
      "source": [
        "# Get index of 'germany': ind_ger\n",
        "ind_ger = countries.index('germany')"
      ],
      "execution_count": null,
      "outputs": []
    },
    {
      "cell_type": "code",
      "metadata": {
        "id": "Fy3wEQfnGBIN",
        "colab": {
          "base_uri": "https://localhost:8080/"
        },
        "outputId": "ff49b917-3637-422c-b026-110d841f64f1"
      },
      "source": [
        "# Use ind_ger to print out capital of Germany\n",
        "print(capitals[ind_ger])"
      ],
      "execution_count": null,
      "outputs": [
        {
          "output_type": "stream",
          "text": [
            "berlin\n"
          ],
          "name": "stdout"
        }
      ]
    },
    {
      "cell_type": "markdown",
      "metadata": {
        "id": "gwS7nCpewDvX"
      },
      "source": [
        "To add in new key and value pair in the dictionary"
      ]
    },
    {
      "cell_type": "code",
      "metadata": {
        "id": "grsW_fXQGB9g"
      },
      "source": [
        "population['Finland'] = 5540720"
      ],
      "execution_count": null,
      "outputs": []
    },
    {
      "cell_type": "markdown",
      "metadata": {
        "id": "h7WUxV0iwIsx"
      },
      "source": [
        "To change the value of the specific item"
      ]
    },
    {
      "cell_type": "code",
      "metadata": {
        "id": "qv5o3XMbwJFp"
      },
      "source": [
        "population['Denmark'] = 5830202"
      ],
      "execution_count": null,
      "outputs": []
    },
    {
      "cell_type": "code",
      "metadata": {
        "id": "z0mo1nUHwzTS"
      },
      "source": [
        "population.update({'Germany': 8300002})"
      ],
      "execution_count": null,
      "outputs": []
    },
    {
      "cell_type": "code",
      "metadata": {
        "id": "XrIRWjUtxU8T"
      },
      "source": [
        "population.update({'Sweden': 10161073})"
      ],
      "execution_count": null,
      "outputs": []
    },
    {
      "cell_type": "code",
      "metadata": {
        "id": "jDc8swv6GfBm",
        "colab": {
          "base_uri": "https://localhost:8080/"
        },
        "outputId": "7edd8eee-02e6-4500-f031-ff219a60c48e"
      },
      "source": [
        "population"
      ],
      "execution_count": null,
      "outputs": [
        {
          "output_type": "execute_result",
          "data": {
            "text/plain": [
              "{'Denmark': 5830202,\n",
              " 'Finland': 5540720,\n",
              " 'France': 65273511,\n",
              " 'Germany': 8300002,\n",
              " 'Spain': 46754778,\n",
              " 'Sweden': 10161073}"
            ]
          },
          "metadata": {
            "tags": []
          },
          "execution_count": 17
        }
      ]
    },
    {
      "cell_type": "markdown",
      "metadata": {
        "id": "OAuEFEBPoa2R"
      },
      "source": [
        "Add the key ‘Italy’ with the value 60461826"
      ]
    },
    {
      "cell_type": "code",
      "metadata": {
        "id": "uD0KEBdGny27"
      },
      "source": [
        "population['Italy'] = 60461826"
      ],
      "execution_count": null,
      "outputs": []
    },
    {
      "cell_type": "markdown",
      "metadata": {
        "id": "upsjvndpozG4"
      },
      "source": [
        "Print the dict to see if the new key and value been added"
      ]
    },
    {
      "cell_type": "code",
      "metadata": {
        "id": "nACswcG_o4Fc",
        "colab": {
          "base_uri": "https://localhost:8080/"
        },
        "outputId": "4ca382eb-2594-42de-8842-9d133eaf178c"
      },
      "source": [
        "population"
      ],
      "execution_count": null,
      "outputs": [
        {
          "output_type": "execute_result",
          "data": {
            "text/plain": [
              "{'Denmark': 5830202,\n",
              " 'Finland': 5540720,\n",
              " 'France': 65273511,\n",
              " 'Germany': 8300002,\n",
              " 'Italy': 60461826,\n",
              " 'Spain': 46754778,\n",
              " 'Sweden': 10161073}"
            ]
          },
          "metadata": {
            "tags": []
          },
          "execution_count": 20
        }
      ]
    },
    {
      "cell_type": "markdown",
      "metadata": {
        "id": "0IqE4oMqpmUh"
      },
      "source": [
        "To remove the key value pair: del<dict>[key-name]"
      ]
    },
    {
      "cell_type": "code",
      "metadata": {
        "id": "xWSo-EodpnPm",
        "colab": {
          "base_uri": "https://localhost:8080/"
        },
        "outputId": "b76789e6-ff43-4c6e-ef1b-836ed19a8199"
      },
      "source": [
        "del population['France']\n",
        "print(population)"
      ],
      "execution_count": null,
      "outputs": [
        {
          "output_type": "stream",
          "text": [
            "{'Denmark': 5830202, 'Germany': 8300002, 'Spain': 46754778, 'Finland': 5540720, 'Sweden': 10161073, 'Italy': 60461826}\n"
          ],
          "name": "stdout"
        }
      ]
    },
    {
      "cell_type": "code",
      "metadata": {
        "id": "r0E0mR9KyAfs",
        "colab": {
          "base_uri": "https://localhost:8080/"
        },
        "outputId": "10f94c48-f58c-4620-d5d1-872fbc19ca6e"
      },
      "source": [
        "population.pop('Germany')"
      ],
      "execution_count": null,
      "outputs": [
        {
          "output_type": "execute_result",
          "data": {
            "text/plain": [
              "8300002"
            ]
          },
          "metadata": {
            "tags": []
          },
          "execution_count": 22
        }
      ]
    },
    {
      "cell_type": "markdown",
      "metadata": {
        "id": "ra4nuv4LzJ_h"
      },
      "source": [
        "Loops in dictionary"
      ]
    },
    {
      "cell_type": "code",
      "metadata": {
        "id": "VwdxYspOzMK2",
        "colab": {
          "base_uri": "https://localhost:8080/"
        },
        "outputId": "e0a1edf2-8244-40e4-abdc-20c83239c907"
      },
      "source": [
        "for x in population:\n",
        "  print(x)"
      ],
      "execution_count": null,
      "outputs": [
        {
          "output_type": "stream",
          "text": [
            "Denmark\n",
            "Spain\n",
            "Finland\n",
            "Sweden\n",
            "Italy\n"
          ],
          "name": "stdout"
        }
      ]
    },
    {
      "cell_type": "code",
      "metadata": {
        "id": "yqm8Zfw0zicr",
        "colab": {
          "base_uri": "https://localhost:8080/"
        },
        "outputId": "ad1b5f76-388a-4ada-f194-18f11cbea9ac"
      },
      "source": [
        "# to print the values\n",
        "for x in population:\n",
        "  print(population[x])"
      ],
      "execution_count": null,
      "outputs": [
        {
          "output_type": "stream",
          "text": [
            "5830202\n",
            "46754778\n",
            "5540720\n",
            "10161073\n",
            "60461826\n"
          ],
          "name": "stdout"
        }
      ]
    },
    {
      "cell_type": "code",
      "metadata": {
        "id": "taxvY9V0z5BR",
        "colab": {
          "base_uri": "https://localhost:8080/"
        },
        "outputId": "648799eb-ec09-46e9-bb45-0b6ca03717b2"
      },
      "source": [
        "for x in population.values():\n",
        "  print(x)"
      ],
      "execution_count": null,
      "outputs": [
        {
          "output_type": "stream",
          "text": [
            "5830202\n",
            "46754778\n",
            "5540720\n",
            "10161073\n",
            "60461826\n"
          ],
          "name": "stdout"
        }
      ]
    },
    {
      "cell_type": "code",
      "metadata": {
        "id": "FwLWi1R60MUG",
        "colab": {
          "base_uri": "https://localhost:8080/"
        },
        "outputId": "04199b02-4b81-4390-d79a-b59cd6632269"
      },
      "source": [
        "# to get keys \n",
        "for x in population.keys():\n",
        "  print(x)"
      ],
      "execution_count": null,
      "outputs": [
        {
          "output_type": "stream",
          "text": [
            "Denmark\n",
            "Spain\n",
            "Finland\n",
            "Sweden\n",
            "Italy\n"
          ],
          "name": "stdout"
        }
      ]
    },
    {
      "cell_type": "code",
      "metadata": {
        "id": "m6zc5jIa0MgA",
        "colab": {
          "base_uri": "https://localhost:8080/"
        },
        "outputId": "05a0a593-ef7a-453f-86d6-b78677d1da0a"
      },
      "source": [
        "# to get items or key value pair in tuples\n",
        "for x in population.items():\n",
        "  print(x)"
      ],
      "execution_count": null,
      "outputs": [
        {
          "output_type": "stream",
          "text": [
            "('Denmark', 5830202)\n",
            "('Spain', 46754778)\n",
            "('Finland', 5540720)\n",
            "('Sweden', 10161073)\n",
            "('Italy', 60461826)\n"
          ],
          "name": "stdout"
        }
      ]
    },
    {
      "cell_type": "markdown",
      "metadata": {
        "id": "pzeJFB4r1SnK"
      },
      "source": [
        "Copy a dictionary "
      ]
    },
    {
      "cell_type": "code",
      "metadata": {
        "id": "a1Z0D6Ld1Rop"
      },
      "source": [
        "new_dict = population.copy()\n",
        "new_dict['India'] = 897897889"
      ],
      "execution_count": null,
      "outputs": []
    },
    {
      "cell_type": "code",
      "metadata": {
        "id": "tuzSiayV1SCz",
        "colab": {
          "base_uri": "https://localhost:8080/"
        },
        "outputId": "edf7228d-153a-42a8-9a23-c2ba1d3736b3"
      },
      "source": [
        "new_pop = dict(new_dict)\n",
        "new_pop[\"USA\"] = 7888789\n",
        "print(new_dict)\n",
        "print(new_pop)"
      ],
      "execution_count": null,
      "outputs": [
        {
          "output_type": "stream",
          "text": [
            "{'Denmark': 5830202, 'Spain': 46754778, 'Finland': 5540720, 'Sweden': 10161073, 'Italy': 60461826, 'India': 897897889}\n",
            "{'Denmark': 5830202, 'Spain': 46754778, 'Finland': 5540720, 'Sweden': 10161073, 'Italy': 60461826, 'India': 897897889, 'USA': 7888789}\n"
          ],
          "name": "stdout"
        }
      ]
    },
    {
      "cell_type": "markdown",
      "metadata": {
        "id": "CYD4MnEHqI15"
      },
      "source": [
        "Dictionary of dictionaries"
      ]
    },
    {
      "cell_type": "code",
      "metadata": {
        "colab": {
          "base_uri": "https://localhost:8080/"
        },
        "id": "CFEWzQVVqLQJ",
        "outputId": "3f216b66-d38e-45e9-a3e0-e47e6b0153d9"
      },
      "source": [
        "# Dictionary of dictionaries\n",
        "europe = { 'spain': { 'capital':'madrid', 'population':46.77 },\n",
        "           'france': { 'capital':'paris', 'population':66.03 },\n",
        "           'germany': { 'capital':'berlin', 'population':80.62 },\n",
        "           'norway': { 'capital':'oslo', 'population':5.084 } }\n",
        "print(europe)"
      ],
      "execution_count": null,
      "outputs": [
        {
          "output_type": "stream",
          "text": [
            "{'spain': {'capital': 'madrid', 'population': 46.77}, 'france': {'capital': 'paris', 'population': 66.03}, 'germany': {'capital': 'berlin', 'population': 80.62}, 'norway': {'capital': 'oslo', 'population': 5.084}}\n"
          ],
          "name": "stdout"
        }
      ]
    },
    {
      "cell_type": "code",
      "metadata": {
        "id": "8DwdJynWqOUL",
        "colab": {
          "base_uri": "https://localhost:8080/"
        },
        "outputId": "84a8f338-8ed4-41a9-f945-84336d203dca"
      },
      "source": [
        "# Print out the capital of France\n",
        "print(europe['france']['capital'])"
      ],
      "execution_count": null,
      "outputs": [
        {
          "output_type": "stream",
          "text": [
            "paris\n"
          ],
          "name": "stdout"
        }
      ]
    },
    {
      "cell_type": "code",
      "metadata": {
        "id": "aMX8li1i3jaK",
        "colab": {
          "base_uri": "https://localhost:8080/"
        },
        "outputId": "63904deb-1995-4eaf-ec31-55c9b55546ea"
      },
      "source": [
        "# Create sub-dictionary data\n",
        "data={}\n",
        "for i,j in europe.items():\n",
        "    for a,b in j.items():\n",
        "        data.update({a:b})\n",
        "    print(data)"
      ],
      "execution_count": null,
      "outputs": [
        {
          "output_type": "stream",
          "text": [
            "{'capital': 'madrid', 'population': 46.77}\n",
            "{'capital': 'paris', 'population': 66.03}\n",
            "{'capital': 'berlin', 'population': 80.62}\n",
            "{'capital': 'oslo', 'population': 5.084}\n"
          ],
          "name": "stdout"
        }
      ]
    },
    {
      "cell_type": "code",
      "metadata": {
        "id": "uiW-z_VP3of7",
        "colab": {
          "base_uri": "https://localhost:8080/"
        },
        "outputId": "a820e6cb-08a3-4d89-8579-cff77e40fee7"
      },
      "source": [
        "data['capital']='rome'\n",
        "data['population']=59.83\n",
        "print(data)"
      ],
      "execution_count": null,
      "outputs": [
        {
          "output_type": "stream",
          "text": [
            "{'capital': 'rome', 'population': 59.83}\n"
          ],
          "name": "stdout"
        }
      ]
    },
    {
      "cell_type": "code",
      "metadata": {
        "colab": {
          "base_uri": "https://localhost:8080/"
        },
        "id": "n2peTHt1KDiV",
        "outputId": "59267d99-a3d1-48fe-fe94-7bf2371c0739"
      },
      "source": [
        "data"
      ],
      "execution_count": null,
      "outputs": [
        {
          "output_type": "execute_result",
          "data": {
            "text/plain": [
              "{'capital': 'rome', 'population': 59.83}"
            ]
          },
          "metadata": {
            "tags": []
          },
          "execution_count": 25
        }
      ]
    },
    {
      "cell_type": "code",
      "metadata": {
        "id": "JyajewNQ4lc3"
      },
      "source": [
        "# Add data to europe under key 'italy'\n",
        "europe['italy']=data\n",
        "\n",
        "# Print europe\n",
        "print(europe)"
      ],
      "execution_count": null,
      "outputs": []
    },
    {
      "cell_type": "code",
      "metadata": {
        "id": "vvBro6Ai5_GW"
      },
      "source": [
        "# creating tuple\n",
        "tup = (\"apple\", \"banana\", \"cherry\", \"strawberry\", \"hindbear\", \"pineapple\")\n",
        "print(tup)"
      ],
      "execution_count": null,
      "outputs": []
    },
    {
      "cell_type": "markdown",
      "metadata": {
        "id": "ludsuLkB6KBj"
      },
      "source": [
        "You can access tuple items by referring to the index number, inside square brackets"
      ]
    },
    {
      "cell_type": "code",
      "metadata": {
        "id": "fJIrWOKR4nTP"
      },
      "source": [
        "tup[1]"
      ],
      "execution_count": null,
      "outputs": []
    },
    {
      "cell_type": "markdown",
      "metadata": {
        "id": "tmnWyh3V6S-1"
      },
      "source": [
        "Negative indexing means start from the end.\n",
        "\n",
        "-1 refers to the last item, -2 refers to the second last item etc."
      ]
    },
    {
      "cell_type": "code",
      "metadata": {
        "id": "4rsIKfkh6MQZ"
      },
      "source": [
        "tup[-2]"
      ],
      "execution_count": null,
      "outputs": []
    },
    {
      "cell_type": "markdown",
      "metadata": {
        "id": "uVvMZQpH6ofl"
      },
      "source": [
        "You can specify a range of indexes by specifying where to start and where to end the range"
      ]
    },
    {
      "cell_type": "code",
      "metadata": {
        "id": "2NKv9mzw6VlM"
      },
      "source": [
        "tup[2:4]"
      ],
      "execution_count": null,
      "outputs": []
    },
    {
      "cell_type": "markdown",
      "metadata": {
        "id": "mU0JUBYN64EO"
      },
      "source": [
        "Convert the tuple into a list to be able to change it"
      ]
    },
    {
      "cell_type": "code",
      "metadata": {
        "id": "4PqDfoFi6rVS"
      },
      "source": [
        "lst = list(tup)\n",
        "lst[1] = \"kiwi\"\n",
        "tup =tuple(lst)\n",
        "tup"
      ],
      "execution_count": null,
      "outputs": []
    },
    {
      "cell_type": "markdown",
      "metadata": {
        "id": "Ls__VdKL7RL5"
      },
      "source": [
        "Convert into a list: Just like the workaround for changing a tuple, you can convert it into a list, add your item(s), and convert it back into a tuple."
      ]
    },
    {
      "cell_type": "code",
      "metadata": {
        "id": "z4TzKH717IJT"
      },
      "source": [
        "lst.append('orange')\n",
        "tup =tuple(lst)\n",
        "tup"
      ],
      "execution_count": null,
      "outputs": []
    },
    {
      "cell_type": "code",
      "metadata": {
        "id": "52Ww2cPC7XjB"
      },
      "source": [
        "# unpacking tuple\n",
        "fruits = (\"apple\", \"banana\", \"cherry\")\n",
        "\n",
        "(green, yellow, red) = fruits\n",
        "\n",
        "print(green)\n",
        "print(yellow)\n",
        "print(red)\n"
      ],
      "execution_count": null,
      "outputs": []
    },
    {
      "cell_type": "markdown",
      "metadata": {
        "id": "3RYep3Ax8BD2"
      },
      "source": [
        "If the number of variables is less than the number of values, you can add an * to the variable name and the values will be assigned to the variable as a list"
      ]
    },
    {
      "cell_type": "code",
      "metadata": {
        "id": "46JG5cSp709V"
      },
      "source": [
        "fruits = (\"apple\", \"banana\", \"cherry\", \"strawberry\", \"raspberry\")\n",
        "\n",
        "(green, yellow, *red) = fruits\n",
        "\n",
        "print(green)\n",
        "print(yellow)\n",
        "print(red)"
      ],
      "execution_count": null,
      "outputs": []
    },
    {
      "cell_type": "code",
      "metadata": {
        "id": "P8xM53E78Fdv"
      },
      "source": [
        "fruits = (\"apple\", \"mango\", \"papaya\", \"pineapple\", \"cherry\")\n",
        "\n",
        "(green, *tropic, red) = fruits\n",
        "\n",
        "print(green)\n",
        "print(tropic)\n",
        "print(red)"
      ],
      "execution_count": null,
      "outputs": []
    },
    {
      "cell_type": "markdown",
      "metadata": {
        "id": "noLmqHf98Yro"
      },
      "source": [
        "Loops in tuple"
      ]
    },
    {
      "cell_type": "code",
      "metadata": {
        "id": "NF0GfGcR8aDv"
      },
      "source": [
        "for i in fruits:\n",
        "  print(i)"
      ],
      "execution_count": null,
      "outputs": []
    },
    {
      "cell_type": "code",
      "metadata": {
        "id": "A4s7KUKm8dRF"
      },
      "source": [
        "# Loop Through the Index Numbers\n",
        "for i in range(len(fruits)):\n",
        "  print(fruits[i])"
      ],
      "execution_count": null,
      "outputs": []
    },
    {
      "cell_type": "code",
      "metadata": {
        "id": "ns0Vdv8h8t_i"
      },
      "source": [
        "i = 0\n",
        "while i < len(fruits):\n",
        "  print(fruits[i])\n",
        "  i = i + 1"
      ],
      "execution_count": null,
      "outputs": []
    },
    {
      "cell_type": "code",
      "metadata": {
        "id": "b-XGRlzL84hj"
      },
      "source": [
        "# join two tuples\n",
        "tuple1 = (\"a\", \"b\" , \"c\")\n",
        "tuple2 = (1, 2, 3)\n",
        "\n",
        "tuple3 = tuple1 + tuple2\n",
        "print(tuple3)"
      ],
      "execution_count": null,
      "outputs": []
    },
    {
      "cell_type": "code",
      "metadata": {
        "id": "FtQtFiQh9EPB"
      },
      "source": [
        "# multiply tuples\n",
        "fruits = (\"apple\", \"banana\", \"cherry\")\n",
        "mytuple = fruits * 2\n",
        "\n",
        "print(mytuple)"
      ],
      "execution_count": null,
      "outputs": []
    }
  ]
}