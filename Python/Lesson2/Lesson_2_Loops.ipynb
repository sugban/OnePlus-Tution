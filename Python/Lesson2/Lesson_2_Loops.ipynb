{
  "nbformat": 4,
  "nbformat_minor": 0,
  "metadata": {
    "colab": {
      "name": "Lesson 2 : Loops",
      "provenance": [],
      "authorship_tag": "ABX9TyMXIYl81nHJy3I/GhVVHLnc",
      "include_colab_link": true
    },
    "kernelspec": {
      "name": "python3",
      "display_name": "Python 3"
    },
    "language_info": {
      "name": "python"
    }
  },
  "cells": [
    {
      "cell_type": "markdown",
      "metadata": {
        "id": "view-in-github",
        "colab_type": "text"
      },
      "source": [
        "<a href=\"https://colab.research.google.com/github/sugban/OnePlus-Tution/blob/main/Python/Lesson2/Lesson_2_Loops.ipynb\" target=\"_parent\"><img src=\"https://colab.research.google.com/assets/colab-badge.svg\" alt=\"Open In Colab\"/></a>"
      ]
    },
    {
      "cell_type": "markdown",
      "metadata": {
        "id": "OT5xEXMCcbB3"
      },
      "source": [
        "While loop"
      ]
    },
    {
      "cell_type": "code",
      "metadata": {
        "id": "KrkqfRZkgZ75",
        "colab": {
          "base_uri": "https://localhost:8080/"
        },
        "outputId": "eceb85bb-c419-400d-a31d-a99890977a1f"
      },
      "source": [
        "i = 1\t\t\t\n",
        "while i <= 6:\n",
        "  print(i)\n",
        "  i += 1"
      ],
      "execution_count": null,
      "outputs": [
        {
          "output_type": "stream",
          "text": [
            "1\n",
            "2\n",
            "3\n",
            "4\n",
            "5\n"
          ],
          "name": "stdout"
        }
      ]
    },
    {
      "cell_type": "code",
      "metadata": {
        "id": "VO55kfLQte2q",
        "colab": {
          "base_uri": "https://localhost:8080/"
        },
        "outputId": "520c857b-36ba-496c-9cda-4fd2f5b3133f"
      },
      "source": [
        "count = 0\n",
        "while count < 10:\n",
        "   print('The count is:', count)\n",
        "   count = count + 1\n",
        "\n",
        "print (\"Loop has completed!\")"
      ],
      "execution_count": null,
      "outputs": [
        {
          "output_type": "stream",
          "text": [
            "The count is: 0\n",
            "The count is: 1\n",
            "The count is: 2\n",
            "The count is: 3\n",
            "The count is: 4\n",
            "The count is: 5\n",
            "The count is: 6\n",
            "The count is: 7\n",
            "The count is: 8\n",
            "The count is: 9\n",
            "Loop has completed!\n"
          ],
          "name": "stdout"
        }
      ]
    },
    {
      "cell_type": "markdown",
      "metadata": {
        "id": "3wQLqpvscjcf"
      },
      "source": [
        "While loop with break statement"
      ]
    },
    {
      "cell_type": "code",
      "metadata": {
        "id": "QF0GXPgucWJx",
        "colab": {
          "base_uri": "https://localhost:8080/"
        },
        "outputId": "d699015b-9fa7-4257-ed95-7589a7baa411"
      },
      "source": [
        "i = 1\n",
        "while i < 6:\n",
        "  print(i)\n",
        "  if i == 3:\n",
        "    break\n",
        "  i += 1\n"
      ],
      "execution_count": null,
      "outputs": [
        {
          "output_type": "stream",
          "text": [
            "1\n",
            "2\n",
            "3\n"
          ],
          "name": "stdout"
        }
      ]
    },
    {
      "cell_type": "code",
      "metadata": {
        "id": "07upOf0r3NZO",
        "colab": {
          "base_uri": "https://localhost:8080/"
        },
        "outputId": "a0c530ff-a2cb-49e4-dba8-ffa4feda1958"
      },
      "source": [
        "var = 10                    \n",
        "while var > 0:              \n",
        "   print ('Current variable value :', var)\n",
        "   var = var -1\n",
        "   if var == 5:\n",
        "      break\n",
        "\n",
        "print( \"Loop has completed!\")"
      ],
      "execution_count": null,
      "outputs": [
        {
          "output_type": "stream",
          "text": [
            "Current variable value : 10\n",
            "Current variable value : 9\n",
            "Current variable value : 8\n",
            "Current variable value : 7\n",
            "Current variable value : 6\n",
            "Loop has completed!\n"
          ],
          "name": "stdout"
        }
      ]
    },
    {
      "cell_type": "markdown",
      "metadata": {
        "id": "_77r4Ajgcp7f"
      },
      "source": [
        "While loop with continue statement"
      ]
    },
    {
      "cell_type": "code",
      "metadata": {
        "id": "vp-c77ZqgeDZ",
        "colab": {
          "base_uri": "https://localhost:8080/"
        },
        "outputId": "ced146e6-3d25-43e8-c7ca-9b5a9de6d330"
      },
      "source": [
        "i = 0\n",
        "while i < 6:\n",
        "  i += 1\n",
        "  if i == 3:\n",
        "    continue\n",
        "  print(i)\n"
      ],
      "execution_count": null,
      "outputs": [
        {
          "output_type": "stream",
          "text": [
            "1\n",
            "2\n",
            "4\n",
            "5\n",
            "6\n"
          ],
          "name": "stdout"
        }
      ]
    },
    {
      "cell_type": "markdown",
      "metadata": {
        "id": "4JinkHojcwgf"
      },
      "source": [
        "While loop with else statement"
      ]
    },
    {
      "cell_type": "code",
      "metadata": {
        "id": "YQbnHUkcc0s2",
        "colab": {
          "base_uri": "https://localhost:8080/"
        },
        "outputId": "336ac80a-49ed-4567-e5f8-2e00e4bda388"
      },
      "source": [
        "i = 1\n",
        "while i < 6:\n",
        "  print(i)\n",
        "  i += 1\n",
        "else:\n",
        "  print(\"i is no longer less than 6\")\n"
      ],
      "execution_count": null,
      "outputs": [
        {
          "output_type": "stream",
          "text": [
            "1\n",
            "2\n",
            "3\n",
            "4\n",
            "5\n",
            "i is no longer less than 6\n"
          ],
          "name": "stdout"
        }
      ]
    },
    {
      "cell_type": "code",
      "metadata": {
        "id": "qdCIods92ePg",
        "colab": {
          "base_uri": "https://localhost:8080/"
        },
        "outputId": "7312d1f6-3be6-47bf-8051-6a59e869ca21"
      },
      "source": [
        "count = 0\n",
        "while count < 5:\n",
        "   print (count, \" is  less than 5\")\n",
        "   count = count + 1\n",
        "else:\n",
        "   print  (count, \" is not less than 5\")\n",
        "   "
      ],
      "execution_count": null,
      "outputs": [
        {
          "output_type": "stream",
          "text": [
            "0  is  less than 5\n",
            "1  is  less than 5\n",
            "2  is  less than 5\n",
            "3  is  less than 5\n",
            "4  is  less than 5\n",
            "5  is not less than 5\n"
          ],
          "name": "stdout"
        }
      ]
    },
    {
      "cell_type": "markdown",
      "metadata": {
        "id": "5l_qRTMCVDim"
      },
      "source": [
        "**For Loop**"
      ]
    },
    {
      "cell_type": "code",
      "metadata": {
        "id": "37hdwubCVGLD",
        "colab": {
          "base_uri": "https://localhost:8080/"
        },
        "outputId": "8d4c48bb-77cb-4067-e874-4bd782935905"
      },
      "source": [
        "for x in \"banana\":\n",
        "  print(x)"
      ],
      "execution_count": null,
      "outputs": [
        {
          "output_type": "stream",
          "text": [
            "b\n",
            "a\n",
            "n\n",
            "a\n",
            "n\n",
            "a\n"
          ],
          "name": "stdout"
        }
      ]
    },
    {
      "cell_type": "code",
      "metadata": {
        "id": "_PGHJgCZVNuU",
        "colab": {
          "base_uri": "https://localhost:8080/"
        },
        "outputId": "959ec532-6108-41d2-d06c-fd3a4a3c6de9"
      },
      "source": [
        "fruits = [\"apple\", \"banana\", \"cherry\"]\n",
        "for x in fruits:\n",
        "  if x == \"cherry\":\n",
        "    break\n",
        "  print(x)"
      ],
      "execution_count": null,
      "outputs": [
        {
          "output_type": "stream",
          "text": [
            "apple\n",
            "banana\n"
          ],
          "name": "stdout"
        }
      ]
    },
    {
      "cell_type": "code",
      "metadata": {
        "id": "okeXRChkWJtr",
        "colab": {
          "base_uri": "https://localhost:8080/"
        },
        "outputId": "2d9d177f-3bd3-471c-ebcc-0018c795a5c7"
      },
      "source": [
        "list =[1,2,3,4,5,6,7,8,9,10]\n",
        "x=0\n",
        "print('Index value 0: ',list[x])\n",
        "for x in list:\n",
        "  print(x)\n",
        " # x=x+1"
      ],
      "execution_count": null,
      "outputs": [
        {
          "output_type": "stream",
          "text": [
            "Index value 0:  1\n",
            "1\n",
            "2\n",
            "3\n",
            "4\n",
            "5\n",
            "6\n",
            "7\n",
            "8\n",
            "9\n",
            "10\n"
          ],
          "name": "stdout"
        }
      ]
    },
    {
      "cell_type": "code",
      "metadata": {
        "id": "MadyZIvQXJtV",
        "colab": {
          "base_uri": "https://localhost:8080/"
        },
        "outputId": "00e39daa-d602-42ac-d9c8-a87d6ff38b4a"
      },
      "source": [
        "adj = [\"red\", \"big\", \"tasty\"]\n",
        "fruits = [\"apple\", \"banana\", \"cherry\"]\n",
        "\n",
        "for x in adj:                                 #inner loop\n",
        "  for y in fruits:\n",
        "    print(x, y)"
      ],
      "execution_count": null,
      "outputs": [
        {
          "output_type": "stream",
          "text": [
            "red apple\n",
            "red banana\n",
            "red cherry\n",
            "big apple\n",
            "big banana\n",
            "big cherry\n",
            "tasty apple\n",
            "tasty banana\n",
            "tasty cherry\n"
          ],
          "name": "stdout"
        }
      ]
    },
    {
      "cell_type": "code",
      "metadata": {
        "id": "8sr7jRp5XTJL"
      },
      "source": [
        "for x in [0, 1, 2]:\n",
        "  \n",
        "  pass"
      ],
      "execution_count": null,
      "outputs": []
    },
    {
      "cell_type": "code",
      "metadata": {
        "id": "_Z4-PO64XX-7",
        "colab": {
          "base_uri": "https://localhost:8080/"
        },
        "outputId": "7a15af09-0af3-432a-8fbf-95b0118d49e1"
      },
      "source": [
        "n = 5\n",
        "for x in range(1,n+1):\n",
        "      for y in range(1,x+1):  # inner loop\n",
        "          print(\"*\",end=\" \")\n",
        "      print()"
      ],
      "execution_count": null,
      "outputs": [
        {
          "output_type": "stream",
          "text": [
            "* \n",
            "* * \n",
            "* * * \n",
            "* * * * \n",
            "* * * * * \n"
          ],
          "name": "stdout"
        }
      ]
    },
    {
      "cell_type": "code",
      "metadata": {
        "id": "O0BpcaDNKGlS",
        "colab": {
          "base_uri": "https://localhost:8080/"
        },
        "outputId": "6f127955-b1e2-4be9-de7c-02ee989402d3"
      },
      "source": [
        "number = int(input('Enter a number to print the table: '))\n",
        "for x in range(1,11):\n",
        "      print(number,\"x\",x,\"=\",number*x)"
      ],
      "execution_count": null,
      "outputs": [
        {
          "output_type": "stream",
          "text": [
            "Enter a number to print the table: 5\n",
            "5 x 1 = 5\n",
            "5 x 2 = 10\n",
            "5 x 3 = 15\n",
            "5 x 4 = 20\n",
            "5 x 5 = 25\n",
            "5 x 6 = 30\n",
            "5 x 7 = 35\n",
            "5 x 8 = 40\n",
            "5 x 9 = 45\n",
            "5 x 10 = 50\n"
          ],
          "name": "stdout"
        }
      ]
    },
    {
      "cell_type": "code",
      "metadata": {
        "id": "R7HwXTd8KoBW",
        "colab": {
          "base_uri": "https://localhost:8080/"
        },
        "outputId": "21491124-2b0e-4b51-d26a-56572c0a64b7"
      },
      "source": [
        "# muliply from 1 to 10 by it's own number \n",
        "# 1*1, 2*2, 3*3,....n*n\n",
        "total = 0\n",
        "i = 1\n",
        "for i in range(11):\n",
        "  total=i*i\n",
        "  print(total)"
      ],
      "execution_count": null,
      "outputs": [
        {
          "output_type": "stream",
          "text": [
            "0\n",
            "1\n",
            "4\n",
            "9\n",
            "16\n",
            "25\n",
            "36\n",
            "49\n",
            "64\n",
            "81\n",
            "100\n"
          ],
          "name": "stdout"
        }
      ]
    },
    {
      "cell_type": "code",
      "metadata": {
        "id": "CLrvNsLPZv9r",
        "colab": {
          "base_uri": "https://localhost:8080/"
        },
        "outputId": "b3c7f594-13f1-4b03-ef7e-01825a4dd58b"
      },
      "source": [
        "total = 0\n",
        "i = 1\n",
        "while i <= 10:\n",
        "  total = i*i\n",
        "  i+=1\n",
        "  print(total)"
      ],
      "execution_count": null,
      "outputs": [
        {
          "output_type": "stream",
          "text": [
            "1\n",
            "4\n",
            "9\n",
            "16\n",
            "25\n",
            "36\n",
            "49\n",
            "64\n",
            "81\n",
            "100\n"
          ],
          "name": "stdout"
        }
      ]
    },
    {
      "cell_type": "code",
      "metadata": {
        "id": "g7CspO5Mb-UX",
        "colab": {
          "base_uri": "https://localhost:8080/"
        },
        "outputId": "e7de8a5a-0754-499e-c856-9b2493840f1e"
      },
      "source": [
        "# ask a number from user in input()\n",
        "# pick number one by one as string and\n",
        "# convert them into integer and calculate the sum of those numbers\n",
        "# for example : int(num[0])+ int(num[1])+...+ int(num[n])\n",
        "\n",
        "num = input('Enter a number : ')\n",
        "sum = 0\n",
        "for i in num:\n",
        "  sum += int(i)\n",
        "print(\"total:\",sum)"
      ],
      "execution_count": null,
      "outputs": [
        {
          "output_type": "stream",
          "text": [
            "Enter a number : 5678\n",
            "total: 26\n"
          ],
          "name": "stdout"
        }
      ]
    },
    {
      "cell_type": "code",
      "metadata": {
        "colab": {
          "base_uri": "https://localhost:8080/"
        },
        "id": "K9O2wasrDqfm",
        "outputId": "66dee7b5-9fdf-4201-aab3-c8d8c5122fbc"
      },
      "source": [
        "num = input('Enter a number: ')\n",
        "sum = 0\n",
        "for i in num:\n",
        "  print(i)\n",
        "  "
      ],
      "execution_count": null,
      "outputs": [
        {
          "output_type": "stream",
          "text": [
            "Enter a number: 3425\n",
            "3\n",
            "4\n",
            "2\n",
            "5\n"
          ],
          "name": "stdout"
        }
      ]
    },
    {
      "cell_type": "code",
      "metadata": {
        "id": "wsN9ELADEbTb"
      },
      "source": [
        "num "
      ],
      "execution_count": null,
      "outputs": []
    }
  ]
}