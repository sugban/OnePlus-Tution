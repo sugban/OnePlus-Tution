{
  "nbformat": 4,
  "nbformat_minor": 0,
  "metadata": {
    "colab": {
      "name": "Homework",
      "provenance": [],
      "include_colab_link": true
    },
    "kernelspec": {
      "name": "python3",
      "display_name": "Python 3"
    },
    "language_info": {
      "name": "python"
    }
  },
  "cells": [
    {
      "cell_type": "markdown",
      "metadata": {
        "id": "view-in-github",
        "colab_type": "text"
      },
      "source": [
        "<a href=\"https://colab.research.google.com/github/sugban/OnePlus-Tution/blob/main/Python/Lesson2/Homework.ipynb\" target=\"_parent\"><img src=\"https://colab.research.google.com/assets/colab-badge.svg\" alt=\"Open In Colab\"/></a>"
      ]
    },
    {
      "cell_type": "markdown",
      "metadata": {
        "id": "ggWBqDPOG3J-"
      },
      "source": [
        "1. Create a vaiable with a defined number and then within the loop calculate the sum of the defined number range.<br>\n",
        " 1+2+3+4+5+……………+n"
      ]
    },
    {
      "cell_type": "code",
      "metadata": {
        "id": "Qf1brYbN3K_b",
        "colab": {
          "base_uri": "https://localhost:8080/"
        },
        "outputId": "341e3c6b-68ee-436d-f527-2e547754f6cf"
      },
      "source": [
        "n = 10\n",
        "sum = 0\n",
        "for i in range(1,n+1):\n",
        "  sum+=i\n",
        "print(\"total sum of the given number is {}\".format(sum))"
      ],
      "execution_count": null,
      "outputs": [
        {
          "output_type": "stream",
          "text": [
            "total sum of the given number is 55\n"
          ],
          "name": "stdout"
        }
      ]
    },
    {
      "cell_type": "markdown",
      "metadata": {
        "id": "sXR_I7S_HmBn"
      },
      "source": [
        "2. Consider a tuple<br> \n",
        "tup1 = (24, 67, 34, 89, 56, 47, 26, 74)<br> \n",
        "Find maximum value of the tuple with the help of loop"
      ]
    },
    {
      "cell_type": "code",
      "metadata": {
        "id": "ru3E2f27H98j",
        "colab": {
          "base_uri": "https://localhost:8080/"
        },
        "outputId": "f141cbdb-f712-49c5-a832-a58d72ba15ed"
      },
      "source": [
        "tup1 = (24, 67, 34, 89, 56, 47, 26, 74)\n",
        "max_val = tup1[0]\n",
        "for x in tup1:\n",
        "  if x>max_val:\n",
        "    max_val = x\n",
        "print(max_val)"
      ],
      "execution_count": null,
      "outputs": [
        {
          "output_type": "stream",
          "text": [
            "89\n"
          ],
          "name": "stdout"
        }
      ]
    },
    {
      "cell_type": "markdown",
      "metadata": {
        "id": "ZrRoJLceIQhZ"
      },
      "source": [
        "3. Consider a list<br> \n",
        "list1 = [10, 20, 30, 40, 50]<br>\n",
        "Write a program to find the sum of all elements in the list."
      ]
    },
    {
      "cell_type": "code",
      "metadata": {
        "id": "VgE_xnWyIPdy",
        "colab": {
          "base_uri": "https://localhost:8080/"
        },
        "outputId": "ff63ccb1-5e6a-4ba6-b396-4ccf70d915a5"
      },
      "source": [
        "list1 = [10, 20, 30, 40, 50]\n",
        "result = 0\n",
        "for x in list1:\n",
        "  result+=x\n",
        "print(result)"
      ],
      "execution_count": null,
      "outputs": [
        {
          "output_type": "stream",
          "text": [
            "150\n"
          ],
          "name": "stdout"
        }
      ]
    },
    {
      "cell_type": "markdown",
      "metadata": {
        "id": "zFCvsRgVISto"
      },
      "source": [
        "4. Write a program to print all the numbers from 1 to n, <br>\n",
        " which are divisible by 5"
      ]
    },
    {
      "cell_type": "code",
      "metadata": {
        "id": "2jvKD4wTH-ny",
        "colab": {
          "base_uri": "https://localhost:8080/"
        },
        "outputId": "36cc148d-4936-4cef-da4c-6ff74c089620"
      },
      "source": [
        "n = int(input(\"Enter the number\"))\n",
        "for i in range(1,n+1):\n",
        "  if i%5==0:\n",
        "    print(i)"
      ],
      "execution_count": null,
      "outputs": [
        {
          "output_type": "stream",
          "text": [
            "Enter the number15\n",
            "5\n",
            "10\n",
            "15\n"
          ],
          "name": "stdout"
        }
      ]
    },
    {
      "cell_type": "markdown",
      "metadata": {
        "id": "KXPVbelkIqta"
      },
      "source": [
        "5. Write a program to print numbers from 1 to 10, except 4 and 7"
      ]
    },
    {
      "cell_type": "code",
      "metadata": {
        "id": "yznTLanzIMT0",
        "colab": {
          "base_uri": "https://localhost:8080/"
        },
        "outputId": "2431180c-c003-4125-e500-5533fb6947a8"
      },
      "source": [
        "for i in range(1,11):\n",
        "  if i == 4 or i ==7:\n",
        "    continue\n",
        "  print(i)"
      ],
      "execution_count": null,
      "outputs": [
        {
          "output_type": "stream",
          "text": [
            "1\n",
            "2\n",
            "3\n",
            "5\n",
            "6\n",
            "8\n",
            "9\n",
            "10\n"
          ],
          "name": "stdout"
        }
      ]
    },
    {
      "cell_type": "markdown",
      "metadata": {
        "id": "MG7fyAh8JB07"
      },
      "source": [
        "6. Create two variables **fname** and **lname** with the values of first name and last name respectively and with the help of inner loop join the names together into third variable **full_name**"
      ]
    },
    {
      "cell_type": "code",
      "metadata": {
        "id": "bzX7IsIFJiIc",
        "colab": {
          "base_uri": "https://localhost:8080/"
        },
        "outputId": "2901e737-91b7-4175-d39d-9be73b9e3062"
      },
      "source": [
        "fname = [\"vijayalakshmi\"]\n",
        "lname = [\"muruganantham\"]\n",
        "for i in fname:\n",
        "  for j in lname:\n",
        "    full_name = i+\" \"+j\n",
        "print(full_name)"
      ],
      "execution_count": null,
      "outputs": [
        {
          "output_type": "stream",
          "text": [
            "vijayalakshmi muruganantham\n"
          ],
          "name": "stdout"
        }
      ]
    },
    {
      "cell_type": "markdown",
      "metadata": {
        "id": "QtR2lNl6JkA8"
      },
      "source": [
        "7. Ask for a number from the user as input and find the number is even or odd in loop from 0 to the given number.<br>\n",
        "0,1,2,...,n"
      ]
    },
    {
      "cell_type": "code",
      "metadata": {
        "id": "to89pmlaLV-p",
        "colab": {
          "base_uri": "https://localhost:8080/"
        },
        "outputId": "631605e0-1111-40d2-c2e2-37f020df57a9"
      },
      "source": [
        "n = int(input(\"enter the number\"))\n",
        "for x in range(n+1):\n",
        "  if x%2==0:\n",
        "    print(\"{} is even\".format(x))\n",
        "  elif x%2==1:\n",
        "    print(\"{} is odd\".format(x))"
      ],
      "execution_count": null,
      "outputs": [
        {
          "output_type": "stream",
          "text": [
            "enter the number20\n",
            "0 is even\n",
            "1 is odd\n",
            "2 is even\n",
            "3 is odd\n",
            "4 is even\n",
            "5 is odd\n",
            "6 is even\n",
            "7 is odd\n",
            "8 is even\n",
            "9 is odd\n",
            "10 is even\n",
            "11 is odd\n",
            "12 is even\n",
            "13 is odd\n",
            "14 is even\n",
            "15 is odd\n",
            "16 is even\n",
            "17 is odd\n",
            "18 is even\n",
            "19 is odd\n",
            "20 is even\n"
          ],
          "name": "stdout"
        }
      ]
    },
    {
      "cell_type": "markdown",
      "metadata": {
        "id": "9Hacg49TJjp6"
      },
      "source": [
        "8. Create a program, where loop read text of alphabet and as it gets **T**, it will not print it and go further but as it gets **U**, it stops."
      ]
    },
    {
      "cell_type": "code",
      "metadata": {
        "id": "xOEp2tEILwzC",
        "colab": {
          "base_uri": "https://localhost:8080/"
        },
        "outputId": "aa59beee-226a-49eb-c39f-6d6cbd33b984"
      },
      "source": [
        "strparam = \"abcdefghijklmnopqrstuv\"\n",
        "for i in strparam:\n",
        "  if i.lower() == \"t\":\n",
        "    continue\n",
        "  elif i.lower() == \"u\":\n",
        "    break\n",
        "  else:\n",
        "    print(i)\n"
      ],
      "execution_count": null,
      "outputs": [
        {
          "output_type": "stream",
          "text": [
            "a\n",
            "b\n",
            "c\n",
            "d\n",
            "e\n",
            "f\n",
            "g\n",
            "h\n",
            "i\n",
            "j\n",
            "k\n",
            "l\n",
            "m\n",
            "n\n",
            "o\n",
            "p\n",
            "q\n",
            "r\n",
            "s\n"
          ],
          "name": "stdout"
        }
      ]
    },
    {
      "cell_type": "markdown",
      "metadata": {
        "id": "sTFB528ULxt0"
      },
      "source": [
        "9. Write a program to print the following pattern.\n",
        "---\n",
        "![Q1.PNG](data:image/png;base64,iVBORw0KGgoAAAANSUhEUgAAAHcAAAC2CAYAAADjjRKbAAAAAXNSR0IArs4c6QAAAARnQU1BAACxjwv8YQUAAAAJcEhZcwAAEnQAABJ0Ad5mH3gAAAMgSURBVHhe7d1RaoNAFEDRrstFuZHQfYSuI2QRhWwhW7BqQ9MWKfXNPBjv3I8DLRIdc3HIz8OX+/0+icm4YMYFMy6YccGMC2ZcMOOCGRfMuGDGBTMumHHBjAtmXDDjghkXLBz39jZO49tt81iZ63QaTtN181iZ3tZs3CoAcZcLDcPwZRy//f963fzM/yxfzvO8wzDf0Pj8+/y+9Zn/6XnN4Sf3+jpfaDxPt41jRd7P0zjfxOmycaxQb2sui5txQ48vKiNCb2sOxV23jWV7uJwq39Cy1S1b2m06z1tczQg9rnl/3OVCXz8ePm+ozo+UX+f6cZ1Cna45vC2rfcYFMy6YccGMC2ZcMOOCGRfMuGDGBTMumHHBjAtmXDDjghkXzLhgxgUzLphxwYwLZlww44IZF8y4YMYFMy5YOO4ypFRn3ua3NgeZ/5a35hLGrQIQdx0pXOZQH5ysf5635pprCT+5vU2p/ylxzSXK4mbckJP11YTirludk/UPeWsutT9up1Pq2xLXXEF4W1b7jAtmXDDjghkXzLhgxgUzLphxwYwLZlww44IZF8y4YMYFMy6YccGMC2ZcMOOCGRfMuGDGBTMumHHBjAtmXLBw3CMOMuetuU3GBdsVdx2DXOZQH/qerG9f+Ml1sr59ZXEzIhxxsr5RobjrVudkffP2xz3ilHramtsW3pbVPuOCGRfMuGDGBTMumHHBjAtmXDDjghkXzLhgxgUzLphxwYwLZlww44IZF8y4YMYFMy6YccGMC2ZcMOOCGRcsHDdvkDlv+Lo3xgXbFTdvSj1vsr5n4Sf3iJP1vSmLmxGh0fe/H1Eo7hEn63u0P+4RJ+s7Fd6W1T7jghkXzLhgxgUzLphxwYwLZlww44IZF8y4YMYFMy6YccGMC2ZcMOOCGRfMuGDGBTMumHHBjAtmXDDjghkXLBw3b/hatRgXbFfcvMl6ZQg/ub29//2IyuLOT6wD0u0Kxc2brFdN++N2+v73Iwpvy2qfccGMC2ZcMOOCGRfMuGDGBTMumHHBjAtmXDDjghkXzLhgxgUzLphxwYwLZlww44IZF+s+fQAmHlqv2bLUKgAAAABJRU5ErkJggg==)"
      ]
    },
    {
      "cell_type": "code",
      "metadata": {
        "id": "ixon996JMVPd",
        "colab": {
          "base_uri": "https://localhost:8080/"
        },
        "outputId": "50c55d95-d486-4000-d49a-ee20b932c99c"
      },
      "source": [
        "i = 5\n",
        "while i:\n",
        "  print('* '*i)\n",
        "  i-=1\n"
      ],
      "execution_count": null,
      "outputs": [
        {
          "output_type": "stream",
          "text": [
            "* * * * * \n",
            "* * * * \n",
            "* * * \n",
            "* * \n",
            "* \n"
          ],
          "name": "stdout"
        }
      ]
    },
    {
      "cell_type": "markdown",
      "metadata": {
        "id": "MlaGhSNPMpff"
      },
      "source": [
        "10. Write a program to accept decimal number from list<br>\n",
        "list =[20, 14.25, 2, 1.04, 80, 50.55]"
      ]
    },
    {
      "cell_type": "code",
      "metadata": {
        "id": "k_srHafWNDY-",
        "colab": {
          "base_uri": "https://localhost:8080/"
        },
        "outputId": "b6edb9d8-7520-44c6-85e5-a410cbfd8496"
      },
      "source": [
        "list =[20, 14.25, 25, 1.04, 80, 50.55,14.44]\n",
        "new_list = []\n",
        "for i in list:\n",
        "  if isinstance(i,float):\n",
        "    new_list.append(i)\n",
        "print(new_list)"
      ],
      "execution_count": null,
      "outputs": [
        {
          "output_type": "stream",
          "text": [
            "[14.25, 1.04, 50.55, 14.44]\n"
          ],
          "name": "stdout"
        }
      ]
    },
    {
      "cell_type": "code",
      "metadata": {
        "colab": {
          "base_uri": "https://localhost:8080/"
        },
        "id": "4i7ksNAAkuNA",
        "outputId": "0477f592-6aa6-4548-915f-35dcbe0dab2d"
      },
      "source": [
        "ans = []\n",
        "for i in list:\n",
        "  if isinstance(i, float):\n",
        "    ans.append(i)\n",
        "\n",
        "print(ans)"
      ],
      "execution_count": null,
      "outputs": [
        {
          "output_type": "stream",
          "text": [
            "[14.25, 1.04, 50.55]\n"
          ],
          "name": "stdout"
        }
      ]
    },
    {
      "cell_type": "code",
      "metadata": {
        "colab": {
          "base_uri": "https://localhost:8080/"
        },
        "id": "PFmK4Ts7mUyz",
        "outputId": "cd0641b5-ee2c-42b0-eedd-d04691ffc377"
      },
      "source": [
        "ans = []\n",
        "for i in list:\n",
        "  if type(i) == float:\n",
        "    ans.append(i)\n",
        "\n",
        "print(ans)"
      ],
      "execution_count": null,
      "outputs": [
        {
          "output_type": "stream",
          "text": [
            "[14.25, 1.04, 50.55]\n"
          ],
          "name": "stdout"
        }
      ]
    },
    {
      "cell_type": "markdown",
      "metadata": {
        "id": "4SeY12_vNEIo"
      },
      "source": [
        "Practice with the loops by trying different loop statement and explore "
      ]
    },
    {
      "cell_type": "code",
      "metadata": {
        "id": "LQMwwqoFNL47",
        "colab": {
          "base_uri": "https://localhost:8080/"
        },
        "outputId": "cda5e972-c3e6-47c9-ec41-72756244d20a"
      },
      "source": [
        "n=5\n",
        "for i in range(1,n):\n",
        "  print(i**2,end=\" \")\n",
        "n=5\n",
        "while n:\n",
        "  print(n**2,end=\" \")\n",
        "  n-=1"
      ],
      "execution_count": null,
      "outputs": [
        {
          "output_type": "stream",
          "text": [
            "1 4 9 16 25 16 9 4 1 "
          ],
          "name": "stdout"
        }
      ]
    },
    {
      "cell_type": "code",
      "metadata": {
        "id": "j8jSlKQymuXl"
      },
      "source": [
        "list =[20, 14.25, 25, 1.04, 80, 50.55,14.44]\n",
        "for i in list:\n",
        "  if "
      ],
      "execution_count": null,
      "outputs": []
    }
  ]
}