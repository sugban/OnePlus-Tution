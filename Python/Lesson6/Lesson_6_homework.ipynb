{
  "nbformat": 4,
  "nbformat_minor": 0,
  "metadata": {
    "colab": {
      "name": "Lesson 6: homework",
      "provenance": [],
      "authorship_tag": "ABX9TyOKHHPtVisWnhSabnwqqA1I",
      "include_colab_link": true
    },
    "kernelspec": {
      "name": "python3",
      "display_name": "Python 3"
    },
    "language_info": {
      "name": "python"
    }
  },
  "cells": [
    {
      "cell_type": "markdown",
      "metadata": {
        "id": "view-in-github",
        "colab_type": "text"
      },
      "source": [
        "<a href=\"https://colab.research.google.com/github/sugban/OnePlus-Tution/blob/main/Python/Lesson6/Lesson_6_homework.ipynb\" target=\"_parent\"><img src=\"https://colab.research.google.com/assets/colab-badge.svg\" alt=\"Open In Colab\"/></a>"
      ]
    },
    {
      "cell_type": "markdown",
      "metadata": {
        "id": "frPu6rhdP-TW"
      },
      "source": [
        "1. Read the content from a text file \"poem.txt\" line by line and display the same"
      ]
    },
    {
      "cell_type": "code",
      "metadata": {
        "id": "5KbDHwadROdN"
      },
      "source": [
        ""
      ],
      "execution_count": null,
      "outputs": []
    },
    {
      "cell_type": "markdown",
      "metadata": {
        "id": "F3HQXYMhRXGt"
      },
      "source": [
        "2. Count the number of lines from \"poem.txt\""
      ]
    },
    {
      "cell_type": "code",
      "metadata": {
        "id": "h6njNcYsRwyb"
      },
      "source": [
        ""
      ],
      "execution_count": null,
      "outputs": []
    },
    {
      "cell_type": "markdown",
      "metadata": {
        "id": "Di0mNYaJRyh8"
      },
      "source": [
        "3. Add new 4 lines in the 'poem.txt'"
      ]
    },
    {
      "cell_type": "code",
      "metadata": {
        "id": "yd34WBYtRxob"
      },
      "source": [
        ""
      ],
      "execution_count": null,
      "outputs": []
    },
    {
      "cell_type": "markdown",
      "metadata": {
        "id": "SiATZYKOR6hJ"
      },
      "source": [
        "4. Create a new file and check if it is closed in the end."
      ]
    },
    {
      "cell_type": "code",
      "metadata": {
        "id": "6aCv2XVRSJBa"
      },
      "source": [
        ""
      ],
      "execution_count": null,
      "outputs": []
    },
    {
      "cell_type": "markdown",
      "metadata": {
        "id": "k7_Z8kHOSKTe"
      },
      "source": [
        "5. Read and write 'poem.txt' and copy it in another file called 'Nursery.txt'"
      ]
    },
    {
      "cell_type": "code",
      "metadata": {
        "id": "2tQtwUJOSnoW"
      },
      "source": [
        ""
      ],
      "execution_count": null,
      "outputs": []
    },
    {
      "cell_type": "markdown",
      "metadata": {
        "id": "bi9Ijv76So1C"
      },
      "source": [
        "6. Create a HTML file "
      ]
    },
    {
      "cell_type": "code",
      "metadata": {
        "id": "4AGTOOSDSs6z"
      },
      "source": [
        ""
      ],
      "execution_count": null,
      "outputs": []
    },
    {
      "cell_type": "markdown",
      "metadata": {
        "id": "A2nQm3t6Strh"
      },
      "source": [
        "7. Read a csv file 'Sample.csv'"
      ]
    },
    {
      "cell_type": "code",
      "metadata": {
        "id": "dhtdl5mFgbSV"
      },
      "source": [
        ""
      ],
      "execution_count": null,
      "outputs": []
    },
    {
      "cell_type": "markdown",
      "metadata": {
        "id": "8SMuLqBqgc31"
      },
      "source": [
        "8. Create a new csv file named 'Student.csv' with th efollowing dictionary\n",
        "---\n",
        "student_scores = {'Adama': 100, 'Starbuck': 75, 'Apollo': 80, 'Athena': 85, 'Agathon': 90}"
      ]
    },
    {
      "cell_type": "code",
      "metadata": {
        "id": "d23y8PiCll7o"
      },
      "source": [
        ""
      ],
      "execution_count": null,
      "outputs": []
    },
    {
      "cell_type": "markdown",
      "metadata": {
        "id": "SDTg_IFmlnQ2"
      },
      "source": [
        "9. Set the cursor to 0 and check the cursor position"
      ]
    },
    {
      "cell_type": "code",
      "metadata": {
        "id": "TOUb89MNl1Mu"
      },
      "source": [
        ""
      ],
      "execution_count": null,
      "outputs": []
    },
    {
      "cell_type": "markdown",
      "metadata": {
        "id": "pJXECvfgl2Ce"
      },
      "source": [
        "10. Overwrite with new poem "
      ]
    }
  ]
}