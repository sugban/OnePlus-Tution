{
  "nbformat": 4,
  "nbformat_minor": 0,
  "metadata": {
    "kernelspec": {
      "display_name": "Python 3",
      "language": "python",
      "name": "python3"
    },
    "language_info": {
      "codemirror_mode": {
        "name": "ipython",
        "version": 3
      },
      "file_extension": ".py",
      "mimetype": "text/x-python",
      "name": "python",
      "nbconvert_exporter": "python",
      "pygments_lexer": "ipython3",
      "version": "3.7.6"
    },
    "colab": {
      "name": "File handling.ipynb",
      "provenance": [],
      "include_colab_link": true
    }
  },
  "cells": [
    {
      "cell_type": "markdown",
      "metadata": {
        "id": "view-in-github",
        "colab_type": "text"
      },
      "source": [
        "<a href=\"https://colab.research.google.com/github/sugban/OnePlus-Tution/blob/main/Python/Lesson6/File_handling.ipynb\" target=\"_parent\"><img src=\"https://colab.research.google.com/assets/colab-badge.svg\" alt=\"Open In Colab\"/></a>"
      ]
    },
    {
      "cell_type": "code",
      "metadata": {
        "id": "hF5x9GVtys_Y"
      },
      "source": [
        "file = open('demo.txt','r')"
      ],
      "execution_count": null,
      "outputs": []
    },
    {
      "cell_type": "code",
      "metadata": {
        "colab": {
          "base_uri": "https://localhost:8080/"
        },
        "id": "xPtOa33tys_Z",
        "outputId": "f5734de6-9241-47eb-f819-25e747a1d60d"
      },
      "source": [
        "line = file.readlines()\n",
        "print(line)"
      ],
      "execution_count": null,
      "outputs": [
        {
          "output_type": "stream",
          "text": [
            "['Hello! Welcome to the demo file.\\n', 'This file is for learning file handling in Python.\\n', \" We'll try to open, read and then append in this file.\\n\", ' So be tuned and Good Luck!']\n"
          ],
          "name": "stdout"
        }
      ]
    },
    {
      "cell_type": "code",
      "metadata": {
        "colab": {
          "base_uri": "https://localhost:8080/"
        },
        "id": "WKXzLwOnys_b",
        "outputId": "1da83b5c-6fee-455c-9171-97f3f6d06d74"
      },
      "source": [
        "print(len(line))"
      ],
      "execution_count": null,
      "outputs": [
        {
          "output_type": "stream",
          "text": [
            "4\n"
          ],
          "name": "stdout"
        }
      ]
    },
    {
      "cell_type": "code",
      "metadata": {
        "id": "UB9BoIDtys_c"
      },
      "source": [
        "file.close()"
      ],
      "execution_count": null,
      "outputs": []
    },
    {
      "cell_type": "code",
      "metadata": {
        "colab": {
          "base_uri": "https://localhost:8080/"
        },
        "id": "4xHhy-6_ys_d",
        "outputId": "63c70720-9453-49f4-a8a2-a145e468121b"
      },
      "source": [
        "# to print file name\n",
        "print(file.name)"
      ],
      "execution_count": null,
      "outputs": [
        {
          "output_type": "stream",
          "text": [
            "demo.txt\n"
          ],
          "name": "stdout"
        }
      ]
    },
    {
      "cell_type": "code",
      "metadata": {
        "colab": {
          "base_uri": "https://localhost:8080/"
        },
        "id": "O-gLPyxQys_d",
        "outputId": "3d208de6-c430-4856-f2bc-3629cef918c4"
      },
      "source": [
        "# to check if the file has closed or not\n",
        "print(file.closed)"
      ],
      "execution_count": null,
      "outputs": [
        {
          "output_type": "stream",
          "text": [
            "True\n"
          ],
          "name": "stdout"
        }
      ]
    },
    {
      "cell_type": "code",
      "metadata": {
        "colab": {
          "base_uri": "https://localhost:8080/"
        },
        "id": "Svjho5qfys_e",
        "outputId": "cd3112ab-2b3b-4cba-d85a-bd0b19ef0949"
      },
      "source": [
        "file = open('demo.txt','r')\n",
        "print(file.read())"
      ],
      "execution_count": null,
      "outputs": [
        {
          "output_type": "stream",
          "text": [
            "Hello! Welcome to the demo file.\n",
            "This file is for learning file handling in Python.\n",
            " We'll try to open, read and then append in this file.\n",
            " So be tuned and Good Luck!\n"
          ],
          "name": "stdout"
        }
      ]
    },
    {
      "cell_type": "code",
      "metadata": {
        "colab": {
          "base_uri": "https://localhost:8080/"
        },
        "id": "Fh0kSL9ays_e",
        "outputId": "4064624c-b185-4bab-f9a6-495536fdb332"
      },
      "source": [
        "# to find the position of the cursor\n",
        "print(f'cursor position - {file.tell()}')"
      ],
      "execution_count": null,
      "outputs": [
        {
          "output_type": "stream",
          "text": [
            "cursor position - 166\n"
          ],
          "name": "stdout"
        }
      ]
    },
    {
      "cell_type": "code",
      "metadata": {
        "colab": {
          "base_uri": "https://localhost:8080/"
        },
        "id": "aFjClkYyys_f",
        "outputId": "7707b387-276b-4e06-cbfd-a25a10c74d89"
      },
      "source": [
        "# to define the cursor position\n",
        "file.seek(0)"
      ],
      "execution_count": null,
      "outputs": [
        {
          "output_type": "execute_result",
          "data": {
            "text/plain": [
              "0"
            ]
          },
          "metadata": {
            "tags": []
          },
          "execution_count": 13
        }
      ]
    },
    {
      "cell_type": "code",
      "metadata": {
        "colab": {
          "base_uri": "https://localhost:8080/"
        },
        "id": "TpAj0nh0ys_g",
        "outputId": "2942cf0e-74f0-45b4-8aa6-7dbe00653722"
      },
      "source": [
        "print(f'cursor position - {file.tell()}')"
      ],
      "execution_count": null,
      "outputs": [
        {
          "output_type": "stream",
          "text": [
            "cursor position - 0\n"
          ],
          "name": "stdout"
        }
      ]
    },
    {
      "cell_type": "code",
      "metadata": {
        "colab": {
          "base_uri": "https://localhost:8080/",
          "height": 35
        },
        "id": "zotFtBBBys_g",
        "outputId": "b87f5d2f-117f-4a9b-e597-31b5781b6263"
      },
      "source": [
        "file.read() # now it will read again from the beginning"
      ],
      "execution_count": null,
      "outputs": [
        {
          "output_type": "execute_result",
          "data": {
            "application/vnd.google.colaboratory.intrinsic+json": {
              "type": "string"
            },
            "text/plain": [
              "\"Hello! Welcome to the demo file.\\nThis file is for learning file handling in Python.\\n We'll try to open, read and then append in this file.\\n So be tuned and Good Luck!\""
            ]
          },
          "metadata": {
            "tags": []
          },
          "execution_count": 15
        }
      ]
    },
    {
      "cell_type": "code",
      "metadata": {
        "id": "qJlK74UVys_h"
      },
      "source": [
        "# we should always close file in th end, otherwise it can be damaged\n",
        "file.close()"
      ],
      "execution_count": null,
      "outputs": []
    },
    {
      "cell_type": "code",
      "metadata": {
        "colab": {
          "base_uri": "https://localhost:8080/"
        },
        "id": "Cs2KZNboys_h",
        "outputId": "2bf7a504-c825-4bb4-942b-bf88300427cd"
      },
      "source": [
        "# to open file with 'with open'\n",
        "# in this you don't need to add the close function as it always closes file itself in the end\n",
        "\n",
        "with open('demo.txt') as file:\n",
        "    line = file.read()\n",
        "    print(line)"
      ],
      "execution_count": null,
      "outputs": [
        {
          "output_type": "stream",
          "text": [
            "Hello! Welcome to the demo file.\n",
            "This file is for learning file handling in Python.\n",
            " We'll try to open, read and then append in this file.\n",
            " So be tuned and Good Luck!\n"
          ],
          "name": "stdout"
        }
      ]
    },
    {
      "cell_type": "code",
      "metadata": {
        "colab": {
          "base_uri": "https://localhost:8080/"
        },
        "id": "VlAJ4TQ-ys_i",
        "outputId": "bd68fd8b-4939-41b6-ebdc-f1f779282732"
      },
      "source": [
        "print(file.closed)"
      ],
      "execution_count": null,
      "outputs": [
        {
          "output_type": "stream",
          "text": [
            "True\n"
          ],
          "name": "stdout"
        }
      ]
    },
    {
      "cell_type": "code",
      "metadata": {
        "id": "0hniLFYcys_i"
      },
      "source": [
        "''' To write in the file \n",
        "mode that is used are - w,a,r+'''\n",
        "\n",
        "with open('demo1.txt','w') as file1: # 'w' mode will overwrite the file, but if there is no file, it will create the new one\n",
        "    file1.write('Hello Yannick!') "
      ],
      "execution_count": null,
      "outputs": []
    },
    {
      "cell_type": "code",
      "metadata": {
        "colab": {
          "base_uri": "https://localhost:8080/",
          "height": 35
        },
        "id": "Y1ShkUSrys_j",
        "outputId": "34750fa8-e027-4bac-bcd2-c5038edc3d43"
      },
      "source": [
        "file1 = open('demo1.txt','r')\n",
        "file1.read()"
      ],
      "execution_count": null,
      "outputs": [
        {
          "output_type": "execute_result",
          "data": {
            "application/vnd.google.colaboratory.intrinsic+json": {
              "type": "string"
            },
            "text/plain": [
              "'Hello Yannick!'"
            ]
          },
          "metadata": {
            "tags": []
          },
          "execution_count": 59
        }
      ]
    },
    {
      "cell_type": "code",
      "metadata": {
        "id": "7g4n695bys_j"
      },
      "source": [
        "file1.close()"
      ],
      "execution_count": null,
      "outputs": []
    },
    {
      "cell_type": "code",
      "metadata": {
        "id": "aeVpJhg1ys_j"
      },
      "source": [
        "# to append a line in the file\n",
        "with open('demo1.txt','a') as f:\n",
        "    f.write('\\nIt is a beautiful day today.')"
      ],
      "execution_count": null,
      "outputs": []
    },
    {
      "cell_type": "code",
      "metadata": {
        "colab": {
          "base_uri": "https://localhost:8080/"
        },
        "id": "bEImPH1Pys_j",
        "outputId": "65a9e13c-fec4-4743-ce52-974ae0692004"
      },
      "source": [
        "file1 = open('demo1.txt','r')\n",
        "print(file1.read())"
      ],
      "execution_count": null,
      "outputs": [
        {
          "output_type": "stream",
          "text": [
            "Hello Yannick!\n",
            "It is a beautiful day today.\n"
          ],
          "name": "stdout"
        }
      ]
    },
    {
      "cell_type": "code",
      "metadata": {
        "id": "_R8m70leys_k"
      },
      "source": [
        "file1.close()"
      ],
      "execution_count": null,
      "outputs": []
    },
    {
      "cell_type": "code",
      "metadata": {
        "id": "jROiZyJ2ys_k"
      },
      "source": [
        "# we can read and write file together also\n",
        "with open('demo1.txt','r+') as f:\n",
        "  #f.seek(0)\n",
        "  f.read()\n",
        "  f.write('We can manipulate files with using different modes')"
      ],
      "execution_count": null,
      "outputs": []
    },
    {
      "cell_type": "code",
      "metadata": {
        "colab": {
          "base_uri": "https://localhost:8080/"
        },
        "id": "JA_E0j2vys_k",
        "outputId": "2cc7223f-d7ea-448e-93da-531cae700d8d"
      },
      "source": [
        "with open('demo1.txt') as f:\n",
        "    print(f.read())"
      ],
      "execution_count": null,
      "outputs": [
        {
          "output_type": "stream",
          "text": [
            "Hello Yannick!\n",
            "It is a beautiful day today.We can manipulate files with using different modes\n"
          ],
          "name": "stdout"
        }
      ]
    },
    {
      "cell_type": "code",
      "metadata": {
        "id": "LKGnqvCeys_k"
      },
      "source": [
        "# read from one file and write into another file\n",
        "\n",
        "with open('demo.txt','r') as read_file:\n",
        "    with open('new.txt','a') as new_file:\n",
        "        for line in read_file.readlines():\n",
        "            new_file.write(line)"
      ],
      "execution_count": null,
      "outputs": []
    },
    {
      "cell_type": "code",
      "metadata": {
        "id": "_7vXDQlnys_l"
      },
      "source": [
        "# to add demo1 file also in new\n",
        "\n",
        "with open('demo1.txt','r') as read_file:\n",
        "    with open('new.txt','a') as new_file:\n",
        "        for line in read_file.readlines():\n",
        "            new_file.write(line)"
      ],
      "execution_count": null,
      "outputs": []
    },
    {
      "cell_type": "code",
      "metadata": {
        "colab": {
          "base_uri": "https://localhost:8080/"
        },
        "id": "3EJSE4kMaK3b",
        "outputId": "92710074-153a-4b12-9c34-f6e3657b9dfb"
      },
      "source": [
        "with open('new.txt','r') as f:\n",
        "  print(f.read())"
      ],
      "execution_count": null,
      "outputs": [
        {
          "output_type": "stream",
          "text": [
            "Hello! Welcome to the demo file.\n",
            "This file is for learning file handling in Python.\n",
            " We'll try to open, read and then append in this file.\n",
            " So be tuned and Good Luck!Hello Yannick!\n",
            "It is a beautiful day today.We can manipulate files with using different modes\n"
          ],
          "name": "stdout"
        }
      ]
    },
    {
      "cell_type": "code",
      "metadata": {
        "id": "HgXX95KPys_l"
      },
      "source": [
        "# Creating an HTML file\n",
        "with open(\"Python-6.html\",\"w\") as html_file:\n",
        "    \n",
        "    # Writing data to the HTML file\n",
        "    html_file.write(\"<html>\\n<head>\\n<title> \\nOutput Data in an HTML file \\\n",
        "           </title>\\n</head> <body><h1>Welcome to <u>PlusOneTutition</u></h1>\\\n",
        "           \\n<h2>An <u>Online</u> Learning portal for everyone</h2> \\n</body></html>\")"
      ],
      "execution_count": null,
      "outputs": []
    },
    {
      "cell_type": "code",
      "metadata": {
        "colab": {
          "base_uri": "https://localhost:8080/"
        },
        "id": "yhxMtVFVys_l",
        "outputId": "4db8f6b1-f24a-41bd-ccbf-d730f56d5dbb"
      },
      "source": [
        "# to read an HTML file\n",
        "with open(\"Python-6.html\",\"r\") as read_html:\n",
        "    print(read_html.read())"
      ],
      "execution_count": null,
      "outputs": [
        {
          "output_type": "stream",
          "text": [
            "<html>\n",
            "<head>\n",
            "<title> \n",
            "Output Data in an HTML file            </title>\n",
            "</head> <body><h1>Welcome to <u>PlusOneTutition</u></h1>           \n",
            "<h2>An <u>Online</u> Learning portal for everyone</h2> \n",
            "</body></html>\n"
          ],
          "name": "stdout"
        }
      ]
    },
    {
      "cell_type": "code",
      "metadata": {
        "colab": {
          "base_uri": "https://localhost:8080/"
        },
        "id": "bDNLOrHgys_l",
        "outputId": "004fc55f-b14a-4e60-d228-ee25573dfa7f"
      },
      "source": [
        "# to read csv file\n",
        "# to read csv file, we import csv module\n",
        "\n",
        "from csv import reader\n",
        "\n",
        "with open('23.07.csv','r') as csv_file:\n",
        "    csv_reader = reader(csv_file)\n",
        "    for row in csv_reader:\n",
        "        print(row)"
      ],
      "execution_count": null,
      "outputs": [
        {
          "output_type": "stream",
          "text": [
            "['', 'Local currency', 'Foreign currency', 'Rates']\n",
            "['', 'DKK', 'AED ', '166.78']\n",
            "['', 'DKK', 'AUD ', '461.49']\n",
            "['', 'DKK', 'BGN ', '374.36']\n",
            "['', 'DKK', 'CAD ', '494.97']\n",
            "['', 'DKK', 'CHF ', '680.06']\n",
            "['', 'DKK', 'CNY', '94.82']\n",
            "['', 'DKK', 'CZK ', '28.63']\n",
            "['', 'DKK', 'EUR ', '740.65']\n",
            "['', 'DKK', 'GBP ', '863.93']\n",
            "['', 'DKK', 'HKD ', '78.97']\n",
            "['', 'DKK', 'HRK ', '95.61']\n",
            "['', 'DKK', 'HUF ', '2.05']\n",
            "['', 'DKK', 'ILS ', '189.99']\n",
            "['', 'DKK', 'JPY ', '5.58']\n",
            "['', 'DKK', 'NOK ', '71.78']\n",
            "['', 'DKK', 'NZD', '429.63']\n",
            "['', 'DKK', 'PLN ', '159.01']\n",
            "['', 'DKK', 'RUB ', '8.32']\n",
            "['', 'DKK', 'SAR ', '162.48']\n",
            "['', 'DKK', 'SEK', '72.67']\n",
            "['', 'DKK', 'SGD', '449.21']\n",
            "['', 'DKK', 'THB ', '18.82']\n",
            "['', 'DKK', 'TRY', '74.10']\n",
            "['', 'DKK', 'USD ', '627.73']\n",
            "['', 'DKK', 'ZAR ', '43.58']\n",
            "['', 'DKK', 'SCP ', '862.19']\n"
          ],
          "name": "stdout"
        }
      ]
    },
    {
      "cell_type": "code",
      "metadata": {
        "colab": {
          "base_uri": "https://localhost:8080/"
        },
        "id": "_uthXnH_ys_m",
        "outputId": "4d951126-5f51-42ed-850e-0ced7fd18a3b"
      },
      "source": [
        "# to read csv as an ordered dictionary\n",
        "\n",
        "from csv import DictReader\n",
        "\n",
        "with open('23.07.csv','r') as csv_f:\n",
        "    csv_reader = DictReader(csv_f)\n",
        "    for row in csv_reader:\n",
        "        print(row['Foreign currency'])\n",
        "        print(row['Rates'])\n",
        "        "
      ],
      "execution_count": null,
      "outputs": [
        {
          "output_type": "stream",
          "text": [
            "AED \n",
            "166.78\n",
            "AUD \n",
            "461.49\n",
            "BGN \n",
            "374.36\n",
            "CAD \n",
            "494.97\n",
            "CHF \n",
            "680.06\n",
            "CNY\n",
            "94.82\n",
            "CZK \n",
            "28.63\n",
            "EUR \n",
            "740.65\n",
            "GBP \n",
            "863.93\n",
            "HKD \n",
            "78.97\n",
            "HRK \n",
            "95.61\n",
            "HUF \n",
            "2.05\n",
            "ILS \n",
            "189.99\n",
            "JPY \n",
            "5.58\n",
            "NOK \n",
            "71.78\n",
            "NZD\n",
            "429.63\n",
            "PLN \n",
            "159.01\n",
            "RUB \n",
            "8.32\n",
            "SAR \n",
            "162.48\n",
            "SEK\n",
            "72.67\n",
            "SGD\n",
            "449.21\n",
            "THB \n",
            "18.82\n",
            "TRY\n",
            "74.10\n",
            "USD \n",
            "627.73\n",
            "ZAR \n",
            "43.58\n",
            "SCP \n",
            "862.19\n"
          ],
          "name": "stdout"
        }
      ]
    },
    {
      "cell_type": "code",
      "metadata": {
        "id": "KRE4Ic9Oys_m"
      },
      "source": [
        "# Write to csv file\n",
        "\n",
        "from csv import writer\n",
        "\n",
        "with open('23.07.csv','a') as csv_w:\n",
        "    csv_writer = writer(csv_w)\n",
        "    # writerow method\n",
        "    csv_writer.writerow(['','DKK','EGP','40.14'])\n",
        "    csv_writer.writerow(['','DKK','INR','8.47'])"
      ],
      "execution_count": null,
      "outputs": []
    },
    {
      "cell_type": "code",
      "metadata": {
        "colab": {
          "base_uri": "https://localhost:8080/"
        },
        "id": "p_0EcKMUys_m",
        "outputId": "73262142-1483-4db4-9aca-0e5358edb3a7"
      },
      "source": [
        "# to read csv as an ordered dictionary\n",
        "\n",
        "from csv import DictReader\n",
        "\n",
        "with open('23.07.csv','r') as csv_f:\n",
        "    csv_reader = DictReader(csv_f)\n",
        "    for row in csv_reader:\n",
        "        print(row['Foreign currency'])\n",
        "        print(row['Rates'])\n",
        "        "
      ],
      "execution_count": null,
      "outputs": [
        {
          "output_type": "stream",
          "text": [
            "AED \n",
            "166.78\n",
            "AUD \n",
            "461.49\n",
            "BGN \n",
            "374.36\n",
            "CAD \n",
            "494.97\n",
            "CHF \n",
            "680.06\n",
            "CNY\n",
            "94.82\n",
            "CZK \n",
            "28.63\n",
            "EUR \n",
            "740.65\n",
            "GBP \n",
            "863.93\n",
            "HKD \n",
            "78.97\n",
            "HRK \n",
            "95.61\n",
            "HUF \n",
            "2.05\n",
            "ILS \n",
            "189.99\n",
            "JPY \n",
            "5.58\n",
            "NOK \n",
            "71.78\n",
            "NZD\n",
            "429.63\n",
            "PLN \n",
            "159.01\n",
            "RUB \n",
            "8.32\n",
            "SAR \n",
            "162.48\n",
            "SEK\n",
            "72.67\n",
            "SGD\n",
            "449.21\n",
            "THB \n",
            "18.82\n",
            "TRY\n",
            "74.10\n",
            "USD \n",
            "627.73\n",
            "ZAR \n",
            "43.58\n",
            "SCP \n",
            "862.19\n",
            "EGP\n",
            "40.14\n",
            "INR\n",
            "8.47\n"
          ],
          "name": "stdout"
        }
      ]
    },
    {
      "cell_type": "code",
      "metadata": {
        "id": "n8eiqtCoys_m"
      },
      "source": [
        ""
      ],
      "execution_count": null,
      "outputs": []
    }
  ]
}