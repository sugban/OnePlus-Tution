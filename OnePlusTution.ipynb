{
  "nbformat": 4,
  "nbformat_minor": 0,
  "metadata": {
    "colab": {
      "name": "OnePlusTution",
      "provenance": [],
      "collapsed_sections": []
    },
    "kernelspec": {
      "name": "python3",
      "display_name": "Python 3"
    },
    "language_info": {
      "name": "python"
    }
  },
  "cells": [
    {
      "cell_type": "code",
      "metadata": {
        "id": "t1Kbjs_7bRpb"
      },
      "source": [
        "import pandas as pd\n",
        "import matplotlib.pyplot as plt\n",
        "import seaborn as sns"
      ],
      "execution_count": 1,
      "outputs": []
    },
    {
      "cell_type": "code",
      "metadata": {
        "colab": {
          "base_uri": "https://localhost:8080/",
          "height": 203
        },
        "id": "BXc7zRNKbT_D",
        "outputId": "6560f52f-3a9b-4fc8-a6cf-e10fcf4af112"
      },
      "source": [
        "df=pd.read_excel('data/sample.xlsx')\n",
        "df.head()"
      ],
      "execution_count": 78,
      "outputs": [
        {
          "output_type": "execute_result",
          "data": {
            "text/html": [
              "<div>\n",
              "<style scoped>\n",
              "    .dataframe tbody tr th:only-of-type {\n",
              "        vertical-align: middle;\n",
              "    }\n",
              "\n",
              "    .dataframe tbody tr th {\n",
              "        vertical-align: top;\n",
              "    }\n",
              "\n",
              "    .dataframe thead th {\n",
              "        text-align: right;\n",
              "    }\n",
              "</style>\n",
              "<table border=\"1\" class=\"dataframe\">\n",
              "  <thead>\n",
              "    <tr style=\"text-align: right;\">\n",
              "      <th></th>\n",
              "      <th>Date</th>\n",
              "      <th>Gender</th>\n",
              "      <th>Region</th>\n",
              "      <th>Savings Account</th>\n",
              "      <th>Merchant</th>\n",
              "      <th>Customers</th>\n",
              "      <th>Spend</th>\n",
              "      <th>Transactions</th>\n",
              "      <th>Age</th>\n",
              "      <th>Annual Salary</th>\n",
              "      <th>Account Type</th>\n",
              "    </tr>\n",
              "  </thead>\n",
              "  <tbody>\n",
              "    <tr>\n",
              "      <th>0</th>\n",
              "      <td>2018-01</td>\n",
              "      <td>F</td>\n",
              "      <td>Region1</td>\n",
              "      <td>No</td>\n",
              "      <td>Merchant X</td>\n",
              "      <td>5</td>\n",
              "      <td>755.969995</td>\n",
              "      <td>16</td>\n",
              "      <td>43.600000</td>\n",
              "      <td>22190.16016</td>\n",
              "      <td>CC_only</td>\n",
              "    </tr>\n",
              "    <tr>\n",
              "      <th>1</th>\n",
              "      <td>2018-01</td>\n",
              "      <td>F</td>\n",
              "      <td>Region1</td>\n",
              "      <td>No</td>\n",
              "      <td>Merchant Z</td>\n",
              "      <td>15</td>\n",
              "      <td>2476.319986</td>\n",
              "      <td>65</td>\n",
              "      <td>41.666667</td>\n",
              "      <td>24281.88086</td>\n",
              "      <td>CC_only</td>\n",
              "    </tr>\n",
              "    <tr>\n",
              "      <th>2</th>\n",
              "      <td>2018-01</td>\n",
              "      <td>F</td>\n",
              "      <td>Region1</td>\n",
              "      <td>No</td>\n",
              "      <td>Merchant Y</td>\n",
              "      <td>21</td>\n",
              "      <td>1447.930008</td>\n",
              "      <td>53</td>\n",
              "      <td>36.285714</td>\n",
              "      <td>38809.92057</td>\n",
              "      <td>CC_only</td>\n",
              "    </tr>\n",
              "    <tr>\n",
              "      <th>3</th>\n",
              "      <td>2018-01</td>\n",
              "      <td>F</td>\n",
              "      <td>Region1</td>\n",
              "      <td>No</td>\n",
              "      <td>Merchant X</td>\n",
              "      <td>134</td>\n",
              "      <td>7751.799956</td>\n",
              "      <td>388</td>\n",
              "      <td>33.897964</td>\n",
              "      <td>24596.98421</td>\n",
              "      <td>MTA_only</td>\n",
              "    </tr>\n",
              "    <tr>\n",
              "      <th>4</th>\n",
              "      <td>2018-01</td>\n",
              "      <td>F</td>\n",
              "      <td>Region1</td>\n",
              "      <td>No</td>\n",
              "      <td>Merchant Z</td>\n",
              "      <td>247</td>\n",
              "      <td>18827.329980</td>\n",
              "      <td>1035</td>\n",
              "      <td>34.234351</td>\n",
              "      <td>25175.56021</td>\n",
              "      <td>MTA_only</td>\n",
              "    </tr>\n",
              "  </tbody>\n",
              "</table>\n",
              "</div>"
            ],
            "text/plain": [
              "      Date Gender   Region  ...        Age Annual Salary  Account Type\n",
              "0  2018-01      F  Region1  ...  43.600000   22190.16016       CC_only\n",
              "1  2018-01      F  Region1  ...  41.666667   24281.88086       CC_only\n",
              "2  2018-01      F  Region1  ...  36.285714   38809.92057       CC_only\n",
              "3  2018-01      F  Region1  ...  33.897964   24596.98421      MTA_only\n",
              "4  2018-01      F  Region1  ...  34.234351   25175.56021      MTA_only\n",
              "\n",
              "[5 rows x 11 columns]"
            ]
          },
          "metadata": {},
          "execution_count": 78
        }
      ]
    },
    {
      "cell_type": "code",
      "metadata": {
        "colab": {
          "base_uri": "https://localhost:8080/"
        },
        "id": "LHOGBWLidro2",
        "outputId": "1193f64b-7cc2-4305-f58e-0812a465a336"
      },
      "source": [
        "df.shape"
      ],
      "execution_count": 79,
      "outputs": [
        {
          "output_type": "execute_result",
          "data": {
            "text/plain": [
              "(2441, 11)"
            ]
          },
          "metadata": {},
          "execution_count": 79
        }
      ]
    },
    {
      "cell_type": "code",
      "metadata": {
        "colab": {
          "base_uri": "https://localhost:8080/"
        },
        "id": "ax0H8CR14JHm",
        "outputId": "d90d9752-5263-4798-bff8-dbc35f975241"
      },
      "source": [
        "df.info()"
      ],
      "execution_count": 80,
      "outputs": [
        {
          "output_type": "stream",
          "name": "stdout",
          "text": [
            "<class 'pandas.core.frame.DataFrame'>\n",
            "RangeIndex: 2441 entries, 0 to 2440\n",
            "Data columns (total 11 columns):\n",
            " #   Column           Non-Null Count  Dtype  \n",
            "---  ------           --------------  -----  \n",
            " 0   Date             2441 non-null   object \n",
            " 1   Gender           2441 non-null   object \n",
            " 2   Region           2441 non-null   object \n",
            " 3   Savings Account  2441 non-null   object \n",
            " 4   Merchant         2441 non-null   object \n",
            " 5   Customers        2441 non-null   int64  \n",
            " 6   Spend            2441 non-null   float64\n",
            " 7   Transactions     2441 non-null   int64  \n",
            " 8   Age              2441 non-null   float64\n",
            " 9   Annual Salary    2261 non-null   float64\n",
            " 10  Account Type     2441 non-null   object \n",
            "dtypes: float64(3), int64(2), object(6)\n",
            "memory usage: 209.9+ KB\n"
          ]
        }
      ]
    },
    {
      "cell_type": "code",
      "metadata": {
        "colab": {
          "base_uri": "https://localhost:8080/"
        },
        "id": "Ow00sSe68M0e",
        "outputId": "63058547-2314-4a75-d51b-1ca7e43aa2c8"
      },
      "source": [
        "df.isnull().sum()"
      ],
      "execution_count": 81,
      "outputs": [
        {
          "output_type": "execute_result",
          "data": {
            "text/plain": [
              "Date                 0\n",
              "Gender               0\n",
              "Region               0\n",
              "Savings Account      0\n",
              "Merchant             0\n",
              "Customers            0\n",
              "Spend                0\n",
              "Transactions         0\n",
              "Age                  0\n",
              "Annual Salary      180\n",
              "Account Type         0\n",
              "dtype: int64"
            ]
          },
          "metadata": {},
          "execution_count": 81
        }
      ]
    },
    {
      "cell_type": "code",
      "metadata": {
        "colab": {
          "base_uri": "https://localhost:8080/"
        },
        "id": "2uXvHSocIzbW",
        "outputId": "b24c1cfa-7d8f-40f5-bfa2-c13c948e8a05"
      },
      "source": [
        "df['Annual Salary'].fillna(float(df['Annual Salary'].mean()), inplace=True)\n",
        "df.isnull().sum()"
      ],
      "execution_count": 82,
      "outputs": [
        {
          "output_type": "execute_result",
          "data": {
            "text/plain": [
              "Date               0\n",
              "Gender             0\n",
              "Region             0\n",
              "Savings Account    0\n",
              "Merchant           0\n",
              "Customers          0\n",
              "Spend              0\n",
              "Transactions       0\n",
              "Age                0\n",
              "Annual Salary      0\n",
              "Account Type       0\n",
              "dtype: int64"
            ]
          },
          "metadata": {},
          "execution_count": 82
        }
      ]
    },
    {
      "cell_type": "code",
      "metadata": {
        "id": "nXN2qAWx9coq",
        "colab": {
          "base_uri": "https://localhost:8080/",
          "height": 282
        },
        "outputId": "cf6184fc-c096-49d3-b1b4-eccd0d77de99"
      },
      "source": [
        "df['Spend'].hist(bins=5)"
      ],
      "execution_count": 83,
      "outputs": [
        {
          "output_type": "execute_result",
          "data": {
            "text/plain": [
              "<matplotlib.axes._subplots.AxesSubplot at 0x7f49406379d0>"
            ]
          },
          "metadata": {},
          "execution_count": 83
        },
        {
          "output_type": "display_data",
          "data": {
            "image/png": "[encoded data removed]",
            "text/plain": [
              "<Figure size 432x288 with 1 Axes>"
            ]
          },
          "metadata": {
            "needs_background": "light"
          }
        }
      ]
    },
    {
      "cell_type": "code",
      "metadata": {
        "colab": {
          "base_uri": "https://localhost:8080/"
        },
        "id": "jfP2I7QZd5LU",
        "outputId": "17f60923-e18a-47d1-9f6b-a4f413a12452"
      },
      "source": [
        "df.value_counts()"
      ],
      "execution_count": 84,
      "outputs": [
        {
          "output_type": "execute_result",
          "data": {
            "text/plain": [
              "Date     Gender  Region   Savings Account  Merchant    Customers  Spend          Transactions  Age        Annual Salary  Account Type\n",
              "2019-12  M       Region3  Yes              Merchant Z  1467       119283.088200  6272          31.510182  25563.53064    MTA_only        1\n",
              "2018-09  M       Region2  No               Merchant X  399        27274.749770   1109          36.225520  26749.86608    MTA_CC          1\n",
              "                                           Merchant Z  1677       101662.449800  6023          30.455457  22700.40701    MTA_only        1\n",
              "                                                       635        54457.559490   2477          35.238250  27378.69789    MTA_CC          1\n",
              "                                                       119        9685.820038    399           35.933936  32483.76938    CC_only         1\n",
              "                                                                                                                                        ..\n",
              "2019-05  F       Region2  Yes              Merchant Z  852        53401.150020   2880          31.330583  23180.33905    MTA_only        1\n",
              "                                                       523        50785.249820   2036          35.884877  27339.87568    MTA_CC          1\n",
              "                                                       2          36.100000      6             28.000000  18105.72070    CC_only         1\n",
              "                                           Merchant Y  1360       112958.590500  6405          30.153493  21965.84568    MTA_only        1\n",
              "2018-01  F       Region1  No               Merchant X  5          755.969995     16            43.600000  22190.16016    CC_only         1\n",
              "Length: 2441, dtype: int64"
            ]
          },
          "metadata": {},
          "execution_count": 84
        }
      ]
    },
    {
      "cell_type": "markdown",
      "metadata": {
        "id": "oLoW-_-MdDK4"
      },
      "source": [
        "Q1. The Product and Marketing Director of Supermarket Z would like to introduce a new spend reward credit card to customers in a bid to :\n",
        "\n",
        "* Gain a share of the credit card market where currently they have no offering, they currently only operate a loyalty card\n",
        "\n",
        "* Drive increased spend in its stores by launching the credit card"
      ]
    },
    {
      "cell_type": "code",
      "metadata": {
        "colab": {
          "base_uri": "https://localhost:8080/",
          "height": 417
        },
        "id": "QaNvW0209-mE",
        "outputId": "4fa10039-31b9-4b9a-c093-1cf22b90912f"
      },
      "source": [
        "grouped_multiple = df.groupby(['Account Type','Gender','Region','Age'])['Spend'].mean().reset_index()\n",
        "grouped_multiple = pd.DataFrame(grouped_multiple)\n",
        "\n",
        "grouped_multiple.columns = [''.join(col) for col in grouped_multiple.columns]\n",
        "grouped_multiple['Spend']=pd.to_numeric(grouped_multiple['Spend'])\n",
        "grouped_multiple['Spend'].round(decimals = 1)\n",
        "grouped_multiple\n"
      ],
      "execution_count": 17,
      "outputs": [
        {
          "output_type": "execute_result",
          "data": {
            "text/html": [
              "<div>\n",
              "<style scoped>\n",
              "    .dataframe tbody tr th:only-of-type {\n",
              "        vertical-align: middle;\n",
              "    }\n",
              "\n",
              "    .dataframe tbody tr th {\n",
              "        vertical-align: top;\n",
              "    }\n",
              "\n",
              "    .dataframe thead th {\n",
              "        text-align: right;\n",
              "    }\n",
              "</style>\n",
              "<table border=\"1\" class=\"dataframe\">\n",
              "  <thead>\n",
              "    <tr style=\"text-align: right;\">\n",
              "      <th></th>\n",
              "      <th>Account Type</th>\n",
              "      <th>Gender</th>\n",
              "      <th>Region</th>\n",
              "      <th>Age</th>\n",
              "      <th>Spend</th>\n",
              "    </tr>\n",
              "  </thead>\n",
              "  <tbody>\n",
              "    <tr>\n",
              "      <th>0</th>\n",
              "      <td>CC_only</td>\n",
              "      <td>F</td>\n",
              "      <td>Region1</td>\n",
              "      <td>21.000000</td>\n",
              "      <td>1.850000</td>\n",
              "    </tr>\n",
              "    <tr>\n",
              "      <th>1</th>\n",
              "      <td>CC_only</td>\n",
              "      <td>F</td>\n",
              "      <td>Region1</td>\n",
              "      <td>25.000000</td>\n",
              "      <td>38.040001</td>\n",
              "    </tr>\n",
              "    <tr>\n",
              "      <th>2</th>\n",
              "      <td>CC_only</td>\n",
              "      <td>F</td>\n",
              "      <td>Region1</td>\n",
              "      <td>26.000000</td>\n",
              "      <td>43.440000</td>\n",
              "    </tr>\n",
              "    <tr>\n",
              "      <th>3</th>\n",
              "      <td>CC_only</td>\n",
              "      <td>F</td>\n",
              "      <td>Region1</td>\n",
              "      <td>28.000000</td>\n",
              "      <td>82.515005</td>\n",
              "    </tr>\n",
              "    <tr>\n",
              "      <th>4</th>\n",
              "      <td>CC_only</td>\n",
              "      <td>F</td>\n",
              "      <td>Region1</td>\n",
              "      <td>28.500000</td>\n",
              "      <td>172.529995</td>\n",
              "    </tr>\n",
              "    <tr>\n",
              "      <th>...</th>\n",
              "      <td>...</td>\n",
              "      <td>...</td>\n",
              "      <td>...</td>\n",
              "      <td>...</td>\n",
              "      <td>...</td>\n",
              "    </tr>\n",
              "    <tr>\n",
              "      <th>2340</th>\n",
              "      <td>MTA_only</td>\n",
              "      <td>M</td>\n",
              "      <td>Region3</td>\n",
              "      <td>33.779221</td>\n",
              "      <td>22108.000040</td>\n",
              "    </tr>\n",
              "    <tr>\n",
              "      <th>2341</th>\n",
              "      <td>MTA_only</td>\n",
              "      <td>M</td>\n",
              "      <td>Region3</td>\n",
              "      <td>33.831756</td>\n",
              "      <td>12793.349950</td>\n",
              "    </tr>\n",
              "    <tr>\n",
              "      <th>2342</th>\n",
              "      <td>MTA_only</td>\n",
              "      <td>M</td>\n",
              "      <td>Region3</td>\n",
              "      <td>34.026641</td>\n",
              "      <td>39301.889910</td>\n",
              "    </tr>\n",
              "    <tr>\n",
              "      <th>2343</th>\n",
              "      <td>MTA_only</td>\n",
              "      <td>M</td>\n",
              "      <td>Region3</td>\n",
              "      <td>34.066483</td>\n",
              "      <td>10138.940090</td>\n",
              "    </tr>\n",
              "    <tr>\n",
              "      <th>2344</th>\n",
              "      <td>MTA_only</td>\n",
              "      <td>M</td>\n",
              "      <td>Region3</td>\n",
              "      <td>34.131415</td>\n",
              "      <td>6366.970026</td>\n",
              "    </tr>\n",
              "  </tbody>\n",
              "</table>\n",
              "<p>2345 rows × 5 columns</p>\n",
              "</div>"
            ],
            "text/plain": [
              "     Account Type Gender   Region        Age         Spend\n",
              "0         CC_only      F  Region1  21.000000      1.850000\n",
              "1         CC_only      F  Region1  25.000000     38.040001\n",
              "2         CC_only      F  Region1  26.000000     43.440000\n",
              "3         CC_only      F  Region1  28.000000     82.515005\n",
              "4         CC_only      F  Region1  28.500000    172.529995\n",
              "...           ...    ...      ...        ...           ...\n",
              "2340     MTA_only      M  Region3  33.779221  22108.000040\n",
              "2341     MTA_only      M  Region3  33.831756  12793.349950\n",
              "2342     MTA_only      M  Region3  34.026641  39301.889910\n",
              "2343     MTA_only      M  Region3  34.066483  10138.940090\n",
              "2344     MTA_only      M  Region3  34.131415   6366.970026\n",
              "\n",
              "[2345 rows x 5 columns]"
            ]
          },
          "metadata": {},
          "execution_count": 17
        }
      ]
    },
    {
      "cell_type": "code",
      "metadata": {
        "colab": {
          "base_uri": "https://localhost:8080/",
          "height": 405
        },
        "id": "zbjEtxDQC_MH",
        "outputId": "fc93f69b-2784-4187-9348-c37db3415f81"
      },
      "source": [
        "plt.figure(figsize=(10, 6))\n",
        "color=sns.color_palette(\"coolwarm\")\n",
        "sns.barplot(x='Account Type', hue='Gender', y=\"Spend\", data=grouped_multiple, palette=color)\n",
        "plt.ylabel('Average Spend')\n",
        "plt.xlabel('Account Type')\n",
        "plt.title('Average Spendings Based on Account Type and Gender')\n",
        "plt.show()\n"
      ],
      "execution_count": 18,
      "outputs": [
        {
          "output_type": "display_data",
          "data": {
            "image/png": "[encoded data removed]",
            "text/plain": [
              "<Figure size 720x432 with 1 Axes>"
            ]
          },
          "metadata": {
            "needs_background": "light"
          }
        }
      ]
    },
    {
      "cell_type": "code",
      "metadata": {
        "colab": {
          "base_uri": "https://localhost:8080/",
          "height": 405
        },
        "id": "xiZ153PdKMxg",
        "outputId": "aeebd7b6-fa14-4921-c22b-996a0bac6484"
      },
      "source": [
        "plt.figure(figsize=(10, 6))\n",
        "color=sns.color_palette(\"hls\")\n",
        "sns.barplot(x='Account Type', hue='Region', y=\"Spend\", data=grouped_multiple, palette=color)\n",
        "plt.ylabel('Average Spend')\n",
        "plt.xlabel('Account Type')\n",
        "plt.title('Average Spending based on Account Type and Region')\n",
        "plt.show()\n"
      ],
      "execution_count": 45,
      "outputs": [
        {
          "output_type": "display_data",
          "data": {
            "image/png": "[encoded data removed]",
            "text/plain": [
              "<Figure size 720x432 with 1 Axes>"
            ]
          },
          "metadata": {
            "needs_background": "light"
          }
        }
      ]
    },
    {
      "cell_type": "code",
      "metadata": {
        "colab": {
          "base_uri": "https://localhost:8080/",
          "height": 265
        },
        "id": "PTaZMN17KSVx",
        "outputId": "bf6fae37-1c52-4d54-8f78-926cfad8db88"
      },
      "source": [
        "import numpy as np\n",
        "\n",
        "corr = np.corrcoef(grouped_multiple['Age'],grouped_multiple['Spend'])\n",
        "df.groupby('Account Type')[['Age','Spend']].corr()"
      ],
      "execution_count": 46,
      "outputs": [
        {
          "output_type": "execute_result",
          "data": {
            "text/html": [
              "<div>\n",
              "<style scoped>\n",
              "    .dataframe tbody tr th:only-of-type {\n",
              "        vertical-align: middle;\n",
              "    }\n",
              "\n",
              "    .dataframe tbody tr th {\n",
              "        vertical-align: top;\n",
              "    }\n",
              "\n",
              "    .dataframe thead th {\n",
              "        text-align: right;\n",
              "    }\n",
              "</style>\n",
              "<table border=\"1\" class=\"dataframe\">\n",
              "  <thead>\n",
              "    <tr style=\"text-align: right;\">\n",
              "      <th></th>\n",
              "      <th></th>\n",
              "      <th>Age</th>\n",
              "      <th>Spend</th>\n",
              "    </tr>\n",
              "    <tr>\n",
              "      <th>Account Type</th>\n",
              "      <th></th>\n",
              "      <th></th>\n",
              "      <th></th>\n",
              "    </tr>\n",
              "  </thead>\n",
              "  <tbody>\n",
              "    <tr>\n",
              "      <th rowspan=\"2\" valign=\"top\">CC_only</th>\n",
              "      <th>Age</th>\n",
              "      <td>1.000000</td>\n",
              "      <td>-0.186396</td>\n",
              "    </tr>\n",
              "    <tr>\n",
              "      <th>Spend</th>\n",
              "      <td>-0.186396</td>\n",
              "      <td>1.000000</td>\n",
              "    </tr>\n",
              "    <tr>\n",
              "      <th rowspan=\"2\" valign=\"top\">MTA_CC</th>\n",
              "      <th>Age</th>\n",
              "      <td>1.000000</td>\n",
              "      <td>-0.600506</td>\n",
              "    </tr>\n",
              "    <tr>\n",
              "      <th>Spend</th>\n",
              "      <td>-0.600506</td>\n",
              "      <td>1.000000</td>\n",
              "    </tr>\n",
              "    <tr>\n",
              "      <th rowspan=\"2\" valign=\"top\">MTA_only</th>\n",
              "      <th>Age</th>\n",
              "      <td>1.000000</td>\n",
              "      <td>-0.547424</td>\n",
              "    </tr>\n",
              "    <tr>\n",
              "      <th>Spend</th>\n",
              "      <td>-0.547424</td>\n",
              "      <td>1.000000</td>\n",
              "    </tr>\n",
              "  </tbody>\n",
              "</table>\n",
              "</div>"
            ],
            "text/plain": [
              "                         Age     Spend\n",
              "Account Type                          \n",
              "CC_only      Age    1.000000 -0.186396\n",
              "             Spend -0.186396  1.000000\n",
              "MTA_CC       Age    1.000000 -0.600506\n",
              "             Spend -0.600506  1.000000\n",
              "MTA_only     Age    1.000000 -0.547424\n",
              "             Spend -0.547424  1.000000"
            ]
          },
          "metadata": {},
          "execution_count": 46
        }
      ]
    },
    {
      "cell_type": "code",
      "metadata": {
        "id": "EYWbhPNANwNj",
        "colab": {
          "base_uri": "https://localhost:8080/",
          "height": 603
        },
        "outputId": "0d64390a-c22d-4963-8da4-1738dafc87c7"
      },
      "source": [
        "saving = df.groupby(['Account Type','Savings Account','Merchant'])['Spend'].mean().reset_index()\n",
        "saving\n"
      ],
      "execution_count": 26,
      "outputs": [
        {
          "output_type": "execute_result",
          "data": {
            "text/html": [
              "<div>\n",
              "<style scoped>\n",
              "    .dataframe tbody tr th:only-of-type {\n",
              "        vertical-align: middle;\n",
              "    }\n",
              "\n",
              "    .dataframe tbody tr th {\n",
              "        vertical-align: top;\n",
              "    }\n",
              "\n",
              "    .dataframe thead th {\n",
              "        text-align: right;\n",
              "    }\n",
              "</style>\n",
              "<table border=\"1\" class=\"dataframe\">\n",
              "  <thead>\n",
              "    <tr style=\"text-align: right;\">\n",
              "      <th></th>\n",
              "      <th>Account Type</th>\n",
              "      <th>Savings Account</th>\n",
              "      <th>Merchant</th>\n",
              "      <th>Spend</th>\n",
              "    </tr>\n",
              "  </thead>\n",
              "  <tbody>\n",
              "    <tr>\n",
              "      <th>0</th>\n",
              "      <td>CC_only</td>\n",
              "      <td>No</td>\n",
              "      <td>Merchant X</td>\n",
              "      <td>3995.149567</td>\n",
              "    </tr>\n",
              "    <tr>\n",
              "      <th>1</th>\n",
              "      <td>CC_only</td>\n",
              "      <td>No</td>\n",
              "      <td>Merchant Y</td>\n",
              "      <td>18854.656956</td>\n",
              "    </tr>\n",
              "    <tr>\n",
              "      <th>2</th>\n",
              "      <td>CC_only</td>\n",
              "      <td>No</td>\n",
              "      <td>Merchant Z</td>\n",
              "      <td>14672.319711</td>\n",
              "    </tr>\n",
              "    <tr>\n",
              "      <th>3</th>\n",
              "      <td>CC_only</td>\n",
              "      <td>Yes</td>\n",
              "      <td>Merchant X</td>\n",
              "      <td>90.764393</td>\n",
              "    </tr>\n",
              "    <tr>\n",
              "      <th>4</th>\n",
              "      <td>CC_only</td>\n",
              "      <td>Yes</td>\n",
              "      <td>Merchant Y</td>\n",
              "      <td>555.306323</td>\n",
              "    </tr>\n",
              "    <tr>\n",
              "      <th>5</th>\n",
              "      <td>CC_only</td>\n",
              "      <td>Yes</td>\n",
              "      <td>Merchant Z</td>\n",
              "      <td>327.099376</td>\n",
              "    </tr>\n",
              "    <tr>\n",
              "      <th>6</th>\n",
              "      <td>MTA_CC</td>\n",
              "      <td>No</td>\n",
              "      <td>Merchant X</td>\n",
              "      <td>22725.034123</td>\n",
              "    </tr>\n",
              "    <tr>\n",
              "      <th>7</th>\n",
              "      <td>MTA_CC</td>\n",
              "      <td>No</td>\n",
              "      <td>Merchant Y</td>\n",
              "      <td>95007.623326</td>\n",
              "    </tr>\n",
              "    <tr>\n",
              "      <th>8</th>\n",
              "      <td>MTA_CC</td>\n",
              "      <td>No</td>\n",
              "      <td>Merchant Z</td>\n",
              "      <td>68599.221287</td>\n",
              "    </tr>\n",
              "    <tr>\n",
              "      <th>9</th>\n",
              "      <td>MTA_CC</td>\n",
              "      <td>Yes</td>\n",
              "      <td>Merchant X</td>\n",
              "      <td>14984.888030</td>\n",
              "    </tr>\n",
              "    <tr>\n",
              "      <th>10</th>\n",
              "      <td>MTA_CC</td>\n",
              "      <td>Yes</td>\n",
              "      <td>Merchant Y</td>\n",
              "      <td>71989.249714</td>\n",
              "    </tr>\n",
              "    <tr>\n",
              "      <th>11</th>\n",
              "      <td>MTA_CC</td>\n",
              "      <td>Yes</td>\n",
              "      <td>Merchant Z</td>\n",
              "      <td>53063.335991</td>\n",
              "    </tr>\n",
              "    <tr>\n",
              "      <th>12</th>\n",
              "      <td>MTA_only</td>\n",
              "      <td>No</td>\n",
              "      <td>Merchant X</td>\n",
              "      <td>50220.986768</td>\n",
              "    </tr>\n",
              "    <tr>\n",
              "      <th>13</th>\n",
              "      <td>MTA_only</td>\n",
              "      <td>No</td>\n",
              "      <td>Merchant Y</td>\n",
              "      <td>189918.706953</td>\n",
              "    </tr>\n",
              "    <tr>\n",
              "      <th>14</th>\n",
              "      <td>MTA_only</td>\n",
              "      <td>No</td>\n",
              "      <td>Merchant Z</td>\n",
              "      <td>115882.329399</td>\n",
              "    </tr>\n",
              "    <tr>\n",
              "      <th>15</th>\n",
              "      <td>MTA_only</td>\n",
              "      <td>Yes</td>\n",
              "      <td>Merchant X</td>\n",
              "      <td>21423.320242</td>\n",
              "    </tr>\n",
              "    <tr>\n",
              "      <th>16</th>\n",
              "      <td>MTA_only</td>\n",
              "      <td>Yes</td>\n",
              "      <td>Merchant Y</td>\n",
              "      <td>85798.311118</td>\n",
              "    </tr>\n",
              "    <tr>\n",
              "      <th>17</th>\n",
              "      <td>MTA_only</td>\n",
              "      <td>Yes</td>\n",
              "      <td>Merchant Z</td>\n",
              "      <td>54479.794457</td>\n",
              "    </tr>\n",
              "  </tbody>\n",
              "</table>\n",
              "</div>"
            ],
            "text/plain": [
              "   Account Type Savings Account    Merchant          Spend\n",
              "0       CC_only              No  Merchant X    3995.149567\n",
              "1       CC_only              No  Merchant Y   18854.656956\n",
              "2       CC_only              No  Merchant Z   14672.319711\n",
              "3       CC_only             Yes  Merchant X      90.764393\n",
              "4       CC_only             Yes  Merchant Y     555.306323\n",
              "5       CC_only             Yes  Merchant Z     327.099376\n",
              "6        MTA_CC              No  Merchant X   22725.034123\n",
              "7        MTA_CC              No  Merchant Y   95007.623326\n",
              "8        MTA_CC              No  Merchant Z   68599.221287\n",
              "9        MTA_CC             Yes  Merchant X   14984.888030\n",
              "10       MTA_CC             Yes  Merchant Y   71989.249714\n",
              "11       MTA_CC             Yes  Merchant Z   53063.335991\n",
              "12     MTA_only              No  Merchant X   50220.986768\n",
              "13     MTA_only              No  Merchant Y  189918.706953\n",
              "14     MTA_only              No  Merchant Z  115882.329399\n",
              "15     MTA_only             Yes  Merchant X   21423.320242\n",
              "16     MTA_only             Yes  Merchant Y   85798.311118\n",
              "17     MTA_only             Yes  Merchant Z   54479.794457"
            ]
          },
          "metadata": {},
          "execution_count": 26
        }
      ]
    },
    {
      "cell_type": "code",
      "metadata": {
        "colab": {
          "base_uri": "https://localhost:8080/",
          "height": 405
        },
        "id": "c35W6EqP9lBU",
        "outputId": "66f9aa96-33e8-4fea-fb74-8bda625a005a"
      },
      "source": [
        "plt.figure(figsize=(10, 6))\n",
        "sns.barplot(x='Account Type', hue='Savings Account', y=\"Spend\", data=saving, palette='mako', ci=None)\n",
        "plt.ylabel('Average Spending')\n",
        "plt.xlabel('Account Type')\n",
        "plt.title('Average Spending based on Having a Saving Accounts')\n",
        "plt.show()"
      ],
      "execution_count": 27,
      "outputs": [
        {
          "output_type": "display_data",
          "data": {
            "image/png": "[encoded data removed]",
            "text/plain": [
              "<Figure size 720x432 with 1 Axes>"
            ]
          },
          "metadata": {
            "needs_background": "light"
          }
        }
      ]
    },
    {
      "cell_type": "code",
      "metadata": {
        "colab": {
          "base_uri": "https://localhost:8080/",
          "height": 404
        },
        "id": "ItISe4qN-Npi",
        "outputId": "cdeca278-02b4-4c38-8ea9-dcc54e2d011e"
      },
      "source": [
        "plt.figure(figsize=(10, 6))\n",
        "sns.barplot(x='Merchant', hue='Account Type', y=\"Spend\", data=saving, palette='cubehelix', ci=None)\n",
        "plt.ylabel('Average Spending')\n",
        "plt.xlabel('Account Type')\n",
        "plt.title('Average Spending based on Different Merchants')\n",
        "plt.show()"
      ],
      "execution_count": 30,
      "outputs": [
        {
          "output_type": "display_data",
          "data": {
            "image/png": "[encoded data removed]",
            "text/plain": [
              "<Figure size 720x432 with 1 Axes>"
            ]
          },
          "metadata": {
            "needs_background": "light"
          }
        }
      ]
    },
    {
      "cell_type": "code",
      "metadata": {
        "colab": {
          "base_uri": "https://localhost:8080/",
          "height": 404
        },
        "id": "0qHPzlQ3Ai6i",
        "outputId": "e0cc935f-5607-40ff-9e21-ad08a94678cf"
      },
      "source": [
        "plt.figure(figsize=(20, 6))\n",
        "color=sns.color_palette(\"tab10\")\n",
        "sns.barplot(x='Date', hue='Account Type', y=\"Spend\", data=df, palette=color)\n",
        "plt.ylabel('Average Spend')\n",
        "plt.xlabel('Month & Year')\n",
        "plt.title('Average Recent Spending based on Account Type')\n",
        "plt.show()"
      ],
      "execution_count": 54,
      "outputs": [
        {
          "output_type": "display_data",
          "data": {
            "image/png": "[encoded data removed]",
            "text/plain": [
              "<Figure size 1440x432 with 1 Axes>"
            ]
          },
          "metadata": {
            "needs_background": "light"
          }
        }
      ]
    },
    {
      "cell_type": "code",
      "metadata": {
        "id": "rR-Rg1Y3d9iz"
      },
      "source": [
        "df['Salary Classification']=pd.cut(df['Annual Salary'], bins=[0.0,20000.0,30000.0,122000.0], include_lowest=True, labels=['Low salary','Average salary','High salary'])"
      ],
      "execution_count": 141,
      "outputs": []
    },
    {
      "cell_type": "code",
      "metadata": {
        "colab": {
          "base_uri": "https://localhost:8080/",
          "height": 417
        },
        "id": "vBaE3uLkfLxh",
        "outputId": "b7c20102-4a57-4b93-9c5c-b3597ef9f509"
      },
      "source": [
        "df"
      ],
      "execution_count": 142,
      "outputs": [
        {
          "output_type": "execute_result",
          "data": {
            "text/html": [
              "<div>\n",
              "<style scoped>\n",
              "    .dataframe tbody tr th:only-of-type {\n",
              "        vertical-align: middle;\n",
              "    }\n",
              "\n",
              "    .dataframe tbody tr th {\n",
              "        vertical-align: top;\n",
              "    }\n",
              "\n",
              "    .dataframe thead th {\n",
              "        text-align: right;\n",
              "    }\n",
              "</style>\n",
              "<table border=\"1\" class=\"dataframe\">\n",
              "  <thead>\n",
              "    <tr style=\"text-align: right;\">\n",
              "      <th></th>\n",
              "      <th>Date</th>\n",
              "      <th>Gender</th>\n",
              "      <th>Region</th>\n",
              "      <th>Savings Account</th>\n",
              "      <th>Merchant</th>\n",
              "      <th>Customers</th>\n",
              "      <th>Spend</th>\n",
              "      <th>Transactions</th>\n",
              "      <th>Age</th>\n",
              "      <th>Annual Salary</th>\n",
              "      <th>Account Type</th>\n",
              "      <th>Salary Classification</th>\n",
              "    </tr>\n",
              "  </thead>\n",
              "  <tbody>\n",
              "    <tr>\n",
              "      <th>0</th>\n",
              "      <td>2018-01</td>\n",
              "      <td>F</td>\n",
              "      <td>Region1</td>\n",
              "      <td>No</td>\n",
              "      <td>Merchant X</td>\n",
              "      <td>5</td>\n",
              "      <td>755.969995</td>\n",
              "      <td>16</td>\n",
              "      <td>43.600000</td>\n",
              "      <td>22190.16016</td>\n",
              "      <td>CC_only</td>\n",
              "      <td>Average salary</td>\n",
              "    </tr>\n",
              "    <tr>\n",
              "      <th>1</th>\n",
              "      <td>2018-01</td>\n",
              "      <td>F</td>\n",
              "      <td>Region1</td>\n",
              "      <td>No</td>\n",
              "      <td>Merchant Z</td>\n",
              "      <td>15</td>\n",
              "      <td>2476.319986</td>\n",
              "      <td>65</td>\n",
              "      <td>41.666667</td>\n",
              "      <td>24281.88086</td>\n",
              "      <td>CC_only</td>\n",
              "      <td>Average salary</td>\n",
              "    </tr>\n",
              "    <tr>\n",
              "      <th>2</th>\n",
              "      <td>2018-01</td>\n",
              "      <td>F</td>\n",
              "      <td>Region1</td>\n",
              "      <td>No</td>\n",
              "      <td>Merchant Y</td>\n",
              "      <td>21</td>\n",
              "      <td>1447.930008</td>\n",
              "      <td>53</td>\n",
              "      <td>36.285714</td>\n",
              "      <td>38809.92057</td>\n",
              "      <td>CC_only</td>\n",
              "      <td>High salary</td>\n",
              "    </tr>\n",
              "    <tr>\n",
              "      <th>3</th>\n",
              "      <td>2018-01</td>\n",
              "      <td>F</td>\n",
              "      <td>Region1</td>\n",
              "      <td>No</td>\n",
              "      <td>Merchant X</td>\n",
              "      <td>134</td>\n",
              "      <td>7751.799956</td>\n",
              "      <td>388</td>\n",
              "      <td>33.897964</td>\n",
              "      <td>24596.98421</td>\n",
              "      <td>MTA_only</td>\n",
              "      <td>Average salary</td>\n",
              "    </tr>\n",
              "    <tr>\n",
              "      <th>4</th>\n",
              "      <td>2018-01</td>\n",
              "      <td>F</td>\n",
              "      <td>Region1</td>\n",
              "      <td>No</td>\n",
              "      <td>Merchant Z</td>\n",
              "      <td>247</td>\n",
              "      <td>18827.329980</td>\n",
              "      <td>1035</td>\n",
              "      <td>34.234351</td>\n",
              "      <td>25175.56021</td>\n",
              "      <td>MTA_only</td>\n",
              "      <td>Average salary</td>\n",
              "    </tr>\n",
              "    <tr>\n",
              "      <th>...</th>\n",
              "      <td>...</td>\n",
              "      <td>...</td>\n",
              "      <td>...</td>\n",
              "      <td>...</td>\n",
              "      <td>...</td>\n",
              "      <td>...</td>\n",
              "      <td>...</td>\n",
              "      <td>...</td>\n",
              "      <td>...</td>\n",
              "      <td>...</td>\n",
              "      <td>...</td>\n",
              "      <td>...</td>\n",
              "    </tr>\n",
              "    <tr>\n",
              "      <th>2436</th>\n",
              "      <td>2019-12</td>\n",
              "      <td>M</td>\n",
              "      <td>Region3</td>\n",
              "      <td>Yes</td>\n",
              "      <td>Merchant Z</td>\n",
              "      <td>1467</td>\n",
              "      <td>119283.088200</td>\n",
              "      <td>6272</td>\n",
              "      <td>31.510182</td>\n",
              "      <td>25563.53064</td>\n",
              "      <td>MTA_only</td>\n",
              "      <td>Average salary</td>\n",
              "    </tr>\n",
              "    <tr>\n",
              "      <th>2437</th>\n",
              "      <td>2019-12</td>\n",
              "      <td>M</td>\n",
              "      <td>Region3</td>\n",
              "      <td>Yes</td>\n",
              "      <td>Merchant Y</td>\n",
              "      <td>1675</td>\n",
              "      <td>140296.180800</td>\n",
              "      <td>7869</td>\n",
              "      <td>30.892663</td>\n",
              "      <td>24743.78859</td>\n",
              "      <td>MTA_only</td>\n",
              "      <td>Average salary</td>\n",
              "    </tr>\n",
              "    <tr>\n",
              "      <th>2438</th>\n",
              "      <td>2019-12</td>\n",
              "      <td>M</td>\n",
              "      <td>Region3</td>\n",
              "      <td>Yes</td>\n",
              "      <td>Merchant X</td>\n",
              "      <td>285</td>\n",
              "      <td>36851.680040</td>\n",
              "      <td>747</td>\n",
              "      <td>36.981574</td>\n",
              "      <td>28486.64450</td>\n",
              "      <td>MTA_CC</td>\n",
              "      <td>Average salary</td>\n",
              "    </tr>\n",
              "    <tr>\n",
              "      <th>2439</th>\n",
              "      <td>2019-12</td>\n",
              "      <td>M</td>\n",
              "      <td>Region3</td>\n",
              "      <td>Yes</td>\n",
              "      <td>Merchant Z</td>\n",
              "      <td>994</td>\n",
              "      <td>109566.431400</td>\n",
              "      <td>4480</td>\n",
              "      <td>35.275935</td>\n",
              "      <td>30046.30466</td>\n",
              "      <td>MTA_CC</td>\n",
              "      <td>High salary</td>\n",
              "    </tr>\n",
              "    <tr>\n",
              "      <th>2440</th>\n",
              "      <td>2019-12</td>\n",
              "      <td>M</td>\n",
              "      <td>Region3</td>\n",
              "      <td>Yes</td>\n",
              "      <td>Merchant Y</td>\n",
              "      <td>1112</td>\n",
              "      <td>109782.901300</td>\n",
              "      <td>5312</td>\n",
              "      <td>35.238501</td>\n",
              "      <td>30001.47487</td>\n",
              "      <td>MTA_CC</td>\n",
              "      <td>High salary</td>\n",
              "    </tr>\n",
              "  </tbody>\n",
              "</table>\n",
              "<p>2441 rows × 12 columns</p>\n",
              "</div>"
            ],
            "text/plain": [
              "         Date Gender   Region  ... Annual Salary Account Type  Salary Classification\n",
              "0     2018-01      F  Region1  ...   22190.16016      CC_only         Average salary\n",
              "1     2018-01      F  Region1  ...   24281.88086      CC_only         Average salary\n",
              "2     2018-01      F  Region1  ...   38809.92057      CC_only            High salary\n",
              "3     2018-01      F  Region1  ...   24596.98421     MTA_only         Average salary\n",
              "4     2018-01      F  Region1  ...   25175.56021     MTA_only         Average salary\n",
              "...       ...    ...      ...  ...           ...          ...                    ...\n",
              "2436  2019-12      M  Region3  ...   25563.53064     MTA_only         Average salary\n",
              "2437  2019-12      M  Region3  ...   24743.78859     MTA_only         Average salary\n",
              "2438  2019-12      M  Region3  ...   28486.64450       MTA_CC         Average salary\n",
              "2439  2019-12      M  Region3  ...   30046.30466       MTA_CC            High salary\n",
              "2440  2019-12      M  Region3  ...   30001.47487       MTA_CC            High salary\n",
              "\n",
              "[2441 rows x 12 columns]"
            ]
          },
          "metadata": {},
          "execution_count": 142
        }
      ]
    },
    {
      "cell_type": "code",
      "metadata": {
        "colab": {
          "base_uri": "https://localhost:8080/",
          "height": 404
        },
        "id": "EFu9TixcFZR_",
        "outputId": "595efa54-83bb-4704-d634-a2c8c726d256"
      },
      "source": [
        "plt.figure(figsize=(10, 6))\n",
        "sns.barplot(x='Salary Classification', hue='Account Type', y=\"Spend\", data=df, palette='cubehelix')\n",
        "plt.ylabel('Average Spending')\n",
        "plt.xlabel('Salary Classification')\n",
        "plt.title('Average Spending Based On Annual Salary')\n",
        "plt.show()"
      ],
      "execution_count": 145,
      "outputs": [
        {
          "output_type": "display_data",
          "data": {
            "image/png": "[encoded data removed]",
            "text/plain": [
              "<Figure size 720x432 with 1 Axes>"
            ]
          },
          "metadata": {
            "needs_background": "light"
          }
        }
      ]
    },
    {
      "cell_type": "code",
      "metadata": {
        "id": "ZTvKZ19BnytZ"
      },
      "source": [
        ""
      ],
      "execution_count": null,
      "outputs": []
    }
  ]
}